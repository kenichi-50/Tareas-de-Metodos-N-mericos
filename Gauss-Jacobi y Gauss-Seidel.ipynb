{
 "cells": [
  {
   "cell_type": "markdown",
   "id": "bd4fa801",
   "metadata": {},
   "source": [
    "# TAREA N° 11\n",
    "\n",
    "**Nombre:**\n",
    "\n",
    "Joel Stalin Tinitana Carrion \n",
    "\n",
    "**Fecha:**\n",
    "\n",
    "17/07/2025\n",
    "\n",
    "**Tema:**\n",
    "Gauss-Jacobi y Gauss-Seidel\n"
   ]
  },
  {
   "cell_type": "markdown",
   "id": "709eabf1",
   "metadata": {},
   "source": [
    "### CONJUNTO DE EJERCICIOS"
   ]
  },
  {
   "cell_type": "markdown",
   "id": "edf1ecab",
   "metadata": {},
   "source": [
    "### 1. Encuentre las primeras dos iteraciones del método de Jacobi para los siguientes sistemas lineales, por medio de $x^{(0)} = 0$:"
   ]
  },
  {
   "cell_type": "code",
   "execution_count": 2,
   "id": "278f4cde",
   "metadata": {},
   "outputs": [],
   "source": [
    "import numpy as np\n",
    "\n",
    "def jacobi_method_tolerance(A, b, x0, iteraciones, tolerancia):\n",
    "    D = np.diag(np.diag(A))\n",
    "    R = A - D\n",
    "    x = x0\n",
    "    \n",
    "    for i in range(iteraciones):\n",
    "        x_new = np.dot(np.linalg.inv(D), b - np.dot(R, x))\n",
    "        error = np.linalg.norm(x_new - x, ord=np.inf)\n",
    "        print(f\"Iteración {i+1}: x = {x_new}, Error = {error}\")\n",
    "        \n",
    "        if error < tolerancia:\n",
    "            print(f\"Convergencia alcanzada en la iteración {i+1} con error {error:.4e}.\\n\")\n",
    "            print(f\"Solución final: x = {x_new}\\n\")\n",
    "            return x_new\n",
    "        x = x_new\n",
    "    \n",
    "    print(f\"No se alcanzó la tolerancia después de {iteraciones} iteraciones.\")\n",
    "    print(f\"Solución aproximada: x = {x}\")\n",
    "\n",
    "tolerancia = 1e-6"
   ]
  },
  {
   "cell_type": "markdown",
   "id": "8e7799c8",
   "metadata": {
    "vscode": {
     "languageId": "plaintext"
    }
   },
   "source": [
    "a.\n",
    "$$\n",
    "\\begin{cases}\n",
    "3x_1 - x_2 + x_3 = 1, \\\\\n",
    "3x_1 + 6x_2 + 2x_3 = 0, \\\\\n",
    "3x_1 + 3x_2 + 7x_3 = 4,\n",
    "\\end{cases}\n",
    "$$"
   ]
  },
  {
   "cell_type": "code",
   "execution_count": 3,
   "id": "c7720f99",
   "metadata": {},
   "outputs": [
    {
     "name": "stdout",
     "output_type": "stream",
     "text": [
      "Iteración 1: x = [0.33333333 0.         0.57142857], Error = 0.5714285714285714\n",
      "Iteración 2: x = [ 0.14285714 -0.35714286  0.42857143], Error = 0.3571428571428571\n",
      "No se alcanzó la tolerancia después de 2 iteraciones.\n",
      "Solución aproximada: x = [ 0.14285714 -0.35714286  0.42857143]\n"
     ]
    }
   ],
   "source": [
    "A = np.array([\n",
    "    [3, -1, 1],\n",
    "    [3, 6, 2],\n",
    "    [3, 3, 7]\n",
    "])\n",
    "b = np.array([1, 0, 4])\n",
    "x0 = np.zeros(3)\n",
    "jacobi_method_tolerance(A, b, x0, 2, tolerancia)"
   ]
  },
  {
   "cell_type": "markdown",
   "id": "ca5de8d2",
   "metadata": {},
   "source": [
    "b.\n",
    "$$\n",
    "\\begin{cases}\n",
    "10x_1 - x_2 = 9, \\\\\n",
    "-x_1 + 10x_2 - 2x_3 = 7, \\\\\n",
    "-2x_2 + 10x_3 = 6,\n",
    "\\end{cases}\n",
    "$$"
   ]
  },
  {
   "cell_type": "code",
   "execution_count": 4,
   "id": "a56f2af0",
   "metadata": {},
   "outputs": [
    {
     "name": "stdout",
     "output_type": "stream",
     "text": [
      "Iteración 1: x = [0.9 0.7 0.6], Error = 0.9\n",
      "Iteración 2: x = [0.97 0.91 0.74], Error = 0.20999999999999996\n",
      "No se alcanzó la tolerancia después de 2 iteraciones.\n",
      "Solución aproximada: x = [0.97 0.91 0.74]\n"
     ]
    }
   ],
   "source": [
    "A = np.array([\n",
    "    [10, -1, 0],\n",
    "    [-1, 10, -2],\n",
    "    [0, -2, 10]\n",
    "])\n",
    "b = np.array([9, 7, 6])\n",
    "x0 = np.zeros(3)\n",
    "jacobi_method_tolerance(A, b, x0, 2, tolerancia)"
   ]
  },
  {
   "cell_type": "markdown",
   "id": "7ea534de",
   "metadata": {},
   "source": [
    "c.\n",
    "$$\n",
    "\\begin{cases}\n",
    "10x_1 + 5x_2 = 6, \\\\\n",
    "5x_1 + 10x_2 - 4x_3 = 25, \\\\\n",
    "-4x_2 + 8x_3 - x_4 = -11, \\\\\n",
    "-x_3 + 5x_4 = -11,\n",
    "\\end{cases}\n",
    "$$"
   ]
  },
  {
   "cell_type": "code",
   "execution_count": 5,
   "id": "4df70152",
   "metadata": {},
   "outputs": [
    {
     "name": "stdout",
     "output_type": "stream",
     "text": [
      "Iteración 1: x = [ 0.6    2.5   -1.375 -2.2  ], Error = 2.5\n",
      "Iteración 2: x = [-0.65   1.65  -0.4   -2.475], Error = 1.25\n",
      "No se alcanzó la tolerancia después de 2 iteraciones.\n",
      "Solución aproximada: x = [-0.65   1.65  -0.4   -2.475]\n"
     ]
    }
   ],
   "source": [
    "A = np.array([\n",
    "    [10, 5, 0, 0],\n",
    "    [5, 10, -4, 0],\n",
    "    [0, -4, 8, -1],\n",
    "    [0, 0, -1, 5]\n",
    "])\n",
    "b = np.array([6, 25, -11, -11])\n",
    "x0 = np.zeros(4)\n",
    "jacobi_method_tolerance(A, b, x0, 2, tolerancia)"
   ]
  },
  {
   "cell_type": "markdown",
   "id": "bad87275",
   "metadata": {},
   "source": [
    "d.\n",
    "$$\n",
    "\\begin{cases}\n",
    "4x_1 + x_2 + x_3 + x_5 = 6, \\\\\n",
    "- x_1 - 3x_2 + x_3 + x_4 = 6, \\\\\n",
    "2x_1 + x_2 + 5x_3 - x_4 - x_5 = 6, \\\\\n",
    "- x_1 - x_2 - x_3 + 4x_4 = 6, \\\\\n",
    "2x_2 - x_3 + x_4 + 4x_5 = 6.\n",
    "\\end{cases}\n",
    "$$"
   ]
  },
  {
   "cell_type": "code",
   "execution_count": 6,
   "id": "ac0e76f5",
   "metadata": {},
   "outputs": [
    {
     "name": "stdout",
     "output_type": "stream",
     "text": [
      "Iteración 1: x = [ 1.5 -2.   1.2  1.5  1.5], Error = 2.0\n",
      "Iteración 2: x = [ 0.95  -1.6    1.6    0.475  1.45 ], Error = 1.0250000000000001\n",
      "No se alcanzó la tolerancia después de 2 iteraciones.\n",
      "Solución aproximada: x = [ 0.95  -1.6    1.6    0.475  1.45 ]\n"
     ]
    }
   ],
   "source": [
    "A = np.array([\n",
    "    [4, 1, 1, 1, 1],\n",
    "    [-1, -3, 1, 1, 0],\n",
    "    [2, 1, 5, -1, -1],\n",
    "    [-1, -1, 3, 4, 0],\n",
    "    [2, 2, 1, 0, 4]\n",
    "])\n",
    "b = np.array([6, 6, 6, 6, 6])\n",
    "x0 = np.zeros(5)\n",
    "jacobi_method_tolerance(A, b, x0, 2, tolerancia)"
   ]
  },
  {
   "cell_type": "markdown",
   "id": "e7237344",
   "metadata": {},
   "source": [
    "### 2. Repita el ejercicio 1 usando el método de Gauss-Seidel.\n"
   ]
  },
  {
   "cell_type": "code",
   "execution_count": 8,
   "id": "91940817",
   "metadata": {},
   "outputs": [],
   "source": [
    "def gauss_seidel_method(A, b, x0, iteraciones, tolerancia):\n",
    "    n = len(b)\n",
    "    x = x0.copy()\n",
    "    \n",
    "    for k in range(iteraciones):\n",
    "        x_new = x.copy()\n",
    "        for i in range(n):\n",
    "            suma = sum(A[i, j] * x_new[j] for j in range(n) if j != i)\n",
    "            x_new[i] = (b[i] - suma) / A[i, i]\n",
    "        \n",
    "        error = np.linalg.norm(x_new - x, ord=np.inf)\n",
    "        print(f\"Iteración {k+1}: x = {x_new}, Error = {error}\")\n",
    "        \n",
    "        if error < tolerancia:\n",
    "            print(f\"Convergencia alcanzada en la iteración {k+1} con error {error:.4e}.\\n\")\n",
    "            print(f\"Solución final: x = {x_new}\\n\")\n",
    "            return x_new\n",
    "        x = x_new\n",
    "    \n",
    "    print(f\"No se alcanzó la tolerancia después de {iteraciones} iteraciones.\")\n",
    "    print(f\"Solución aproximada: x = {x}\")\n",
    "\n",
    "tolerancia = 1e-6"
   ]
  },
  {
   "cell_type": "markdown",
   "id": "f7c60f95",
   "metadata": {},
   "source": [
    "a.\n",
    "$$\n",
    "\\begin{cases}\n",
    "3x_1 - x_2 + x_3 = 1, \\\\\n",
    "3x_1 + 6x_2 + 2x_3 = 0, \\\\\n",
    "3x_1 + 3x_2 + 7x_3 = 4,\n",
    "\\end{cases}\n",
    "$$"
   ]
  },
  {
   "cell_type": "code",
   "execution_count": 9,
   "id": "af61829e",
   "metadata": {},
   "outputs": [
    {
     "name": "stdout",
     "output_type": "stream",
     "text": [
      "Iteración 1: x = [ 0.33333333 -0.16666667  0.5       ], Error = 0.5\n",
      "Iteración 2: x = [ 0.11111111 -0.22222222  0.61904762], Error = 0.2222222222222222\n",
      "No se alcanzó la tolerancia después de 2 iteraciones.\n",
      "Solución aproximada: x = [ 0.11111111 -0.22222222  0.61904762]\n"
     ]
    }
   ],
   "source": [
    "\n",
    "A = np.array([\n",
    "    [3, -1, 1],\n",
    "    [3, 6, 2],\n",
    "    [3, 3, 7]\n",
    "])\n",
    "b = np.array([1, 0, 4])\n",
    "x0 = np.zeros(3)\n",
    "gauss_seidel_method(A, b, x0, 2, tolerancia)"
   ]
  },
  {
   "cell_type": "markdown",
   "id": "ec694cb2",
   "metadata": {},
   "source": [
    "b.\n",
    "$$\n",
    "\\begin{cases}\n",
    "10x_1 - x_2 = 9, \\\\\n",
    "-x_1 + 10x_2 - 2x_3 = 7, \\\\\n",
    "-2x_2 + 10x_3 = 6,\n",
    "\\end{cases}\n",
    "$$"
   ]
  },
  {
   "cell_type": "code",
   "execution_count": 10,
   "id": "5bbce859",
   "metadata": {},
   "outputs": [
    {
     "name": "stdout",
     "output_type": "stream",
     "text": [
      "Iteración 1: x = [0.9   0.79  0.758], Error = 0.9\n",
      "Iteración 2: x = [0.979  0.9495 0.7899], Error = 0.1595000000000001\n",
      "No se alcanzó la tolerancia después de 2 iteraciones.\n",
      "Solución aproximada: x = [0.979  0.9495 0.7899]\n"
     ]
    }
   ],
   "source": [
    "A = np.array([\n",
    "    [10, -1, 0],\n",
    "    [-1, 10, -2],\n",
    "    [0, -2, 10]\n",
    "])\n",
    "b = np.array([9, 7, 6])\n",
    "x0 = np.zeros(3)\n",
    "gauss_seidel_method(A, b, x0, 2, tolerancia)"
   ]
  },
  {
   "cell_type": "markdown",
   "id": "2af676db",
   "metadata": {},
   "source": [
    "c.\n",
    "$$\n",
    "\\begin{cases}\n",
    "10x_1 + 5x_2 = 6, \\\\\n",
    "5x_1 + 10x_2 - 4x_3 = 25, \\\\\n",
    "-4x_2 + 8x_3 - x_4 = -11, \\\\\n",
    "-x_3 + 5x_4 = -11,\n",
    "\\end{cases}\n",
    "$$"
   ]
  },
  {
   "cell_type": "code",
   "execution_count": 11,
   "id": "7df88d63",
   "metadata": {},
   "outputs": [
    {
     "name": "stdout",
     "output_type": "stream",
     "text": [
      "Iteración 1: x = [ 0.6    2.2   -0.275 -2.255], Error = 2.255\n",
      "Iteración 2: x = [-0.5       2.64     -0.336875 -2.267375], Error = 1.1\n",
      "No se alcanzó la tolerancia después de 2 iteraciones.\n",
      "Solución aproximada: x = [-0.5       2.64     -0.336875 -2.267375]\n"
     ]
    }
   ],
   "source": [
    "A = np.array([\n",
    "    [10, 5, 0, 0],\n",
    "    [5, 10, -4, 0],\n",
    "    [0, -4, 8, -1],\n",
    "    [0, 0, -1, 5]\n",
    "])\n",
    "b = np.array([6, 25, -11, -11])\n",
    "x0 = np.zeros(4)\n",
    "gauss_seidel_method(A, b, x0, 2, tolerancia)"
   ]
  },
  {
   "cell_type": "markdown",
   "id": "4895754b",
   "metadata": {},
   "source": [
    "d.\n",
    "$$\n",
    "\\begin{cases}\n",
    "4x_1 + x_2 + x_3 + x_5 = 6, \\\\\n",
    "- x_1 - 3x_2 + x_3 + x_4 = 6, \\\\\n",
    "2x_1 + x_2 + 5x_3 - x_4 - x_5 = 6, \\\\\n",
    "- x_1 - x_2 - x_3 + 4x_4 = 6, \\\\\n",
    "2x_2 - x_3 + x_4 + 4x_5 = 6.\n",
    "\\end{cases}\n",
    "$$"
   ]
  },
  {
   "cell_type": "code",
   "execution_count": 12,
   "id": "7f076896",
   "metadata": {},
   "outputs": [
    {
     "name": "stdout",
     "output_type": "stream",
     "text": [
      "Iteración 1: x = [ 1.5   -2.5    1.1    0.425  1.725], Error = 2.5\n",
      "Iteración 2: x = [ 1.3125     -1.92916667  1.49083333  0.22770833  1.435625  ], Error = 0.5708333333333335\n",
      "No se alcanzó la tolerancia después de 2 iteraciones.\n",
      "Solución aproximada: x = [ 1.3125     -1.92916667  1.49083333  0.22770833  1.435625  ]\n"
     ]
    }
   ],
   "source": [
    "\n",
    "A = np.array([\n",
    "    [4, 1, 1, 1, 1],\n",
    "    [-1, -3, 1, 1, 0],\n",
    "    [2, 1, 5, -1, -1],\n",
    "    [-1, -1, 3, 4, 0],\n",
    "    [2, 2, 1, 0, 4]\n",
    "])\n",
    "b = np.array([6, 6, 6, 6, 6])\n",
    "x0 = np.zeros(5)\n",
    "gauss_seidel_method(A, b, x0, 2, tolerancia)"
   ]
  },
  {
   "cell_type": "markdown",
   "id": "2a02bec0",
   "metadata": {},
   "source": [
    "### 3. Utilice el método de Jacobi para resolver los sistemas lineales en el ejercicio 1, con $TOL = 10^{-3}$.\n"
   ]
  },
  {
   "cell_type": "code",
   "execution_count": 13,
   "id": "28881f38",
   "metadata": {},
   "outputs": [],
   "source": [
    "tolerancia = 1e-3"
   ]
  },
  {
   "cell_type": "markdown",
   "id": "8506baa2",
   "metadata": {},
   "source": [
    "a.\n",
    "$$\n",
    "\\begin{cases}\n",
    "3x_1 - x_2 + x_3 = 1, \\\\\n",
    "3x_1 + 6x_2 + 2x_3 = 0, \\\\\n",
    "3x_1 + 3x_2 + 7x_3 = 4,\n",
    "\\end{cases}\n",
    "$$"
   ]
  },
  {
   "cell_type": "code",
   "execution_count": 14,
   "id": "2f3345cf",
   "metadata": {},
   "outputs": [
    {
     "name": "stdout",
     "output_type": "stream",
     "text": [
      "Iteración 1: x = [0.33333333 0.         0.57142857], Error = 0.5714285714285714\n",
      "Iteración 2: x = [ 0.14285714 -0.35714286  0.42857143], Error = 0.3571428571428571\n",
      "Iteración 3: x = [ 0.07142857 -0.21428571  0.66326531], Error = 0.23469387755102028\n",
      "Iteración 4: x = [ 0.04081633 -0.25680272  0.63265306], Error = 0.04251700680272108\n",
      "Iteración 5: x = [ 0.03684807 -0.23129252  0.66399417], Error = 0.031341107871720064\n",
      "Iteración 6: x = [ 0.03490444 -0.23975543  0.6547619 ], Error = 0.00923226433430513\n",
      "Iteración 7: x = [ 0.03516089 -0.23570619  0.65922185], Error = 0.0044599472442037325\n",
      "Iteración 8: x = [ 0.03502399 -0.23732106  0.65737656], Error = 0.0018452959415058423\n",
      "Iteración 9: x = [ 0.03510079 -0.23663751  0.65812732], Error = 0.0007507619179839553\n",
      "Convergencia alcanzada en la iteración 9 con error 7.5076e-04.\n",
      "\n",
      "Solución final: x = [ 0.03510079 -0.23663751  0.65812732]\n",
      "\n"
     ]
    }
   ],
   "source": [
    "A = np.array([\n",
    "    [3, -1, 1],\n",
    "    [3, 6, 2],\n",
    "    [3, 3, 7]\n",
    "])\n",
    "b = np.array([1, 0, 4])\n",
    "x0 = np.zeros(3)\n",
    "_ =jacobi_method_tolerance(A, b, x0, 50, tolerancia)"
   ]
  },
  {
   "cell_type": "markdown",
   "id": "5a4b9d9c",
   "metadata": {},
   "source": [
    "b.\n",
    "$$\n",
    "\\begin{cases}\n",
    "10x_1 - x_2 = 9, \\\\\n",
    "-x_1 + 10x_2 - 2x_3 = 7, \\\\\n",
    "-2x_2 + 10x_3 = 6,\n",
    "\\end{cases}\n",
    "$$"
   ]
  },
  {
   "cell_type": "code",
   "execution_count": 15,
   "id": "a4a3b135",
   "metadata": {},
   "outputs": [
    {
     "name": "stdout",
     "output_type": "stream",
     "text": [
      "Iteración 1: x = [0.9 0.7 0.6], Error = 0.9\n",
      "Iteración 2: x = [0.97 0.91 0.74], Error = 0.20999999999999996\n",
      "Iteración 3: x = [0.991 0.945 0.782], Error = 0.041999999999999926\n",
      "Iteración 4: x = [0.9945 0.9555 0.789 ], Error = 0.010500000000000065\n",
      "Iteración 5: x = [0.99555 0.95725 0.7911 ], Error = 0.0020999999999999908\n",
      "Iteración 6: x = [0.995725 0.957775 0.79145 ], Error = 0.0005249999999999977\n",
      "Convergencia alcanzada en la iteración 6 con error 5.2500e-04.\n",
      "\n",
      "Solución final: x = [0.995725 0.957775 0.79145 ]\n",
      "\n"
     ]
    }
   ],
   "source": [
    "A = np.array([\n",
    "    [10, -1, 0],\n",
    "    [-1, 10, -2],\n",
    "    [0, -2, 10]\n",
    "])\n",
    "b = np.array([9, 7, 6])\n",
    "x0 = np.zeros(3)\n",
    "_ =jacobi_method_tolerance(A, b, x0, 50, tolerancia)"
   ]
  },
  {
   "cell_type": "markdown",
   "id": "a05d2646",
   "metadata": {},
   "source": [
    "c.\n",
    "$$\n",
    "\\begin{cases}\n",
    "10x_1 + 5x_2 = 6, \\\\\n",
    "5x_1 + 10x_2 - 4x_3 = 25, \\\\\n",
    "-4x_2 + 8x_3 - x_4 = -11, \\\\\n",
    "-x_3 + 5x_4 = -11,\n",
    "\\end{cases}\n",
    "$$"
   ]
  },
  {
   "cell_type": "code",
   "execution_count": 16,
   "id": "977aab5e",
   "metadata": {},
   "outputs": [
    {
     "name": "stdout",
     "output_type": "stream",
     "text": [
      "Iteración 1: x = [ 0.6    2.5   -1.375 -2.2  ], Error = 2.5\n",
      "Iteración 2: x = [-0.65   1.65  -0.4   -2.475], Error = 1.25\n",
      "Iteración 3: x = [-0.225     2.665    -0.859375 -2.28    ], Error = 1.015\n",
      "Iteración 4: x = [-0.7325    2.26875  -0.3275   -2.371875], Error = 0.5318749999999999\n",
      "Iteración 5: x = [-0.534375    2.73525    -0.53710937 -2.2655    ], Error = 0.4664999999999999\n",
      "Iteración 6: x = [-0.767625    2.55234375 -0.2905625  -2.30742188], Error = 0.24654687499999983\n",
      "Iteración 7: x = [-0.67617188  2.7675875  -0.38725586 -2.2581125 ], Error = 0.21524374999999996\n",
      "Iteración 8: x = [-0.78379375  2.68318359 -0.27347031 -2.27745117], Error = 0.11378554687500009\n",
      "Iteración 9: x = [-0.7415918   2.78250875 -0.3180896  -2.25469406], Error = 0.09932515624999994\n",
      "Iteración 10: x = [-0.79125438  2.74356006 -0.26558238 -2.26361792], Error = 0.05250721679687498\n",
      "Iteración 11: x = [-0.77178003  2.78939423 -0.28617221 -2.25311648], Error = 0.04583417578125015\n",
      "Iteración 12: x = [-0.79469712  2.77142113 -0.26194244 -2.25723444], Error = 0.024229768310547017\n",
      "Iteración 13: x = [-0.78571057  2.79257158 -0.27144374 -2.25238849], Error = 0.021150451269531523\n",
      "Iteración 14: x = [-0.79628579  2.78427779 -0.26026277 -2.25428875], Error = 0.011180969842529587\n",
      "Iteración 15: x = [-0.79213889  2.79403779 -0.2646472  -2.25205255], Error = 0.009760000754394316\n",
      "Iteración 16: x = [-0.79701889  2.79021057 -0.25948768 -2.25292944], Error = 0.005159524623260303\n",
      "Iteración 17: x = [-0.79510528  2.79471438 -0.2615109  -2.25189754], Error = 0.004503810037902678\n",
      "Iteración 18: x = [-0.79735719  2.79294828 -0.25913    -2.25230218], Error = 0.0023808931345328244\n",
      "Iteración 19: x = [-0.79647414  2.79502659 -0.26006363 -2.251826  ], Error = 0.0020783097632888214\n",
      "Iteración 20: x = [-0.7975133   2.79421162 -0.25896495 -2.25201273], Error = 0.0010986772100076703\n",
      "Iteración 21: x = [-0.79710581  2.79517067 -0.25939578 -2.25179299], Error = 0.0009590483248249626\n",
      "Convergencia alcanzada en la iteración 21 con error 9.5905e-04.\n",
      "\n",
      "Solución final: x = [-0.79710581  2.79517067 -0.25939578 -2.25179299]\n",
      "\n"
     ]
    }
   ],
   "source": [
    "A = np.array([\n",
    "    [10, 5, 0, 0],\n",
    "    [5, 10, -4, 0],\n",
    "    [0, -4, 8, -1],\n",
    "    [0, 0, -1, 5]\n",
    "])\n",
    "b = np.array([6, 25, -11, -11])\n",
    "x0 = np.zeros(4)\n",
    "_ =jacobi_method_tolerance(A, b, x0, 50, tolerancia)"
   ]
  },
  {
   "cell_type": "markdown",
   "id": "bf292256",
   "metadata": {},
   "source": [
    "d.\n",
    "$$\n",
    "\\begin{cases}\n",
    "4x_1 + x_2 + x_3 + x_5 = 6, \\\\\n",
    "- x_1 - 3x_2 + x_3 + x_4 = 6, \\\\\n",
    "2x_1 + x_2 + 5x_3 - x_4 - x_5 = 6, \\\\\n",
    "- x_1 - x_2 - x_3 + 4x_4 = 6, \\\\\n",
    "2x_2 - x_3 + x_4 + 4x_5 = 6.\n",
    "\\end{cases}\n",
    "$$"
   ]
  },
  {
   "cell_type": "code",
   "execution_count": 17,
   "id": "656dbbe2",
   "metadata": {},
   "outputs": [
    {
     "name": "stdout",
     "output_type": "stream",
     "text": [
      "Iteración 1: x = [ 1.5 -2.   1.2  1.5  1.5], Error = 2.0\n",
      "Iteración 2: x = [ 0.95  -1.6    1.6    0.475  1.45 ], Error = 1.0250000000000001\n",
      "Iteración 3: x = [ 1.01875 -1.625    1.525    0.1375   1.425  ], Error = 0.3374999999999999\n",
      "Iteración 4: x = [ 1.134375   -1.78541667  1.43        0.2046875   1.421875  ], Error = 0.16041666666666665\n",
      "Iteración 5: x = [ 1.18221354 -1.83322917  1.42864583  0.26473958  1.46802083], Error = 0.06005208333333334\n",
      "Iteración 6: x = [ 1.16795573 -1.82960937  1.4403125   0.26576172  1.46834635], Error = 0.014257812499999911\n",
      "Iteración 7: x = [ 1.1637972  -1.82062717  1.4455612   0.25435221  1.4707487 ], Error = 0.01140950520833317\n",
      "Iteración 8: x = [ 1.16249127 -1.8212946   1.44362674  0.25162161  1.46702469], Error = 0.0037240125868054363\n",
      "Iteración 9: x = [ 1.16475539 -1.82241431  1.44299167  0.25257912  1.46849498], Error = 0.0022641262478297897\n",
      "Iteración 10: x = [ 1.16458713 -1.82306153  1.44279552  0.25334152  1.46808154], Error = 0.0007624020046654856\n",
      "Convergencia alcanzada en la iteración 10 con error 7.6240e-04.\n",
      "\n",
      "Solución final: x = [ 1.16458713 -1.82306153  1.44279552  0.25334152  1.46808154]\n",
      "\n"
     ]
    }
   ],
   "source": [
    "A = np.array([\n",
    "    [4, 1, 1, 1, 1],\n",
    "    [-1, -3, 1, 1, 0],\n",
    "    [2, 1, 5, -1, -1],\n",
    "    [-1, -1, 3, 4, 0],\n",
    "    [2, 2, 1, 0, 4]\n",
    "])\n",
    "b = np.array([6, 6, 6, 6, 6])\n",
    "x0 = np.zeros(5)\n",
    "_ =jacobi_method_tolerance(A, b, x0, 50, tolerancia)"
   ]
  },
  {
   "cell_type": "markdown",
   "id": "1f2554fd",
   "metadata": {},
   "source": [
    "### 4. Utilice el método de Gauss-Seidel para resolver los sistemas lineales en el ejercicio 1, con $TOL = 10^{-3}$.\n"
   ]
  },
  {
   "cell_type": "markdown",
   "id": "86687e82",
   "metadata": {},
   "source": [
    "a.\n",
    "$$\n",
    "\\begin{cases}\n",
    "3x_1 - x_2 + x_3 = 1, \\\\\n",
    "3x_1 + 6x_2 + 2x_3 = 0, \\\\\n",
    "3x_1 + 3x_2 + 7x_3 = 4,\n",
    "\\end{cases}\n",
    "$$"
   ]
  },
  {
   "cell_type": "code",
   "execution_count": 18,
   "id": "05751128",
   "metadata": {},
   "outputs": [
    {
     "name": "stdout",
     "output_type": "stream",
     "text": [
      "Iteración 1: x = [ 0.33333333 -0.16666667  0.5       ], Error = 0.5\n",
      "Iteración 2: x = [ 0.11111111 -0.22222222  0.61904762], Error = 0.2222222222222222\n",
      "Iteración 3: x = [ 0.05291005 -0.23280423  0.64852608], Error = 0.05820105820105818\n",
      "Iteración 4: x = [ 0.03955656 -0.23595364  0.65559875], Error = 0.013353489543965757\n",
      "Iteración 5: x = [ 0.0361492  -0.23660752  0.65733928], Error = 0.003407359416429702\n",
      "Iteración 6: x = [ 0.03535107 -0.23678863  0.65775895], Error = 0.0007981356647807844\n",
      "Convergencia alcanzada en la iteración 6 con error 7.9814e-04.\n",
      "\n",
      "Solución final: x = [ 0.03535107 -0.23678863  0.65775895]\n",
      "\n"
     ]
    }
   ],
   "source": [
    "\n",
    "A = np.array([\n",
    "    [3, -1, 1],\n",
    "    [3, 6, 2],\n",
    "    [3, 3, 7]\n",
    "])\n",
    "b = np.array([1, 0, 4])\n",
    "x0 = np.zeros(3)\n",
    "_ =gauss_seidel_method(A, b, x0, 50, tolerancia)"
   ]
  },
  {
   "cell_type": "markdown",
   "id": "618b508e",
   "metadata": {},
   "source": [
    "b.\n",
    "$$\n",
    "\\begin{cases}\n",
    "10x_1 - x_2 = 9, \\\\\n",
    "-x_1 + 10x_2 - 2x_3 = 7, \\\\\n",
    "-2x_2 + 10x_3 = 6,\n",
    "\\end{cases}\n",
    "$$"
   ]
  },
  {
   "cell_type": "code",
   "execution_count": 19,
   "id": "21b00377",
   "metadata": {},
   "outputs": [
    {
     "name": "stdout",
     "output_type": "stream",
     "text": [
      "Iteración 1: x = [0.9   0.79  0.758], Error = 0.9\n",
      "Iteración 2: x = [0.979  0.9495 0.7899], Error = 0.1595000000000001\n",
      "Iteración 3: x = [0.99495  0.957475 0.791495], Error = 0.01595000000000013\n",
      "Iteración 4: x = [0.9957475  0.95787375 0.79157475], Error = 0.0007975000000000065\n",
      "Convergencia alcanzada en la iteración 4 con error 7.9750e-04.\n",
      "\n",
      "Solución final: x = [0.9957475  0.95787375 0.79157475]\n",
      "\n"
     ]
    }
   ],
   "source": [
    "\n",
    "A = np.array([\n",
    "    [10, -1, 0],\n",
    "    [-1, 10, -2],\n",
    "    [0, -2, 10]\n",
    "])\n",
    "b = np.array([9, 7, 6])\n",
    "x0 = np.zeros(3)\n",
    "_ =gauss_seidel_method(A, b, x0, 50, tolerancia)"
   ]
  },
  {
   "cell_type": "markdown",
   "id": "e52aadf0",
   "metadata": {},
   "source": [
    "c.\n",
    "$$\n",
    "\\begin{cases}\n",
    "10x_1 + 5x_2 = 6, \\\\\n",
    "5x_1 + 10x_2 - 4x_3 = 25, \\\\\n",
    "-4x_2 + 8x_3 - x_4 = -11, \\\\\n",
    "-x_3 + 5x_4 = -11,\n",
    "\\end{cases}\n",
    "$$"
   ]
  },
  {
   "cell_type": "code",
   "execution_count": 20,
   "id": "af7fb04b",
   "metadata": {},
   "outputs": [
    {
     "name": "stdout",
     "output_type": "stream",
     "text": [
      "Iteración 1: x = [ 0.6    2.2   -0.275 -2.255], Error = 2.255\n",
      "Iteración 2: x = [-0.5       2.64     -0.336875 -2.267375], Error = 1.1\n",
      "Iteración 3: x = [-0.72        2.72525    -0.29579687 -2.25915938], Error = 0.21999999999999997\n",
      "Iteración 4: x = [-0.762625    2.76299375 -0.27589805 -2.25517961], Error = 0.04262499999999991\n",
      "Iteración 5: x = [-0.78149687  2.78038922 -0.26670284 -2.25334057], Error = 0.018871875000000093\n",
      "Iteración 6: x = [-0.79019461  2.78841617 -0.26245949 -2.2524919 ], Error = 0.008697734374999877\n",
      "Iteración 7: x = [-0.79420808  2.79212025 -0.26050136 -2.25210027], Error = 0.004013474609375067\n",
      "Iteración 8: x = [-0.79606012  2.79382952 -0.25959778 -2.25191956], Error = 0.0018520395996093342\n",
      "Iteración 9: x = [-0.79691476  2.79461827 -0.25918081 -2.25183616], Error = 0.0008546345935058763\n",
      "Convergencia alcanzada en la iteración 9 con error 8.5463e-04.\n",
      "\n",
      "Solución final: x = [-0.79691476  2.79461827 -0.25918081 -2.25183616]\n",
      "\n"
     ]
    }
   ],
   "source": [
    "\n",
    "A = np.array([\n",
    "    [10, 5, 0, 0],\n",
    "    [5, 10, -4, 0],\n",
    "    [0, -4, 8, -1],\n",
    "    [0, 0, -1, 5]\n",
    "])\n",
    "b = np.array([6, 25, -11, -11])\n",
    "x0 = np.zeros(4)\n",
    "_ =gauss_seidel_method(A, b, x0, 50, tolerancia)\n"
   ]
  },
  {
   "cell_type": "markdown",
   "id": "65ee2979",
   "metadata": {},
   "source": [
    "d.\n",
    "$$\n",
    "\\begin{cases}\n",
    "4x_1 + x_2 + x_3 + x_5 = 6, \\\\\n",
    "- x_1 - 3x_2 + x_3 + x_4 = 6, \\\\\n",
    "2x_1 + x_2 + 5x_3 - x_4 - x_5 = 6, \\\\\n",
    "- x_1 - x_2 - x_3 + 4x_4 = 6, \\\\\n",
    "2x_2 - x_3 + x_4 + 4x_5 = 6.\n",
    "\\end{cases}\n",
    "$$"
   ]
  },
  {
   "cell_type": "code",
   "execution_count": 21,
   "id": "fd81b378",
   "metadata": {},
   "outputs": [
    {
     "name": "stdout",
     "output_type": "stream",
     "text": [
      "Iteración 1: x = [ 1.5   -2.5    1.1    0.425  1.725], Error = 2.5\n",
      "Iteración 2: x = [ 1.3125     -1.92916667  1.49083333  0.22770833  1.435625  ], Error = 0.5708333333333335\n",
      "Iteración 3: x = [ 1.19375    -1.82506944  1.42018056  0.27703472  1.46061458], Error = 0.11874999999999991\n",
      "Iteración 4: x = [ 1.1668099  -1.82319821  1.44544554  0.25181876  1.46683277], Error = 0.02694010416666659\n",
      "Iteración 5: x = [ 1.16477528 -1.82250366  1.44232093  0.25382721  1.46828396], Error = 0.0031246185378086544\n",
      "Iteración 6: x = [ 1.16451789 -1.82278992  1.44317306  0.2530522   1.46834275], Error = 0.000852135432741763\n",
      "Convergencia alcanzada en la iteración 6 con error 8.5214e-04.\n",
      "\n",
      "Solución final: x = [ 1.16451789 -1.82278992  1.44317306  0.2530522   1.46834275]\n",
      "\n"
     ]
    }
   ],
   "source": [
    "\n",
    "A = np.array([\n",
    "    [4, 1, 1, 1, 1],\n",
    "    [-1, -3, 1, 1, 0],\n",
    "    [2, 1, 5, -1, -1],\n",
    "    [-1, -1, 3, 4, 0],\n",
    "    [2, 2, 1, 0, 4]\n",
    "])\n",
    "b = np.array([6, 6, 6, 6, 6])\n",
    "x0 = np.zeros(5)\n",
    "_ =gauss_seidel_method(A, b, x0, 50, tolerancia)"
   ]
  },
  {
   "cell_type": "markdown",
   "id": "987736d4",
   "metadata": {},
   "source": [
    "### 5. El sistema lineal\n",
    "$$\n",
    "\\begin{cases}\n",
    "2x_1 - x_2 + x_3 = -1, \\\\\n",
    "2x_1 + 2x_2 + 2x_3 = 4, \\\\\n",
    "- x_1 - x_2 + 2x_3 = -5,\n",
    "\\end{cases}\n",
    "$$\n",
    "tiene la solución (1, 2, -1).\n"
   ]
  },
  {
   "cell_type": "markdown",
   "id": "356d6682",
   "metadata": {},
   "source": [
    "a) Muestre que el método de Jacobi con $x^{(0)} = 0$ falla al proporcionar una buena aproximación después de 25 iteraciones."
   ]
  },
  {
   "cell_type": "code",
   "execution_count": 22,
   "id": "b3e30221",
   "metadata": {},
   "outputs": [
    {
     "name": "stdout",
     "output_type": "stream",
     "text": [
      "Iteración 1: x = [-0.5  2.  -2.5], Error = 2.5\n",
      "Iteración 2: x = [ 1.75  5.   -1.75], Error = 3.0\n",
      "Iteración 3: x = [2.875 2.    0.875], Error = 3.0\n",
      "Iteración 4: x = [ 0.0625 -1.75   -0.0625], Error = 3.75\n",
      "Iteración 5: x = [-1.34375  2.      -3.34375], Error = 3.75\n",
      "Iteración 6: x = [ 2.171875  6.6875   -2.171875], Error = 4.6875\n",
      "Iteración 7: x = [3.9296875 2.        1.9296875], Error = 4.6875\n",
      "Iteración 8: x = [-0.46484375 -3.859375    0.46484375], Error = 5.859375\n",
      "Iteración 9: x = [-2.66210938  2.         -4.66210938], Error = 5.859375\n",
      "Iteración 10: x = [ 2.83105469  9.32421875 -2.83105469], Error = 7.32421875\n",
      "Iteración 11: x = [5.57763672 2.         3.57763672], Error = 7.32421875\n",
      "Iteración 12: x = [-1.28881836 -7.15527344  1.28881836], Error = 9.1552734375\n",
      "Iteración 13: x = [-4.7220459  2.        -6.7220459], Error = 9.1552734375\n",
      "Iteración 14: x = [ 3.86102295 13.4440918  -3.86102295], Error = 11.444091796875\n",
      "Iteración 15: x = [8.15255737 2.         6.15255737], Error = 11.444091796875\n",
      "Iteración 16: x = [ -2.57627869 -12.30511475   2.57627869], Error = 14.30511474609375\n",
      "Iteración 17: x = [-7.94069672  2.         -9.94069672], Error = 14.30511474609375\n",
      "Iteración 18: x = [ 5.47034836 19.88139343 -5.47034836], Error = 17.881393432617188\n",
      "Iteración 19: x = [12.1758709  2.        10.1758709], Error = 17.881393432617188\n",
      "Iteración 20: x = [ -4.58793545 -20.35174179   4.58793545], Error = 22.351741790771484\n",
      "Iteración 21: x = [-12.96983862   2.         -14.96983862], Error = 22.351741790771484\n",
      "Iteración 22: x = [ 7.98491931 29.93967724 -7.98491931], Error = 27.939677238464355\n",
      "Iteración 23: x = [18.46229827  2.         16.46229827], Error = 27.939677238464355\n",
      "Iteración 24: x = [ -7.73114914 -32.92459655   7.73114914], Error = 34.924596548080444\n",
      "Iteración 25: x = [-20.82787284   2.         -22.82787284], Error = 34.924596548080444\n",
      "No se alcanzó la tolerancia después de 25 iteraciones.\n",
      "Solución aproximada: x = [-20.82787284   2.         -22.82787284]\n"
     ]
    }
   ],
   "source": [
    "A = np.array([\n",
    "    [2, -1, 1],\n",
    "    [2, 2, 2],\n",
    "    [-1, -1, 2]\n",
    "])\n",
    "b = np.array([-1, 4, -5])\n",
    "x0 = np.zeros(len(b))\n",
    "\n",
    "_ = jacobi_method_tolerance(A, b, x0, 25, 1e-4)"
   ]
  },
  {
   "cell_type": "markdown",
   "id": "363ead3d",
   "metadata": {},
   "source": [
    "b) Utilice el método de Gauss-Seidel con $x^{(0)} = 0$ para aproximar la solución para el sistema lineal dentro de $10^{-5}$."
   ]
  },
  {
   "cell_type": "code",
   "execution_count": 23,
   "id": "d67cc4e3",
   "metadata": {},
   "outputs": [
    {
     "name": "stdout",
     "output_type": "stream",
     "text": [
      "Iteración 1: x = [-0.5  2.5 -1.5], Error = 2.5\n",
      "Iteración 2: x = [ 1.5   2.   -0.75], Error = 2.0\n",
      "Iteración 3: x = [ 0.875  1.875 -1.125], Error = 0.625\n",
      "Iteración 4: x = [ 1.      2.125  -0.9375], Error = 0.25\n",
      "Iteración 5: x = [ 1.03125  1.90625 -1.03125], Error = 0.21875\n",
      "Iteración 6: x = [ 0.96875   2.0625   -0.984375], Error = 0.15625\n",
      "Iteración 7: x = [ 1.0234375  1.9609375 -1.0078125], Error = 0.1015625\n",
      "Iteración 8: x = [ 0.984375    2.0234375  -0.99609375], Error = 0.0625\n",
      "Iteración 9: x = [ 1.00976562  1.98632812 -1.00195312], Error = 0.037109375\n",
      "Iteración 10: x = [ 0.99414062  2.0078125  -0.99902344], Error = 0.021484375\n",
      "Iteración 11: x = [ 1.00341797  1.99560547 -1.00048828], Error = 0.01220703125\n",
      "Iteración 12: x = [ 0.99804688  2.00244141 -0.99975586], Error = 0.0068359375\n",
      "Iteración 13: x = [ 1.00109863  1.99865723 -1.00012207], Error = 0.0037841796875\n",
      "Iteración 14: x = [ 0.99938965  2.00073242 -0.99993896], Error = 0.0020751953125\n",
      "Iteración 15: x = [ 1.00033569  1.99960327 -1.00003052], Error = 0.001129150390625\n",
      "Iteración 16: x = [ 0.99981689  2.00021362 -0.99998474], Error = 0.0006103515625\n",
      "Iteración 17: x = [ 1.00009918  1.99988556 -1.00000763], Error = 0.00032806396484375\n",
      "Iteración 18: x = [ 0.99994659  2.00006104 -0.99999619], Error = 0.00017547607421875\n",
      "Iteración 19: x = [ 1.00002861  1.99996758 -1.00000191], Error = 9.34600830078125e-05\n",
      "Iteración 20: x = [ 0.99998474  2.00001717 -0.99999905], Error = 4.9591064453125e-05\n",
      "Iteración 21: x = [ 1.00000811  1.99999094 -1.00000048], Error = 2.6226043701171875e-05\n",
      "Iteración 22: x = [ 0.99999571  2.00000477 -0.99999976], Error = 1.3828277587890625e-05\n",
      "Iteración 23: x = [ 1.00000226  1.9999975  -1.00000012], Error = 7.271766662597656e-06\n",
      "Convergencia alcanzada en la iteración 23 con error 7.2718e-06.\n",
      "\n",
      "Solución final: x = [ 1.00000226  1.9999975  -1.00000012]\n",
      "\n"
     ]
    }
   ],
   "source": [
    "A = np.array([\n",
    "    [2, -1, 1],\n",
    "    [2, 2, 2],\n",
    "    [-1, -1, 2]\n",
    "])\n",
    "b = np.array([-1, 4, -5])\n",
    "x0 = np.zeros(len(b))\n",
    "\n",
    "_ = gauss_seidel_method(A, b, x0, 25, 1e-5)"
   ]
  },
  {
   "cell_type": "markdown",
   "id": "f1551dd1",
   "metadata": {},
   "source": [
    "### 6. El sistema lineal\n",
    "$$\n",
    "\\begin{cases}\n",
    "x_1 - x_3 = 0.2, \\\\\n",
    "-\\tfrac{1}{2}x_1 + x_2 - \\tfrac{1}{4}x_3 = -1.425, \\\\\n",
    "x_1 - \\tfrac{1}{2}x_2 + x_3 = 2,\n",
    "\\end{cases}\n",
    "$$\n",
    "tiene la solución (0.9, -0.8, 0.7)."
   ]
  },
  {
   "cell_type": "markdown",
   "id": "0767dcf6",
   "metadata": {},
   "source": [
    "a) ¿La matriz de coeficientes\n",
    "$$\n",
    "A =\n",
    "\\begin{bmatrix}\n",
    "1 & 0 & -1 \\\\\n",
    "-\\tfrac{1}{2} & 1 & -\\tfrac{1}{4} \\\\\n",
    "1 & -\\tfrac{1}{2} & 1\n",
    "\\end{bmatrix}\n",
    "$$\n",
    "tiene diagonal estrictamente dominante?\n"
   ]
  },
  {
   "cell_type": "code",
   "execution_count": 24,
   "id": "13894a1d",
   "metadata": {},
   "outputs": [
    {
     "name": "stdout",
     "output_type": "stream",
     "text": [
      "La matriz A tiene diagonal estrictamente dominante: False\n"
     ]
    }
   ],
   "source": [
    "A = np.array([\n",
    "    [1, 0, -1],\n",
    "    [-0.5, 1, -0.25],\n",
    "    [1, -0.5, 1]\n",
    "])\n",
    "\n",
    "def verificar_diagonal_dominante(A):\n",
    "    n = A.shape[0]\n",
    "    for i in range(n):\n",
    "        diagonal = abs(A[i, i])\n",
    "        suma_fila = sum(abs(A[i, j]) for j in range(n) if j != i)\n",
    "        if diagonal <= suma_fila:\n",
    "            return False\n",
    "    return True\n",
    "\n",
    "es_dominante = verificar_diagonal_dominante(A)\n",
    "print(f\"La matriz A tiene diagonal estrictamente dominante: {es_dominante}\")"
   ]
  },
  {
   "cell_type": "markdown",
   "id": "781b98b0",
   "metadata": {},
   "source": [
    "b) Utilice el método iterativo de Gauss-Seidel para aproximar la solución para el sistema lineal con una tolerancia de $10^{-2}$ y un máximo de 300 iteraciones."
   ]
  },
  {
   "cell_type": "code",
   "execution_count": 25,
   "id": "6623f314",
   "metadata": {},
   "outputs": [
    {
     "name": "stdout",
     "output_type": "stream",
     "text": [
      "Iteración 1: x = [ 0.2   -1.425  2.   ], Error = 2.0\n",
      "Iteración 2: x = [ 2.2    -0.825   1.0875], Error = 2.0\n",
      "Iteración 3: x = [ 1.2875   -0.053125 -0.6125  ], Error = 1.7000000000000002\n",
      "Iteración 4: x = [-0.4125    -0.934375   0.6859375], Error = 1.7000000000000002\n",
      "Iteración 5: x = [ 0.8859375  -1.45976563  1.9453125 ], Error = 1.2984375000000004\n",
      "Iteración 6: x = [ 2.1453125  -0.49570312  0.38417969], Error = 1.5611328125000004\n",
      "Iteración 7: x = [ 0.58417969 -0.25629883 -0.39316406], Error = 1.5611328125000004\n",
      "Iteración 8: x = [-0.19316406 -1.23120117  1.2876709 ], Error = 1.6808349609375006\n",
      "Iteración 9: x = [ 1.4876709  -1.19966431  1.57756348], Error = 1.6808349609375006\n",
      "Iteración 10: x = [ 1.77756348 -0.28677368 -0.08750305], Error = 1.6650665283203132\n",
      "Iteración 11: x = [ 0.11249695 -0.55809402  0.07904968], Error = 1.6650665283203132\n",
      "Iteración 12: x = [ 0.27904968 -1.34898911  1.60845604], Error = 1.5294063568115237\n",
      "Iteración 13: x = [ 1.80845604 -0.88336115  1.04645576], Error = 1.5294063568115237\n",
      "Iteración 14: x = [ 1.24645576 -0.25915804 -0.25013661], Error = 1.2965923786163331\n",
      "Iteración 15: x = [-0.05013661 -0.86430627  0.62396522], Error = 1.2965923786163331\n",
      "Iteración 16: x = [ 0.82396522 -1.294077    1.61798348], Error = 0.9940182626247405\n",
      "Iteración 17: x = [ 1.81798348 -0.60852152  0.52899628], Error = 1.0889871954917916\n",
      "Iteración 18: x = [ 0.72899628 -0.38375919 -0.12224424], Error = 1.0889871954917916\n",
      "Iteración 19: x = [ 0.07775576 -1.09106292  1.07912412], Error = 1.201368361711503\n",
      "Iteración 20: x = [ 1.27912412 -1.11634109  1.37671278], Error = 1.201368361711503\n",
      "Iteración 21: x = [ 1.57671278 -0.44125974  0.16270533], Error = 1.2140074471011766\n",
      "Iteración 22: x = [ 0.36270533 -0.59596728  0.20265735], Error = 1.2140074471011766\n",
      "Iteración 23: x = [ 0.40265735 -1.192983    1.33931103], Error = 1.1366536807734526\n",
      "Iteración 24: x = [ 1.53931103 -0.88884357  1.00085115], Error = 1.1366536807734526\n",
      "Iteración 25: x = [ 1.20085115 -0.4051317   0.01626719], Error = 0.9845839670597347\n",
      "Iteración 26: x = [ 0.21626719 -0.82050763  0.596583  ], Error = 0.9845839670597347\n",
      "Iteración 27: x = [ 0.796583   -1.16772066  1.373479  ], Error = 0.7768960025685374\n",
      "Iteración 28: x = [ 1.573479   -0.68333875  0.61955667], Error = 0.7768960025685374\n",
      "Iteración 29: x = [ 0.81955667 -0.48337133  0.08485162], Error = 0.7539223257983629\n",
      "Iteración 30: x = [ 0.28485162 -0.99400876  0.93875766], Error = 0.853906035715702\n",
      "Iteración 31: x = [ 1.13875766 -1.04788477  1.218144  ], Error = 0.853906035715702\n",
      "Iteración 32: x = [ 1.418144   -0.55108517  0.33729995], Error = 0.880844043667862\n",
      "Iteración 33: x = [ 0.53729995 -0.63160301  0.30631342], Error = 0.880844043667862\n",
      "Iteración 34: x = [ 0.50631342 -1.07977167  1.14689854], Error = 0.8405851224615262\n",
      "Iteración 35: x = [ 1.34689854 -0.88511866  0.95380075], Error = 0.8405851224615262\n",
      "Iteración 36: x = [ 1.15380075 -0.51310054  0.21054213], Error = 0.7432586161422325\n",
      "Iteración 37: x = [ 0.41054213 -0.79546409  0.58964898], Error = 0.7432586161422325\n",
      "Iteración 38: x = [ 0.78964898 -1.07231669  1.19172582], Error = 0.6020768411350597\n",
      "Iteración 39: x = [ 1.39172582 -0.73224405  0.67419268], Error = 0.6020768411350597\n",
      "Iteración 40: x = [ 0.87419268 -0.56058892  0.24215215], Error = 0.5175331465415356\n",
      "Iteración 41: x = [ 0.44215215 -0.92736562  0.84551286], Error = 0.6033607135076087\n",
      "Iteración 42: x = [ 1.04551286 -0.99254571  1.09416504], Error = 0.6033607135076087\n",
      "Iteración 43: x = [ 1.29416504 -0.62870231  0.45821428], Error = 0.6359507552813106\n",
      "Iteración 44: x = [ 0.65821428 -0.66336391  0.39148381], Error = 0.6359507552813106\n",
      "Iteración 45: x = [ 0.59148381 -0.99802191  1.01010376], Error = 0.6186199538041848\n",
      "Iteración 46: x = [ 1.21010376 -0.87673215  0.90950524], Error = 0.6186199538041848\n",
      "Iteración 47: x = [ 1.10950524 -0.59257181  0.35153016], Error = 0.5579750775508443\n",
      "Iteración 48: x = [ 0.55153016 -0.78236484  0.59420886], Error = 0.5579750775508443\n",
      "Iteración 49: x = [ 0.79420886 -1.00068271  1.05728742], Error = 0.46307856137756653\n",
      "Iteración 50: x = [ 1.25728742 -0.76357372  0.70544979], Error = 0.46307856137756653\n",
      "Iteración 51: x = [ 0.90544979 -0.61999384  0.36092572], Error = 0.35183763068810703\n",
      "Iteración 52: x = [ 0.56092572 -0.88204367  0.78455329], Error = 0.4236275671964853\n",
      "Iteración 53: x = [ 0.98455329 -0.94839882  0.99805244], Error = 0.4236275671964853\n",
      "Iteración 54: x = [ 1.19805244 -0.68321025  0.5412473 ], Error = 0.4568051379339535\n",
      "Iteración 55: x = [ 0.7412473  -0.69066195  0.46034244], Error = 0.4568051379339535\n",
      "Iteración 56: x = [ 0.66034244 -0.93929074  0.91342172], Error = 0.45307928333160263\n",
      "Iteración 57: x = [ 1.11342172 -0.86647335  0.87001219], Error = 0.45307928333160263\n",
      "Iteración 58: x = [ 1.07001219 -0.65078609  0.4533416 ], Error = 0.41667058914984123\n",
      "Iteración 59: x = [ 0.6533416  -0.7766585   0.60459476], Error = 0.41667058914984123\n",
      "Iteración 60: x = [ 0.80459476 -0.94718051  0.95832914], Error = 0.3537343835905917\n",
      "Iteración 61: x = [ 1.15832914 -0.78312033  0.72181498], Error = 0.3537343835905917\n",
      "Iteración 62: x = [ 0.92181498 -0.66538168  0.45011069], Error = 0.2717042962574634\n",
      "Iteración 63: x = [ 0.65011069 -0.85156484  0.74549417], Error = 0.2953834860136082\n",
      "Iteración 64: x = [ 0.94549417 -0.91357111  0.92410689], Error = 0.2953834860136082\n",
      "Iteración 65: x = [ 1.12410689 -0.72122619  0.59772027], Error = 0.32638662432627297\n",
      "Iteración 66: x = [ 0.79772027 -0.71351649  0.51528001], Error = 0.32638662432627297\n",
      "Iteración 67: x = [ 0.71528001 -0.89731986  0.84552149], Error = 0.33024147608352616\n",
      "Iteración 68: x = [ 1.04552149 -0.85597962  0.83606006], Error = 0.33024147608352616\n",
      "Iteración 69: x = [ 1.03606006 -0.69322424  0.5264887 ], Error = 0.30957135602051755\n",
      "Iteración 70: x = [ 0.7264887  -0.7753478   0.61732782], Error = 0.30957135602051755\n",
      "Iteración 71: x = [ 0.81732782 -0.90742369  0.8858374 ], Error = 0.2685095788890639\n",
      "Iteración 72: x = [ 1.0858374  -0.79487674  0.72896033], Error = 0.2685095788890639\n",
      "Iteración 73: x = [ 0.92896033 -0.69984122  0.51672423], Error = 0.21223610134743254\n",
      "Iteración 74: x = [ 0.71672423 -0.83133878  0.72111906], Error = 0.21223610134743254\n",
      "Iteración 75: x = [ 0.92111906 -0.88635812  0.86760638], Error = 0.20439483065453024\n",
      "Iteración 76: x = [ 1.06760638 -0.74753887  0.63570188], Error = 0.23190450215957203\n",
      "Iteración 77: x = [ 0.83570188 -0.73227134  0.55862418], Error = 0.23190450215957203\n",
      "Iteración 78: x = [ 0.75862418 -0.86749301  0.79816245], Error = 0.23953826970707182\n",
      "Iteración 79: x = [ 0.99816245 -0.8461473   0.80762931], Error = 0.23953826970707182\n",
      "Iteración 80: x = [ 1.00762931 -0.72401145  0.5787639 ], Error = 0.22886541060554544\n",
      "Iteración 81: x = [ 0.7787639  -0.77649437  0.63036497], Error = 0.22886541060554544\n",
      "Iteración 82: x = [ 0.83036497 -0.87802681  0.83298891], Error = 0.2026239494302542\n",
      "Iteración 83: x = [ 1.03298891 -0.80157029  0.73062163], Error = 0.2026239494302542\n",
      "Iteración 84: x = [ 0.93062163 -0.72585014  0.56622594], Error = 0.16439568965138207\n",
      "Iteración 85: x = [ 0.76622594 -0.8181327   0.7064533 ], Error = 0.16439568965138207\n",
      "Iteración 86: x = [ 0.9064533  -0.8652737   0.82470771], Error = 0.14022736085905319\n",
      "Iteración 87: x = [ 1.02470771 -0.76559642  0.66090985], Error = 0.16379786316451717\n",
      "Iteración 88: x = [ 0.86090985 -0.74741868  0.59249408], Error = 0.16379786316451717\n",
      "Iteración 89: x = [ 0.79249408 -0.84642156  0.76538081], Error = 0.17288673213008598\n",
      "Iteración 90: x = [ 0.96538081 -0.83740776  0.78429514], Error = 0.17288673213008598\n",
      "Iteración 91: x = [ 0.98429514 -0.74623581  0.61591531], Error = 0.16837983218862607\n",
      "Iteración 92: x = [ 0.81591531 -0.7788736   0.64258695], Error = 0.16837983218862607\n",
      "Iteración 93: x = [ 0.84258695 -0.85639561  0.79464789], Error = 0.1520609355952165\n",
      "Iteración 94: x = [ 0.99464789 -0.80504455  0.72921524], Error = 0.1520609355952165\n",
      "Iteración 95: x = [ 0.92921524 -0.74537224  0.60282984], Error = 0.12638540751408156\n",
      "Iteración 96: x = [ 0.80282984 -0.80968492  0.69809864], Error = 0.12638540751408156\n",
      "Iteración 97: x = [ 0.89809864 -0.84906042  0.7923277 ], Error = 0.09526880003099825\n",
      "Iteración 98: x = [ 0.9923277  -0.77786876  0.67737115], Error = 0.11495655190564391\n",
      "Iteración 99: x = [ 0.87737115 -0.75949336  0.61873792], Error = 0.11495655190564391\n",
      "Iteración 100: x = [ 0.81873792 -0.83162994  0.74288217], Error = 0.12414425037312982\n",
      "Iteración 101: x = [ 0.94288217 -0.8299105   0.76544711], Error = 0.12414425037312982\n",
      "Iteración 102: x = [ 0.96544711 -0.76219714  0.64216258], Error = 0.1232845280982815\n",
      "Iteración 103: x = [ 0.84216258 -0.7817358   0.65345432], Error = 0.1232845280982815\n",
      "Iteración 104: x = [ 0.85345432 -0.84055513  0.76696952], Error = 0.11351519798596232\n",
      "Iteración 105: x = [ 0.96696952 -0.80653046  0.72626812], Error = 0.11351519798596232\n",
      "Iteración 106: x = [ 0.92626812 -0.75994821  0.62976525], Error = 0.09650286400186658\n",
      "Iteración 107: x = [ 0.82976525 -0.80442463  0.69375778], Error = 0.09650286400186658\n",
      "Iteración 108: x = [ 0.89375778 -0.83667793  0.76802243], Error = 0.07426465553912154\n",
      "Iteración 109: x = [ 0.96802243 -0.7861155   0.68790326], Error = 0.08011917635133803\n",
      "Iteración 110: x = [ 0.88790326 -0.76901297  0.63891982], Error = 0.08011917635133803\n",
      "Iteración 111: x = [ 0.83891982 -0.82131842  0.72759026], Error = 0.08867044319220119\n",
      "Iteración 112: x = [ 0.92759026 -0.82364253  0.75042098], Error = 0.08867044319220119\n",
      "Iteración 113: x = [ 0.95042098 -0.77359963  0.66058848], Error = 0.08983249831015372\n",
      "Iteración 114: x = [ 0.86058848 -0.78464239  0.66277921], Error = 0.08983249831015372\n",
      "Iteración 115: x = [ 0.86277921 -0.82901096  0.74709033], Error = 0.08431111545178127\n",
      "Iteración 116: x = [ 0.94709033 -0.80683781  0.72271531], Error = 0.08431111545178127\n",
      "Iteración 117: x = [ 0.92271531 -0.77077601  0.64949077], Error = 0.07322454282239321\n",
      "Iteración 118: x = [ 0.84949077 -0.80126965  0.69189669], Error = 0.07322454282239321\n",
      "Iteración 119: x = [ 0.89189669 -0.82728045  0.74987441], Error = 0.05797772102703358\n",
      "Iteración 120: x = [ 0.94987441 -0.79158306  0.69446309], Error = 0.05797772102703358\n",
      "Iteración 121: x = [ 0.89446309 -0.77644702  0.65433407], Error = 0.05541131365976715\n",
      "Iteración 122: x = [ 0.85433407 -0.81418494  0.7173134 ], Error = 0.06297932970905462\n",
      "Iteración 123: x = [ 0.9173134  -0.81850462  0.73857347], Error = 0.06297932970905462\n",
      "Iteración 124: x = [ 0.93857347 -0.78169994  0.6734343 ], Error = 0.06513917011621739\n",
      "Iteración 125: x = [ 0.8734343  -0.78735469  0.67057657], Error = 0.06513917011621739\n",
      "Iteración 126: x = [ 0.87057657 -0.82063871  0.73288836], Error = 0.06231179129114994\n",
      "Iteración 127: x = [ 0.93288836 -0.80648963  0.71910408], Error = 0.06231179129114994\n",
      "Iteración 128: x = [ 0.91910408 -0.7787798   0.66386683], Error = 0.05523724953246756\n",
      "Iteración 129: x = [ 0.86386683 -0.79948125  0.69150602], Error = 0.05523724953246756\n",
      "Iteración 130: x = [ 0.89150602 -0.82019008  0.73639254], Error = 0.04488652334226795\n",
      "Iteración 131: x = [ 0.93639254 -0.79514885  0.69839894], Error = 0.04488652334226795\n",
      "Iteración 132: x = [ 0.89839894 -0.78220399  0.66603303], Error = 0.037993606098894794\n",
      "Iteración 133: x = [ 0.86603303 -0.80929227  0.71049906], Error = 0.0444660361721001\n",
      "Iteración 134: x = [ 0.91049906 -0.81435872  0.72932083], Error = 0.0444660361721001\n",
      "Iteración 135: x = [ 0.92932083 -0.78742026  0.68232158], Error = 0.04699925908058167\n",
      "Iteración 136: x = [ 0.88232158 -0.78975919  0.67696904], Error = 0.04699925908058167\n",
      "Iteración 137: x = [ 0.87696904 -0.81459695  0.72279883], Error = 0.04582979406557275\n",
      "Iteración 138: x = [ 0.92279883 -0.80581577  0.71573249], Error = 0.04582979406557275\n",
      "Iteración 139: x = [ 0.91573249 -0.78466746  0.67429328], Error = 0.04143920462042572\n",
      "Iteración 140: x = [ 0.87429328 -0.79856044  0.69193378], Error = 0.04143920462042572\n",
      "Iteración 141: x = [ 0.89193378 -0.81486991  0.7264265 ], Error = 0.03449271831175449\n",
      "Iteración 142: x = [ 0.9264265  -0.79742648  0.70063126], Error = 0.03449271831175449\n",
      "Iteración 143: x = [ 0.90063126 -0.78662893  0.67486026], Error = 0.025795237408499316\n",
      "Iteración 144: x = [ 0.87486026 -0.8059693   0.70605427], Error = 0.031194012310375552\n",
      "Iteración 145: x = [ 0.90605427 -0.8110563   0.72215509], Error = 0.031194012310375552\n",
      "Iteración 146: x = [ 0.92215509 -0.79143409  0.68841758], Error = 0.03373751174131834\n",
      "Iteración 147: x = [ 0.88841758 -0.79181806  0.68212786], Error = 0.03373751174131834\n",
      "Iteración 148: x = [ 0.88212786 -0.81025925  0.71567339], Error = 0.03354552753414475\n",
      "Iteración 149: x = [ 0.91567339 -0.80501772  0.71274251], Error = 0.03354552753414475\n",
      "Iteración 150: x = [ 0.91274251 -0.78897768  0.68181775], Error = 0.030924764988407683\n",
      "Iteración 151: x = [ 0.88181775 -0.79817431  0.69276865], Error = 0.030924764988407683\n",
      "Iteración 152: x = [ 0.89276865 -0.81089896  0.7190951 ], Error = 0.026326449727551493\n",
      "Iteración 153: x = [ 0.9190951  -0.7988419   0.70178187], Error = 0.026326449727551493\n",
      "Iteración 154: x = [ 0.90178187 -0.79000698  0.68148395], Error = 0.02029791835808159\n",
      "Iteración 155: x = [ 0.88148395 -0.80373808  0.70321464], Error = 0.021730688055775715\n",
      "Iteración 156: x = [ 0.90321464 -0.80845436  0.71664701], Error = 0.021730688055775715\n",
      "Iteración 157: x = [ 0.91664701 -0.79423093  0.69255818], Error = 0.024088831638324093\n",
      "Iteración 158: x = [ 0.89255818 -0.79353695  0.68623753], Error = 0.024088831638324093\n",
      "Iteración 159: x = [ 0.88623753 -0.80716153  0.71067335], Error = 0.024435820494086213\n",
      "Iteración 160: x = [ 0.91067335 -0.8042129   0.71018171], Error = 0.024435820494086213\n",
      "Iteración 161: x = [ 0.91018171 -0.7921179   0.6872202 ], Error = 0.022961506138072796\n",
      "Iteración 162: x = [ 0.8872202  -0.79810409  0.69375934], Error = 0.022961506138072796\n",
      "Iteración 163: x = [ 0.89375934 -0.80795006  0.71372775], Error = 0.019968408698447515\n",
      "Iteración 164: x = [ 0.91372775 -0.79968839  0.70226563], Error = 0.019968408698447515\n",
      "Iteración 165: x = [ 0.90226563 -0.79256972  0.68642805], Error = 0.01583757330444091\n",
      "Iteración 166: x = [ 0.88642805 -0.80226017  0.70144951], Error = 0.01583757330444091\n",
      "Iteración 167: x = [ 0.90144951 -0.80642359  0.71244186], Error = 0.015021458581586211\n",
      "Iteración 168: x = [ 0.91244186 -0.79616478  0.69533869], Error = 0.017103169584998135\n",
      "Iteración 169: x = [ 0.89533869 -0.7949444   0.68947575], Error = 0.017103169584998135\n",
      "Iteración 170: x = [ 0.88947575 -0.80496172  0.70718911], Error = 0.01771335994672163\n",
      "Iteración 171: x = [ 0.90718911 -0.80346485  0.70804339], Error = 0.01771335994672163\n",
      "Iteración 172: x = [ 0.90804339 -0.7943946   0.69107847], Error = 0.01696492453189946\n",
      "Iteración 173: x = [ 0.89107847 -0.79820869  0.69475931], Error = 0.01696492453189946\n",
      "Iteración 174: x = [ 0.89475931 -0.80577094  0.70981719], Error = 0.015057878622553034\n",
      "Iteración 175: x = [ 0.90981719 -0.80016605  0.70235522], Error = 0.015057878622553034\n",
      "Iteración 176: x = [ 0.90235522 -0.7945026   0.69009979], Error = 0.012255432248062137\n",
      "Iteración 177: x = [ 0.89009979 -0.80129744  0.70039348], Error = 0.012255432248062137\n",
      "Iteración 178: x = [ 0.90039348 -0.80485174  0.70925149], Error = 0.010293694758673588\n",
      "Iteración 179: x = [ 0.90925149 -0.79749039  0.69718065], Error = 0.01207084097585498\n",
      "Iteración 180: x = [ 0.89718065 -0.79607909  0.69200332], Error = 0.01207084097585498\n",
      "Iteración 181: x = [ 0.89200332 -0.80340885  0.7047798 ], Error = 0.012776488436491151\n",
      "Iteración 182: x = [ 0.9047798  -0.80280339  0.70629226], Error = 0.012776488436491151\n",
      "Iteración 183: x = [ 0.90629226 -0.79603703  0.6938185 ], Error = 0.012473761219303547\n",
      "Iteración 184: x = [ 0.8938185  -0.79839924  0.69568922], Error = 0.012473761219303547\n",
      "Iteración 185: x = [ 0.89568922 -0.80416844  0.70698188], Error = 0.01129265561360171\n",
      "Iteración 186: x = [ 0.90698188 -0.80040992  0.70222656], Error = 0.01129265561360171\n",
      "Iteración 187: x = [ 0.90222656 -0.79595242  0.69281316], Error = 0.009413393362992961\n",
      "Convergencia alcanzada en la iteración 187 con error 9.4134e-03.\n",
      "\n",
      "Solución final: x = [ 0.90222656 -0.79595242  0.69281316]\n",
      "\n"
     ]
    }
   ],
   "source": [
    "b = np.array([0.2, -1.425, 2])\n",
    "x0 = np.zeros(len(b))\n",
    "\n",
    "_ = jacobi_method_tolerance(A, b, x0, 300, 1e-2)"
   ]
  },
  {
   "cell_type": "markdown",
   "id": "06f4c29e",
   "metadata": {},
   "source": [
    "c) ¿Qué pasa en la parte b) cuando el sistema cambia por el siguiente?\n",
    "$$\n",
    "\\begin{cases}\n",
    "x_1 - 2x_3 = 0.2, \\\\\n",
    "-\\tfrac{1}{2}x_1 + x_2 - \\tfrac{1}{4}x_3 = -1.425, \\\\\n",
    "x_1 - \\tfrac{1}{2}x_2 + x_3 = 2.\n",
    "\\end{cases}\n",
    "$$"
   ]
  },
  {
   "cell_type": "code",
   "execution_count": 26,
   "id": "0b631548",
   "metadata": {},
   "outputs": [
    {
     "name": "stdout",
     "output_type": "stream",
     "text": [
      "Iteración 1: x = [ 0.2    -1.325   1.1375], Error = 1.325\n",
      "Iteración 2: x = [ 2.475      0.096875  -0.4265625], Error = 2.275\n",
      "Iteración 3: x = [-0.653125   -1.85820313  1.72402344], Error = 3.1281250000000007\n",
      "Iteración 4: x = [ 3.64804688  0.8300293  -1.23303223], Error = 4.301171875000001\n",
      "Iteración 5: x = [-2.26606445 -2.86629028  2.83291931], Error = 5.914111328125001\n",
      "Iteración 6: x = [ 5.86583862  2.21614914 -2.75776405], Error = 8.131903076171877\n",
      "Iteración 7: x = [-5.31552811 -4.77220507  4.92942557], Error = 11.181366729736332\n",
      "Iteración 8: x = [10.05885115  4.83678197 -5.64046016], Error = 15.374379253387456\n",
      "Iteración 9: x = [-11.08092033  -8.3755752    8.89313272], Error = 21.13977147340775\n",
      "Iteración 10: x = [ 17.98626545   9.79141591 -11.0905575 ], Error = 29.06718577593566\n",
      "Iteración 11: x = [-21.98111499 -15.18819687  16.38701656], Error = 39.96738044191153\n",
      "Iteración 12: x = [ 32.97403311  19.1587707  -21.39464777], Error = 54.95514810762836\n",
      "Iteración 13: x = [-42.58929553 -28.06830971  30.55514068], Error = 75.56332864798898\n",
      "Iteración 14: x = [ 61.31028136  36.86892585 -40.87581843], Error = 103.89957689098486\n",
      "Iteración 15: x = [-81.55163687 -52.41977304  57.34175035], Error = 142.8619182251042\n",
      "Iteración 16: x = [114.88350069  70.35218793 -77.70740673], Error = 196.43513755951827\n",
      "Iteración 17: x = [-155.21481345  -98.45925841  107.98518425], Error = 270.0983141443376\n",
      "Iteración 18: x = [ 216.1703685   133.65648031 -147.34212834], Error = 371.38518194846426\n",
      "Iteración 19: x = [-294.48425668 -185.50266043  203.73292647], Error = 510.6546251791383\n",
      "Iteración 20: x = [ 407.66585294  253.34115809 -278.9952739 ], Error = 702.1501096213151\n",
      "No se alcanzó la tolerancia después de 20 iteraciones.\n",
      "Solución aproximada: x = [ 407.66585294  253.34115809 -278.9952739 ]\n"
     ]
    }
   ],
   "source": [
    "\n",
    "A = np.array([\n",
    "    [1, 0, -2],\n",
    "    [-0.5, 1, -0.25],\n",
    "    [1, -0.5, 1]\n",
    "])\n",
    "b = np.array([0.2, -1.425, 2])\n",
    "\n",
    "x0 = np.zeros(len(b))\n",
    "\n",
    "_ = gauss_seidel_method(A, b, x0, 20, 1e-22)"
   ]
  },
  {
   "cell_type": "markdown",
   "id": "0f214c4d",
   "metadata": {},
   "source": [
    "### 7. Repita el ejercicio 11 usando el método de Jacobi.\n"
   ]
  },
  {
   "cell_type": "markdown",
   "id": "22cfc2b3",
   "metadata": {},
   "source": [
    "b) Utilice el método iterativo de Gauss-Jacobi para aproximar la solución para el sistema lineal con una tolerancia de $10^{-2}$ y un máximo de 300 iteraciones."
   ]
  },
  {
   "cell_type": "code",
   "execution_count": 27,
   "id": "68c2b9ce",
   "metadata": {},
   "outputs": [
    {
     "name": "stdout",
     "output_type": "stream",
     "text": [
      "Iteración 1: x = [ 0.2   -1.425  2.   ], Error = 2.0\n",
      "Iteración 2: x = [ 4.2    -0.825   1.0875], Error = 4.0\n",
      "Iteración 3: x = [ 2.375     0.946875 -2.6125  ], Error = 3.6999999999999997\n",
      "Iteración 4: x = [-5.025     -0.890625   0.0984375], Error = 7.3999999999999995\n",
      "Iteración 5: x = [ 0.396875   -3.91289062  6.5796875 ], Error = 6.481249999999999\n",
      "Iteración 6: x = [13.359375    0.41835938 -0.35332031], Error = 12.962499999999999\n",
      "Iteración 7: x = [ -0.50664063   5.16635742 -11.15019531], Error = 13.866015625\n",
      "Iteración 8: x = [-22.10039062  -4.46586914   5.08981934], Error = 21.593749999999996\n",
      "Iteración 9: x = [ 10.37963867 -11.20274048  21.86745605], Error = 32.480029296874996\n",
      "Iteración 10: x = [ 43.93491211   9.23168335 -13.98100891], Error = 35.848464965820305\n",
      "Iteración 11: x = [-27.76201782  17.04720383 -37.31907043], Error = 71.69692993164061\n",
      "Iteración 12: x = [-74.43814087 -24.63577652  38.28561974], Error = 75.60469017028808\n",
      "Iteración 13: x = [ 76.77123947 -29.0726655   64.12025261], Error = 151.20938034057616\n",
      "Iteración 14: x = [128.44050522  52.99068289 -89.30757222], Error = 153.42782483100888\n",
      "Iteración 15: x = [-178.41514444   40.46835955  -99.94516377], Error = 306.85564966201775\n",
      "Iteración 16: x = [-199.69032755 -115.61886317  200.64932422], Error = 300.5944879949092\n",
      "Iteración 17: x = [401.49864844 -51.10783272 143.88089597], Error = 601.1889759898183\n",
      "Iteración 18: x = [ 287.96179193  235.29454821 -425.0525648 ], Error = 568.9334607668219\n",
      "Iteración 19: x = [-849.9051296    36.29275477 -168.31451783], Error = 1137.8669215336438\n",
      "Iteración 20: x = [-336.42903565 -468.45619426  870.05150698], Error = 1038.3660248107271\n",
      "Iteración 21: x = [1740.30301397   47.87335892  104.20093852], Error = 2076.7320496214543\n",
      "Iteración 22: x = [  208.60187705   894.77674162 -1714.36633451], Error = 1818.5672730331419\n",
      "Iteración 23: x = [-3428.53266902  -325.7156451    240.78649376], Error = 3637.1345460662837\n",
      "Iteración 24: x = [  481.77298752 -1655.49471107  3267.67484647], Error = 3910.3056565340603\n",
      "Iteración 25: x = [ 6535.54969293  1056.38020537 -1307.52034305], Error = 6053.776705414727\n",
      "No se alcanzó la tolerancia después de 25 iteraciones.\n",
      "Solución aproximada: x = [ 6535.54969293  1056.38020537 -1307.52034305]\n"
     ]
    }
   ],
   "source": [
    "\n",
    "b = np.array([0.2, -1.425, 2])\n",
    "x0 = np.zeros(len(b))\n",
    "\n",
    "_ = jacobi_method_tolerance(A, b, x0, 25, 1e-2)"
   ]
  },
  {
   "cell_type": "markdown",
   "id": "2c43e400",
   "metadata": {},
   "source": [
    "c) ¿Qué pasa en la parte b) cuando el sistema cambia por el siguiente?\n",
    "$$\n",
    "\\begin{cases}\n",
    "x_1 - 2x_3 = 0.2, \\\\\n",
    "-\\tfrac{1}{2}x_1 + x_2 - \\tfrac{1}{4}x_3 = -1.425, \\\\\n",
    "x_1 - \\tfrac{1}{2}x_2 + x_3 = 2.\n",
    "\\end{cases}\n",
    "$$"
   ]
  },
  {
   "cell_type": "code",
   "execution_count": 28,
   "id": "6d918ecf",
   "metadata": {},
   "outputs": [
    {
     "name": "stdout",
     "output_type": "stream",
     "text": [
      "Iteración 1: x = [ 0.2   -1.425  2.   ], Error = 2.0\n",
      "Iteración 2: x = [ 4.2    -0.825   1.0875], Error = 4.0\n",
      "Iteración 3: x = [ 2.375     0.946875 -2.6125  ], Error = 3.6999999999999997\n",
      "Iteración 4: x = [-5.025     -0.890625   0.0984375], Error = 7.3999999999999995\n",
      "Iteración 5: x = [ 0.396875   -3.91289062  6.5796875 ], Error = 6.481249999999999\n",
      "Iteración 6: x = [13.359375    0.41835938 -0.35332031], Error = 12.962499999999999\n",
      "Iteración 7: x = [ -0.50664063   5.16635742 -11.15019531], Error = 13.866015625\n",
      "Iteración 8: x = [-22.10039062  -4.46586914   5.08981934], Error = 21.593749999999996\n",
      "Iteración 9: x = [ 10.37963867 -11.20274048  21.86745605], Error = 32.480029296874996\n",
      "Iteración 10: x = [ 43.93491211   9.23168335 -13.98100891], Error = 35.848464965820305\n",
      "Iteración 11: x = [-27.76201782  17.04720383 -37.31907043], Error = 71.69692993164061\n",
      "Iteración 12: x = [-74.43814087 -24.63577652  38.28561974], Error = 75.60469017028808\n",
      "Iteración 13: x = [ 76.77123947 -29.0726655   64.12025261], Error = 151.20938034057616\n",
      "Iteración 14: x = [128.44050522  52.99068289 -89.30757222], Error = 153.42782483100888\n",
      "Iteración 15: x = [-178.41514444   40.46835955  -99.94516377], Error = 306.85564966201775\n",
      "Iteración 16: x = [-199.69032755 -115.61886317  200.64932422], Error = 300.5944879949092\n",
      "Iteración 17: x = [401.49864844 -51.10783272 143.88089597], Error = 601.1889759898183\n",
      "Iteración 18: x = [ 287.96179193  235.29454821 -425.0525648 ], Error = 568.9334607668219\n",
      "Iteración 19: x = [-849.9051296    36.29275477 -168.31451783], Error = 1137.8669215336438\n",
      "Iteración 20: x = [-336.42903565 -468.45619426  870.05150698], Error = 1038.3660248107271\n",
      "Iteración 21: x = [1740.30301397   47.87335892  104.20093852], Error = 2076.7320496214543\n",
      "Iteración 22: x = [  208.60187705   894.77674162 -1714.36633451], Error = 1818.5672730331419\n",
      "Iteración 23: x = [-3428.53266902  -325.7156451    240.78649376], Error = 3637.1345460662837\n",
      "Iteración 24: x = [  481.77298752 -1655.49471107  3267.67484647], Error = 3910.3056565340603\n",
      "Iteración 25: x = [ 6535.54969293  1056.38020537 -1307.52034305], Error = 6053.776705414727\n",
      "No se alcanzó la tolerancia después de 25 iteraciones.\n",
      "Solución aproximada: x = [ 6535.54969293  1056.38020537 -1307.52034305]\n"
     ]
    }
   ],
   "source": [
    "\n",
    "A = np.array([\n",
    "    [1, 0, -2],\n",
    "    [-0.5, 1, -0.25],\n",
    "    [1, -0.5, 1]\n",
    "])\n",
    "b = np.array([0.2, -1.425, 2])\n",
    "\n",
    "x0 = np.zeros(len(b))\n",
    "\n",
    "_ = jacobi_method_tolerance(A, b, x0, 25, 1e-22)"
   ]
  },
  {
   "cell_type": "markdown",
   "id": "0ee60885",
   "metadata": {},
   "source": [
    "### 8. Un cable coaxial está formado por un conductor interno de 0.1 pulgadas cuadradas y un conductor externo de 0.5 pulgadas cuadradas. El potencial en un punto en la sección transversal del cable se describe mediante la ecuación de Laplace. Suponga que el conductor interno se mantiene en 0 volts y el conductor externo se mantiene en 110 volts. Aproximar el potencial entre los dos conductores requiere resolver el siguiente sistema lineal:\n",
    "\n",
    "$$\n",
    "\\begin{bmatrix}\n",
    "4 & -1 & 0 & 0 & -1 & 0 & 0 & 0 & 0 & 0 & 0 & 0 \\\\\n",
    "-1 & 4 & -1 & 0 & 0 & 0 & 0 & 0 & 0 & 0 & 0 & 0 \\\\\n",
    "0 & -1 & 4 & -1 & 0 & 0 & 0 & 0 & 0 & 0 & 0 & 0 \\\\\n",
    "0 & 0 & -1 & 4 & 0 & -1 & 0 & 0 & 0 & 0 & 0 & 0 \\\\\n",
    "-1 & 0 & 0 & 0 & 4 & 0 & -1 & 0 & 0 & 0 & 0 & 0 \\\\\n",
    "0 & 0 & 0 & -1 & 0 & 4 & 0 & -1 & 0 & 0 & 0 & 0 \\\\\n",
    "0 & 0 & 0 & 0 & -1 & 0 & 4 & 0 & -1 & 0 & 0 & 0 \\\\\n",
    "0 & 0 & 0 & 0 & 0 & -1 & 0 & 4 & 0 & 0 & 0 & -1 \\\\\n",
    "0 & 0 & 0 & 0 & 0 & 0 & -1 & 0 & 4 & -1 & 0 & 0 \\\\\n",
    "0 & 0 & 0 & 0 & 0 & 0 & 0 & 0 & -1 & 4 & -1 & 0 \\\\\n",
    "0 & 0 & 0 & 0 & 0 & 0 & 0 & 0 & 0 & -1 & 4 & -1 \\\\\n",
    "0 & 0 & 0 & 0 & 0 & -1 & 0 & 0 & 0 & 0 & -1 & 4\n",
    "\\end{bmatrix}\n",
    "\\begin{bmatrix}\n",
    "w_1 \\\\ w_2 \\\\ w_3 \\\\ w_4 \\\\ w_5 \\\\ w_6 \\\\ w_7 \\\\ w_8 \\\\ w_9 \\\\ w_{10} \\\\ w_{11} \\\\ w_{12}\n",
    "\\end{bmatrix}\n",
    "=\n",
    "\\begin{bmatrix}\n",
    "220 \\\\ 110 \\\\ 110 \\\\ 220 \\\\ 110 \\\\ 110 \\\\ 110 \\\\ 110 \\\\ 220 \\\\ 110 \\\\ 110 \\\\ 220\n",
    "\\end{bmatrix}\n",
    "$$"
   ]
  },
  {
   "cell_type": "markdown",
   "id": "226dad4e",
   "metadata": {},
   "source": [
    "a) ¿La matriz es estrictamente diagonalmente dominante?"
   ]
  },
  {
   "cell_type": "code",
   "execution_count": 29,
   "id": "236c9ab3",
   "metadata": {},
   "outputs": [
    {
     "name": "stdout",
     "output_type": "stream",
     "text": [
      "La matriz A tiene diagonal estrictamente dominante: True\n"
     ]
    }
   ],
   "source": [
    "\n",
    "A = np.array([\n",
    "    [4, -1, 0, 0, -1, 0, 0, 0, 0, 0, 0, 0],\n",
    "    [-1, 4, -1, 0, 0, 0, 0, 0, 0, 0, 0, 0],\n",
    "    [0, -1, 4, -1, 0, 0, 0, 0, 0, 0, 0, 0],\n",
    "    [0, 0, -1, 4, 0, -1, 0, 0, 0, 0, 0, 0],\n",
    "    [-1, 0, 0, 0, 4, -1, 0, 0, 0, 0, 0, 0],\n",
    "    [0, 0, 0, -1, -1, 4, -1, 0, 0, 0, 0, 0],\n",
    "    [0, 0, 0, 0, 0, -1, 4, -1, 0, 0, 0, 0],\n",
    "    [0, 0, 0, 0, 0, 0, -1, 4, 0, -1, 0, 0],\n",
    "    [0, 0, 0, 0, 0, 0, 0, 0, 4, -1, 0, -1],\n",
    "    [0, 0, 0, 0, 0, 0, 0, -1, -1, 4, -1, 0],\n",
    "    [0, 0, 0, 0, 0, 0, 0, 0, 0, -1, 4, -1],\n",
    "    [0, 0, 0, 0, 0, 0, 0, 0, -1, 0, -1, 4]\n",
    "])\n",
    "\n",
    "es_dominante = verificar_diagonal_dominante(A)\n",
    "print(f\"La matriz A tiene diagonal estrictamente dominante: {es_dominante}\")"
   ]
  },
  {
   "cell_type": "markdown",
   "id": "eb0c450d",
   "metadata": {},
   "source": [
    "b) Resuelva el sistema lineal usando el método de Jacobi con $x^{(0)} = 0$ y $TOL = 10^{-2}$."
   ]
  },
  {
   "cell_type": "code",
   "execution_count": 30,
   "id": "89947a2a",
   "metadata": {},
   "outputs": [
    {
     "name": "stdout",
     "output_type": "stream",
     "text": [
      "Método de Jacobi:\n",
      "Iteración 1: x = [55.  27.5 27.5 55.  27.5 27.5 27.5 27.5 55.  27.5 27.5 55. ], Error = 55.0\n",
      "Iteración 2: x = [68.75  48.125 48.125 68.75  48.125 55.    41.25  41.25  75.625 55.\n",
      " 48.125 75.625], Error = 27.5\n",
      "Iteración 3: x = [79.0625  56.71875 56.71875 80.78125 58.4375  67.03125 51.5625  51.5625\n",
      " 87.65625 68.75    60.15625 85.9375 ], Error = 13.75\n",
      "Iteración 4: x = [83.7890625 61.4453125 61.875     85.9375    64.0234375 75.1953125\n",
      " 57.1484375 57.578125  93.671875  77.34375   66.171875  91.953125 ], Error = 8.59375\n",
      "Iteración 5: x = [86.3671875  63.91601562 64.34570312 89.26757812 67.24609375 79.27734375\n",
      " 60.69335938 61.12304688 97.32421875 81.85546875 69.82421875 94.9609375 ], Error = 4.51171875\n",
      "Iteración 6: x = [87.79052734 65.17822266 65.79589844 90.90576172 68.91113281 81.80175781\n",
      " 62.60009766 63.13720703 99.20410156 84.56787109 71.70410156 96.78710938], Error = 2.71240234375\n",
      "Iteración 7: x = [ 88.52233887  65.89660645  66.52099609  91.89941406  69.89807129\n",
      "  83.10424805  63.73474121  64.29199219 100.33874512  86.01135254\n",
      "  72.83874512  97.72705078], Error = 1.4434814453125\n",
      "Iteración 8: x = [ 88.94866943  66.26083374  66.94900513  92.40631104  70.40664673\n",
      "  83.88305664  64.34906006  64.93652344 100.93460083  86.86737061\n",
      "  73.43460083  98.29437256], Error = 0.85601806640625\n",
      "Iteración 9: x = [ 89.16687012  66.47441864  67.16678619  92.70801544  70.70793152\n",
      "  84.29050446  64.70489502  65.30410767 101.29043579  87.32643127\n",
      "  73.79043579  98.59230042], Error = 0.4590606689453125\n",
      "Iteración 10: x = [ 89.29558754  66.58341408  67.29560852  92.86432266  70.86434364\n",
      "  84.53021049  64.89865303  65.50783157 101.47968292  87.59624481\n",
      "  73.97968292  98.7702179 ], Error = 0.26981353759765625\n",
      "Iteración 11: x = [ 89.36193943  66.64779902  67.36193419  92.95645475  70.95644951\n",
      "  84.65682983  65.00951052  65.62372446 101.59161568  87.74179935\n",
      "  74.09161568  98.86484146], Error = 0.1455545425415039\n",
      "Iteración 12: x = [ 89.40106213  66.6809684   67.40106344  93.004691    71.00469232\n",
      "  84.73060369  65.07013857  65.68782747 101.6516602   87.82673895\n",
      "  74.1516602   98.92080784], Error = 0.08493959903717041\n",
      "Iteración 13: x = [ 89.42141518  66.70053139  67.42141485  93.03291678  71.03291646\n",
      "  84.76988047  65.10460779  65.72421938 101.6868867   87.87278697\n",
      "  74.1868867   98.9508301 ], Error = 0.04604801535606384\n",
      "Iteración 14: x = [ 89.43336196  66.71070751  67.43336204  93.04782383  71.04782391\n",
      "  84.79261026  65.12352496  65.74434869 101.70590427  87.89949819\n",
      "  74.20590427  98.96844335], Error = 0.026711225509643555\n",
      "Iteración 15: x = [ 89.43963286  66.716681    67.43963283  93.05649308  71.05649306\n",
      "  84.80479318  65.13423974  65.75575579 101.71698539  87.91403931\n",
      "  74.21698539  98.97795213], Error = 0.014541111886501312\n",
      "Iteración 16: x = [ 89.44329351  66.71981642  67.44329352  93.0611065   71.06110651\n",
      "  84.81180647  65.14013724  65.76206976 101.72299786  87.92243164\n",
      "  74.22299786  98.98349269], Error = 0.008392333984375\n",
      "Convergencia alcanzada en la iteración 16 con error 8.3923e-03.\n",
      "\n",
      "Solución final: x = [ 89.44329351  66.71981642  67.44329352  93.0611065   71.06110651\n",
      "  84.81180647  65.14013724  65.76206976 101.72299786  87.92243164\n",
      "  74.22299786  98.98349269]\n",
      "\n"
     ]
    }
   ],
   "source": [
    "print(\"Método de Jacobi:\")\n",
    "b = np.array([220, 110, 110, 220, 110, 110, 110, 110, 220, 110, 110, 220])\n",
    "x0 = np.zeros(len(b))\n",
    "\n",
    "_ = jacobi_method_tolerance(A, b, x0, 50, 1e-2)"
   ]
  },
  {
   "cell_type": "markdown",
   "id": "100acd7f",
   "metadata": {},
   "source": [
    "c) Repita la parte b) con el método de Gauss-Seidel."
   ]
  },
  {
   "cell_type": "code",
   "execution_count": 31,
   "id": "28ab3cdb",
   "metadata": {},
   "outputs": [
    {
     "name": "stdout",
     "output_type": "stream",
     "text": [
      "Método de Siedel:\n",
      "Iteración 1: x = [55.         41.25       37.8125     64.453125   41.25       53.92578125\n",
      " 40.98144531 37.74536133 55.         50.68634033 40.17158508 78.79289627], Error = 78.79289627075195\n",
      "Iteración 2: x = [75.625      55.859375   57.578125   82.87597656 59.88769531 73.4362793\n",
      " 55.29541016 53.99543762 87.36980915 72.88420796 65.41927606 93.1972713 ], Error = 32.3698091506958\n",
      "Iteración 3: x = [83.93676758 62.87872314 63.93867493 89.34373856 66.84326172 80.37060261\n",
      " 61.09151006 60.99392951 96.52036982 83.23339385 71.60766629 97.03200903], Error = 10.349185881204903\n",
      "Iteración 4: x = [ 87.43049622  65.34229279  66.17150784  91.63552761  69.45027471\n",
      "  83.04432809  63.5095644   64.18573956 100.06635072  86.46493914\n",
      "  73.37423704  98.36014694], Error = 3.545980901180883\n",
      "Iteración 5: x = [ 88.69814187  66.21741243  66.96323501  92.50189078  70.43561749\n",
      "  84.11176817  64.57437693  65.25982902 101.20627152  87.4600844\n",
      "  73.95505783  98.79033234], Error = 1.2676456570625305\n",
      "Iteración 6: x = [ 89.16325748  66.53162312  67.25837847  92.84253666  70.81875641\n",
      "  84.5589175   64.95468663  65.60369276 101.56260418  87.78033869\n",
      "  74.14266776  98.92631799], Error = 0.46511560678482056\n",
      "Iteración 7: x = [ 89.33759488  66.64899334  67.3728825   92.98295     70.9741281\n",
      "  84.72794118  65.08290848  65.71581179 101.67666417  87.88378593\n",
      "  74.20252598  98.96979754], Error = 0.17433740380511153\n",
      "Iteración 8: x = [ 89.40578036  66.69466571  67.41940393  93.03683628  71.03343039\n",
      "  84.78829379  65.1260264   65.75245308 101.71339587  87.91709373\n",
      "  74.22172282  98.98377967], Error = 0.06818547542934539\n",
      "Iteración 9: x = [ 89.43202402  66.71285699  67.43742332  93.05642928  71.05507945\n",
      "  84.80938378  65.14045922  65.76438824 101.72521835  87.92783235\n",
      "  74.22790301  98.98828034], Error = 0.026243666054341475\n",
      "Iteración 10: x = [ 89.44198411  66.71985186  67.44407028  93.06336352  71.06284197\n",
      "  84.81666618  65.1452636   65.76827399 101.72902817  87.93130129\n",
      "  74.22989541  98.9897309 ], Error = 0.009960085383056594\n",
      "Convergencia alcanzada en la iteración 10 con error 9.9601e-03.\n",
      "\n",
      "Solución final: x = [ 89.44198411  66.71985186  67.44407028  93.06336352  71.06284197\n",
      "  84.81666618  65.1452636   65.76827399 101.72902817  87.93130129\n",
      "  74.22989541  98.9897309 ]\n",
      "\n"
     ]
    }
   ],
   "source": [
    "\n",
    "b = np.array([220, 110, 110, 220, 110, 110, 110, 110, 220, 110, 110, 220])\n",
    "x0 = np.zeros(len(b))\n",
    "\n",
    "print(\"Método de Siedel:\")\n",
    "_ = gauss_seidel_method(A, b, x0, 50, 1e-2)"
   ]
  }
 ],
 "metadata": {
  "kernelspec": {
   "display_name": "Python 3",
   "language": "python",
   "name": "python3"
  },
  "language_info": {
   "codemirror_mode": {
    "name": "ipython",
    "version": 3
   },
   "file_extension": ".py",
   "mimetype": "text/x-python",
   "name": "python",
   "nbconvert_exporter": "python",
   "pygments_lexer": "ipython3",
   "version": "3.11.9"
  }
 },
 "nbformat": 4,
 "nbformat_minor": 5
}
