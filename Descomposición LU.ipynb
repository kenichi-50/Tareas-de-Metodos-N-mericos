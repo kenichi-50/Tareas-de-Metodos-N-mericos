{
 "cells": [
  {
   "cell_type": "markdown",
   "id": "13f434b7",
   "metadata": {},
   "source": [
    "# TAREA N° 10\n",
    "\n",
    "**Nombre:**\n",
    "\n",
    "Joel Stalin Tinitana Carrion \n",
    "\n",
    "**Fecha:**\n",
    "\n",
    "17/07/2025\n",
    "\n",
    "**Tema:**\n",
    "\n",
    "Descomposición LU"
   ]
  },
  {
   "cell_type": "markdown",
   "id": "a7ec6ae0",
   "metadata": {},
   "source": [
    "### CONJUNTO DE EJERCICIOS"
   ]
  },
  {
   "cell_type": "markdown",
   "id": "75229516",
   "metadata": {},
   "source": [
    "#### 1. Realice la siguiente multiplicación matriz-matriz:\n",
    "**1.a**\n",
    "$$\n",
    "\\begin{bmatrix}2 & -3\\\\3 & -1\\end{bmatrix}\n",
    "\\begin{bmatrix}1 & 5\\\\2 & 0\\end{bmatrix}\n",
    "$$\n",
    "\n"
   ]
  },
  {
   "cell_type": "code",
   "execution_count": 2,
   "id": "05ad4b12",
   "metadata": {},
   "outputs": [
    {
     "name": "stdout",
     "output_type": "stream",
     "text": [
      "Resultado:\n",
      "[[-4 10]\n",
      " [ 1 15]]\n"
     ]
    }
   ],
   "source": [
    "import numpy as np\n",
    "\n",
    "A = np.array([[2, -3], [3, -1]])\n",
    "B = np.array([[1, 5], [2, 0]])\n",
    "\n",
    "resultado_a = np.dot(A, B)\n",
    "print(\"Resultado:\")\n",
    "print(resultado_a)"
   ]
  },
  {
   "cell_type": "markdown",
   "id": "7cb8a350",
   "metadata": {},
   "source": [
    "**1.b**\n",
    "$$\n",
    "\\begin{bmatrix}2 & -3\\\\3 & -1\\end{bmatrix}\n",
    "\\begin{bmatrix}1 & 5 & -4\\\\-3 & 2 & 0\\end{bmatrix}\n",
    "$$\n"
   ]
  },
  {
   "cell_type": "code",
   "execution_count": 3,
   "id": "3b04e456",
   "metadata": {},
   "outputs": [
    {
     "name": "stdout",
     "output_type": "stream",
     "text": [
      "Resultado:\n",
      "[[ 11   4  -8]\n",
      " [  6  13 -12]]\n"
     ]
    }
   ],
   "source": [
    "A = np.array([[2, -3], [3, -1]])\n",
    "B = np.array([[1, 5, -4], [-3, 2, 0]])\n",
    "\n",
    "resultado_b = np.dot(A, B)\n",
    "print(\"Resultado:\")\n",
    "print(resultado_b)"
   ]
  },
  {
   "cell_type": "markdown",
   "id": "4be9485d",
   "metadata": {},
   "source": [
    "**1.c**\n",
    "$$\n",
    "\\begin{bmatrix}2 & -3 & 1\\\\4 & 3 & 0\\\\5 & 2 & -4\\end{bmatrix}\n",
    "\\begin{bmatrix}0 & 1 & -2\\\\1 & 0 & -1\\\\2 & 3 & -2\\end{bmatrix}\n",
    "$$\n"
   ]
  },
  {
   "cell_type": "code",
   "execution_count": 4,
   "id": "7a9d7a5d",
   "metadata": {},
   "outputs": [
    {
     "name": "stdout",
     "output_type": "stream",
     "text": [
      "Resultado:\n",
      "[[ -1   5  -3]\n",
      " [  3   4 -11]\n",
      " [ -6  -7  -4]]\n"
     ]
    }
   ],
   "source": [
    "A = np.array([[2, -3, 1], [4, 3, 0], [5, 2, -4]])\n",
    "B = np.array([[0, 1, -2], [1, 0, -1], [2, 3, -2]])\n",
    "\n",
    "resultado_c = np.dot(A, B)\n",
    "print(\"Resultado:\")\n",
    "print(resultado_c)"
   ]
  },
  {
   "cell_type": "markdown",
   "id": "52768214",
   "metadata": {},
   "source": [
    "**1.d**\n",
    "$$\n",
    "\\begin{bmatrix}\n",
    "2 & 1 & 2 \\\\\n",
    "-2 & 3 & 0 \\\\\n",
    "2 & -1 & 3\n",
    "\\end{bmatrix}\n",
    "\\begin{bmatrix}\n",
    "1 & -2 \\\\\n",
    "-4 & 1 \\\\\n",
    "0 & 2\n",
    "\\end{bmatrix}\n",
    "$$\n",
    "\n"
   ]
  },
  {
   "cell_type": "code",
   "execution_count": 5,
   "id": "e71ee54b",
   "metadata": {},
   "outputs": [
    {
     "name": "stdout",
     "output_type": "stream",
     "text": [
      "Resultado:\n",
      "[[ -2   1]\n",
      " [-14   7]\n",
      " [  6   1]]\n"
     ]
    }
   ],
   "source": [
    "\n",
    "A = np.array([[2, 1, 2], [-2, 3, 0], [2, -1, 3]])\n",
    "B = np.array([[1, -2], [-4, 1], [0, 2]])\n",
    "\n",
    "resultado_d = np.dot(A, B)\n",
    "print(\"Resultado:\")\n",
    "print(resultado_d)"
   ]
  },
  {
   "cell_type": "markdown",
   "id": "8cafed3b",
   "metadata": {},
   "source": [
    "#### 2. Determine cuáles de las siguientes matrices son no singulares y calcule la inversa de esas matrices:"
   ]
  },
  {
   "cell_type": "code",
   "execution_count": 10,
   "id": "f00dda80",
   "metadata": {},
   "outputs": [],
   "source": [
    "import numpy as np\n",
    "\n",
    "def analizar_matriz(matriz):\n",
    "    try:\n",
    "        det = np.linalg.det(matriz)\n",
    "        print(f\"Determinante: {det:.6f}\")\n",
    "        \n",
    "        # Usar tolerancia para evitar errores por redondeo\n",
    "        if abs(det) > 1e-10:\n",
    "            inversa = np.linalg.inv(matriz)\n",
    "            print(\"La matriz es NO singular.\")\n",
    "            print(\"Inversa:\")\n",
    "            print(np.round(inversa, 4))  # redondeo a 4 decimales\n",
    "            print()\n",
    "        else:\n",
    "            print(\"La matriz es SINGULAR (no tiene inversa).\\n\")\n",
    "    except Exception as e:\n",
    "        print(f\"Error en el análisis - {e}\\n\")\n"
   ]
  },
  {
   "cell_type": "markdown",
   "id": "349349d0",
   "metadata": {},
   "source": [
    "**2.a**\n",
    "$$\n",
    "\\begin{bmatrix}4 & 2 & 6\\\\3 & 0 & 7\\\\-2 & -1 & -3\\end{bmatrix}\n",
    "$$"
   ]
  },
  {
   "cell_type": "code",
   "execution_count": 11,
   "id": "a732d3ba",
   "metadata": {},
   "outputs": [
    {
     "name": "stdout",
     "output_type": "stream",
     "text": [
      "Determinante: 0.000000\n",
      "La matriz es SINGULAR (no tiene inversa).\n",
      "\n"
     ]
    }
   ],
   "source": [
    "\n",
    "A = np.array([[4, 2, 6], [3, 0, 7], [-2, -1, -3]])\n",
    "analizar_matriz(A)"
   ]
  },
  {
   "cell_type": "markdown",
   "id": "a9f19070",
   "metadata": {},
   "source": [
    "**2.b**\n",
    "$$\n",
    "\\begin{bmatrix}1 & 2 & 0\\\\2 & 1 & -1\\\\3 & 1 & 1\\end{bmatrix}\n",
    "$$\n"
   ]
  },
  {
   "cell_type": "code",
   "execution_count": 16,
   "id": "544fe9a8",
   "metadata": {},
   "outputs": [
    {
     "name": "stdout",
     "output_type": "stream",
     "text": [
      "Determinante: -8.000000\n",
      "La matriz es NO singular.\n",
      "Inversa:\n",
      "[[-0.25   0.25   0.25 ]\n",
      " [ 0.625 -0.125 -0.125]\n",
      " [ 0.125 -0.625  0.375]]\n",
      "\n"
     ]
    }
   ],
   "source": [
    "A = np.array([[1, 2, 0], [2, 1, -1], [3, 1, 1]])\n",
    "analizar_matriz(A)"
   ]
  },
  {
   "cell_type": "markdown",
   "id": "a8d313c8",
   "metadata": {},
   "source": [
    "**2.c**\n",
    "$$\n",
    "\\begin{bmatrix}\n",
    "1 & 1 & -1 & 1 \\\\\n",
    "1 & 2 & -4 & -2 \\\\\n",
    "2 & 1 & 1 & 5 \\\\\n",
    "-1 & 0 & -2 & -4\n",
    "\\end{bmatrix}\n",
    "$$\n",
    "\n"
   ]
  },
  {
   "cell_type": "code",
   "execution_count": 17,
   "id": "d85bbdf7",
   "metadata": {},
   "outputs": [
    {
     "name": "stdout",
     "output_type": "stream",
     "text": [
      "Determinante: 0.000000\n",
      "La matriz es SINGULAR (no tiene inversa).\n",
      "\n"
     ]
    }
   ],
   "source": [
    "A = np.array([[1, 1, -1, 1], [1, 2, -4, -2], [2, 1, 1, 5], [-1, 0, -2, -4]])\n",
    "analizar_matriz(A)"
   ]
  },
  {
   "cell_type": "markdown",
   "id": "fa4ab734",
   "metadata": {},
   "source": [
    "**2.d**\n",
    "$$\n",
    "\\begin{bmatrix}\n",
    "4 & 0 & 0 & 0 \\\\\n",
    "6 & 7 & 0 & 0 \\\\\n",
    "9 & 11 & 1 & 0 \\\\\n",
    "5 & 4 & 1 & 1\n",
    "\\end{bmatrix}\n",
    "$$\n"
   ]
  },
  {
   "cell_type": "code",
   "execution_count": 18,
   "id": "a62aa559",
   "metadata": {},
   "outputs": [
    {
     "name": "stdout",
     "output_type": "stream",
     "text": [
      "Determinante: 28.000000\n",
      "La matriz es NO singular.\n",
      "Inversa:\n",
      "[[ 0.25    0.      0.      0.    ]\n",
      " [-0.2143  0.1429 -0.     -0.    ]\n",
      " [ 0.1071 -1.5714  1.     -0.    ]\n",
      " [-0.5     1.     -1.      1.    ]]\n",
      "\n"
     ]
    }
   ],
   "source": [
    "\n",
    "A = np.array([[4, 0, 0, 0], [6, 7, 0, 0], [9, 11, 1, 0], [5, 4, 1, 1]])\n",
    "analizar_matriz(A)"
   ]
  },
  {
   "cell_type": "markdown",
   "id": "61addbf6",
   "metadata": {},
   "source": [
    "#### 3. Resuelva los sistemas lineales 4 x 4 que tienen la misma matriz de coeficientes:\n",
    "\n",
    "**Sistema 1**\n",
    "$$\n",
    "x_1 - x_2 + 2x_3 - x_4 = 6 \\\\\n",
    "x_1 - x_3 + x_4 = 4 \\\\\n",
    "2x_1 + x_2 + 3x_3 - 4x_4 = -2 \\\\\n",
    "- x_2 + x_3 - x_4 = 5\n",
    "$$\n"
   ]
  },
  {
   "cell_type": "markdown",
   "id": "2945482c",
   "metadata": {},
   "source": [
    "**Sistema 2**\n",
    "$$\n",
    "x_1 - x_2 + 2x_3 - x_4 = 1 \\\\\n",
    "x_1 - x_3 + x_4 = 1 \\\\\n",
    "2x_1 + x_2 + 3x_3 - 4x_4 = 2 \\\\\n",
    "- x_2 + x_3 - x_4 = -1\n",
    "$$\n"
   ]
  },
  {
   "cell_type": "code",
   "execution_count": 22,
   "id": "af29be7f",
   "metadata": {},
   "outputs": [
    {
     "name": "stdout",
     "output_type": "stream",
     "text": [
      "Primer sistema:\n",
      "x1 = 3.00, x2 = -6.00, x3 = -2.00, x4 = -1.00\n",
      "\n",
      "Segundo sistema:\n",
      "x1 = 1.00, x2 = 1.00, x3 = 1.00, x4 = 1.00\n"
     ]
    }
   ],
   "source": [
    "\n",
    "A = np.array([\n",
    "    [1, -1, 2, -1],\n",
    "    [1, 0, -1, 1],\n",
    "    [2, 1, 3, -4],\n",
    "    [0, -1, 1, -1]\n",
    "])\n",
    "\n",
    "b1 = np.array([6, 4, -2, 5])\n",
    "\n",
    "x1 = np.linalg.solve(A, b1)\n",
    "\n",
    "print(\"Primer sistema:\")\n",
    "print(f\"x1 = {x1[0]:.2f}, x2 = {x1[1]:.2f}, x3 = {x1[2]:.2f}, x4 = {x1[3]:.2f}\\n\")\n",
    "\n",
    "b2 = np.array([1, 1, 2, -1])\n",
    "\n",
    "x2 = np.linalg.solve(A, b2)\n",
    "\n",
    "print(\"Segundo sistema:\")\n",
    "print(f\"x1 = {x2[0]:.2f}, x2 = {x2[1]:.2f}, x3 = {x2[2]:.2f}, x4 = {x2[3]:.2f}\")"
   ]
  },
  {
   "cell_type": "markdown",
   "id": "583ca707",
   "metadata": {},
   "source": [
    "#### 4. Encuentre los valores de A que hacen que la siguiente matriz sea singular.\n",
    "\n",
    "$$\n",
    "A = \\begin{bmatrix}\n",
    "1 & -1 & \\alpha \\\\\n",
    "2 & 2 & 1 \\\\\n",
    "0 & \\alpha & -\\tfrac{3}{2}\n",
    "\\end{bmatrix}\n",
    "$$\n"
   ]
  },
  {
   "cell_type": "markdown",
   "id": "69d157a4",
   "metadata": {},
   "source": [
    "Una matriz es **singular** si:\n",
    "\n",
    "$$\n",
    "\\det(A) = 0\n",
    "$$\n",
    "\n",
    "**Cálculo del determinante:**\n",
    "\n",
    "$$\n",
    "\\det(A) =\n",
    "1 \\cdot \n",
    "\\begin{vmatrix}\n",
    "2 & 1 \\\\\n",
    "\\alpha & -\\tfrac{3}{2}\n",
    "\\end{vmatrix}\n",
    "-\n",
    "(-1) \\cdot\n",
    "\\begin{vmatrix}\n",
    "2 & 1 \\\\\n",
    "0 & -\\tfrac{3}{2}\n",
    "\\end{vmatrix}\n",
    "+\n",
    "\\alpha \\cdot\n",
    "\\begin{vmatrix}\n",
    "2 & 2 \\\\\n",
    "0 & \\alpha\n",
    "\\end{vmatrix}\n",
    "$$\n",
    "\n",
    "**Primer menor:**\n",
    "\n",
    "$$\n",
    "\\begin{vmatrix}\n",
    "2 & 1 \\\\\n",
    "\\alpha & -\\tfrac{3}{2}\n",
    "\\end{vmatrix}\n",
    "= (2)(-1.5) - (1)(\\alpha) = -3 - \\alpha\n",
    "$$\n",
    "\n",
    "**Segundo menor:**\n",
    "\n",
    "$$\n",
    "\\begin{vmatrix}\n",
    "2 & 1 \\\\\n",
    "0 & -\\tfrac{3}{2}\n",
    "\\end{vmatrix}\n",
    "= (2)(-1.5) - (1)(0) = -3\n",
    "$$\n",
    "\n",
    "**Tercer menor:**\n",
    "\n",
    "$$\n",
    "\\begin{vmatrix}\n",
    "2 & 2 \\\\\n",
    "0 & \\alpha\n",
    "\\end{vmatrix}\n",
    "= (2)(\\alpha) - (2)(0) = 2\\alpha\n",
    "$$\n",
    "\n",
    "**Sustituimos en la expansión:**\n",
    "\n",
    "$$\n",
    "\\det(A) = 1(-3 - \\alpha) + 1(-3) + \\alpha (2\\alpha)\n",
    "$$\n",
    "\n",
    "$$\n",
    "\\det(A) = (-3 - \\alpha) - 3 + 2\\alpha^2\n",
    "$$\n",
    "\n",
    "$$\n",
    "\\det(A) = 2\\alpha^2 - \\alpha - 6\n",
    "$$\n",
    "\n",
    "**Para que sea singular:**\n",
    "\n",
    "$$\n",
    "2\\alpha^2 - \\alpha - 6 = 0\n",
    "$$\n",
    "\n",
    "**Resolvemos la ecuación cuadrática:**\n",
    "\n",
    "$$\n",
    "\\alpha = \\frac{-(-1) \\pm \\sqrt{(-1)^2 - 4(2)(-6)}}{2(2)}\n",
    "$$\n",
    "\n",
    "$$\n",
    "\\alpha = \\frac{1 \\pm \\sqrt{1 + 48}}{4}\n",
    "$$\n",
    "\n",
    "$$\n",
    "\\alpha = \\frac{1 \\pm 7}{4}\n",
    "$$\n",
    "\n",
    "**Valores:**\n",
    "\n",
    "$$\n",
    "\\alpha_1 = \\frac{1 + 7}{4} = \\frac{8}{4} = 2\n",
    "$$\n",
    "\n",
    "$$\n",
    "\\alpha_2 = \\frac{1 - 7}{4} = \\frac{-6}{4} = -\\tfrac{3}{2}\n",
    "$$\n",
    "\n",
    "**Respuesta:**\n",
    "\n",
    "$$\n",
    "\\boxed{\\alpha = 2 \\quad \\text{o} \\quad \\alpha = -\\tfrac{3}{2}}\n",
    "$$\n"
   ]
  },
  {
   "cell_type": "markdown",
   "id": "d1cf4a51",
   "metadata": {},
   "source": [
    "#### 5. Resuelva los siguientes sistemas lineales:\n",
    "\n",
    "**5.a**\n",
    "$$\n",
    "\\begin{bmatrix}\n",
    "1 & 0 & 0 \\\\\n",
    "2 & 1 & 0 \\\\\n",
    "-1 & 0 & 1\n",
    "\\end{bmatrix}\n",
    "\\begin{bmatrix}\n",
    "2 & 3 & -1 \\\\\n",
    "0 & -2 & 1 \\\\\n",
    "0 & 0 & 3\n",
    "\\end{bmatrix}\n",
    "\\begin{bmatrix}\n",
    "x_1 \\\\ x_2 \\\\ x_3\n",
    "\\end{bmatrix}\n",
    "=\n",
    "\\begin{bmatrix}\n",
    "2 \\\\ -1 \\\\ 1\n",
    "\\end{bmatrix}\n",
    "$$\n"
   ]
  },
  {
   "cell_type": "code",
   "execution_count": 23,
   "id": "f61922f4",
   "metadata": {},
   "outputs": [
    {
     "name": "stdout",
     "output_type": "stream",
     "text": [
      "Literal a:\n",
      "x1 = -3.00, x2 = 3.00, x3 = 1.00\n",
      "\n"
     ]
    }
   ],
   "source": [
    "A = np.array([\n",
    "    [1, 0, 0],\n",
    "    [2, 1, 0],\n",
    "    [-1, 0, 1]\n",
    "])\n",
    "\n",
    "B = np.array([\n",
    "    [2, 3, -1],\n",
    "    [0, -2, 1],\n",
    "    [0, 0, 3]\n",
    "])\n",
    "\n",
    "b = np.array([2, -1, 1])\n",
    "\n",
    "x_a = np.linalg.solve(A @ B, b)\n",
    "print(\"Literal a:\")\n",
    "print(f\"x1 = {x_a[0]:.2f}, x2 = {x_a[1]:.2f}, x3 = {x_a[2]:.2f}\\n\")"
   ]
  },
  {
   "cell_type": "markdown",
   "id": "93a9d22f",
   "metadata": {},
   "source": [
    "**5.b**\n",
    "$$\n",
    "\\begin{bmatrix}\n",
    "2 & 0 & 0 \\\\\n",
    "-1 & 1 & 0 \\\\\n",
    "3 & 2 & -1\n",
    "\\end{bmatrix}\n",
    "\\begin{bmatrix}\n",
    "1 & 1 & 1 \\\\\n",
    "0 & 1 & 2 \\\\\n",
    "0 & 0 & 1\n",
    "\\end{bmatrix}\n",
    "\\begin{bmatrix}\n",
    "x_1 \\\\ x_2 \\\\ x_3\n",
    "\\end{bmatrix}\n",
    "=\n",
    "\\begin{bmatrix}\n",
    "-1 \\\\ 3 \\\\ 0\n",
    "\\end{bmatrix}\n",
    "$$\n"
   ]
  },
  {
   "cell_type": "code",
   "execution_count": 24,
   "id": "8e84c2d6",
   "metadata": {},
   "outputs": [
    {
     "name": "stdout",
     "output_type": "stream",
     "text": [
      "Literal b:\n",
      "x1 = 0.50, x2 = -4.50, x3 = 3.50\n"
     ]
    }
   ],
   "source": [
    "A = np.array([\n",
    "    [2, 0, 0],\n",
    "    [-1, 1, 0],\n",
    "    [3, 2, -1]\n",
    "])\n",
    "B = np.array([\n",
    "    [1, 1, 1],\n",
    "    [0, 1, 2],\n",
    "    [0, 0, 1]\n",
    "])\n",
    "b = np.array([-1, 3, 0])\n",
    "\n",
    "x = np.linalg.solve(A @ B, b)\n",
    "print(\"Literal b:\")\n",
    "print(f\"x1 = {x[0]:.2f}, x2 = {x[1]:.2f}, x3 = {x[2]:.2f}\")"
   ]
  },
  {
   "cell_type": "markdown",
   "id": "4abdf158",
   "metadata": {},
   "source": [
    "#### 6. Factorice las siguientes matrices en la descomposición LU mediante el algoritmo de factorización LU con $\\ell_{ii} = 1$ para todas las $i$:\n"
   ]
  },
  {
   "cell_type": "code",
   "execution_count": 25,
   "id": "d639ac12",
   "metadata": {},
   "outputs": [],
   "source": [
    "\n",
    "from scipy.linalg import lu\n",
    "\n",
    "def factorizar_lu(matriz):\n",
    "    P, L, U = lu(matriz)\n",
    "    print(\"Matriz L:\")\n",
    "    print(L)\n",
    "    print(\"Matriz U:\")\n",
    "    print(U)\n",
    "    print(\"Matriz P (permuta):\")\n",
    "    print(P)\n",
    "    print(\"\\n\")"
   ]
  },
  {
   "cell_type": "markdown",
   "id": "55d705cb",
   "metadata": {},
   "source": [
    "**6.a**\n",
    "$$\n",
    "\\begin{bmatrix}\n",
    "2 & -1 & 1 \\\\\n",
    "3 & 3 & 9 \\\\\n",
    "3 & 3 & 5\n",
    "\\end{bmatrix}\n",
    "$$\n"
   ]
  },
  {
   "cell_type": "code",
   "execution_count": 26,
   "id": "5b114816",
   "metadata": {},
   "outputs": [
    {
     "name": "stdout",
     "output_type": "stream",
     "text": [
      "Matriz L:\n",
      "[[ 1.          0.          0.        ]\n",
      " [ 0.66666667  1.          0.        ]\n",
      " [ 1.         -0.          1.        ]]\n",
      "Matriz U:\n",
      "[[ 3.  3.  9.]\n",
      " [ 0. -3. -5.]\n",
      " [ 0.  0. -4.]]\n",
      "Matriz P (permuta):\n",
      "[[0. 1. 0.]\n",
      " [1. 0. 0.]\n",
      " [0. 0. 1.]]\n",
      "\n",
      "\n"
     ]
    }
   ],
   "source": [
    "A = np.array([\n",
    "    [2, -1, 1],\n",
    "    [3,  3, 9],\n",
    "    [3,  3, 5]\n",
    "])\n",
    "factorizar_lu(A)"
   ]
  },
  {
   "cell_type": "markdown",
   "id": "34c2eb5d",
   "metadata": {},
   "source": [
    "**6.b**\n",
    "$$\n",
    "\\begin{bmatrix}\n",
    "1.012 & -2.132 & 3.104 \\\\\n",
    "-2.132 & 4.096 & -7.013 \\\\\n",
    "3.104 & -7.013 & 0.014\n",
    "\\end{bmatrix}\n",
    "$$\n"
   ]
  },
  {
   "cell_type": "code",
   "execution_count": 27,
   "id": "07c09d29",
   "metadata": {},
   "outputs": [
    {
     "name": "stdout",
     "output_type": "stream",
     "text": [
      "Matriz L:\n",
      "[[ 1.          0.          0.        ]\n",
      " [-0.68685567  1.          0.        ]\n",
      " [ 0.32603093 -0.21424728  1.        ]]\n",
      "Matriz U:\n",
      "[[ 3.104      -7.013       0.014     ]\n",
      " [ 0.         -0.72091881 -7.00338402]\n",
      " [ 0.          0.          1.59897957]]\n",
      "Matriz P (permuta):\n",
      "[[0. 0. 1.]\n",
      " [0. 1. 0.]\n",
      " [1. 0. 0.]]\n",
      "\n",
      "\n"
     ]
    }
   ],
   "source": [
    "\n",
    "A = np.array([\n",
    "    [1.012, -2.132, 3.104],\n",
    "    [-2.132, 4.096, -7.013],\n",
    "    [3.104, -7.013, 0.014]\n",
    "])\n",
    "factorizar_lu(A)"
   ]
  },
  {
   "cell_type": "markdown",
   "id": "2723d25c",
   "metadata": {},
   "source": [
    "**6.c**\n",
    "$$\n",
    "\\begin{bmatrix}\n",
    "2 & 0 & 0 & 0 \\\\\n",
    "1 & 1.5 & 0 & 0 \\\\\n",
    "0 & -3 & 0.5 & 0 \\\\\n",
    "2 & -2 & 1 & 1\n",
    "\\end{bmatrix}\n",
    "$$\n"
   ]
  },
  {
   "cell_type": "code",
   "execution_count": 28,
   "id": "de813ce5",
   "metadata": {},
   "outputs": [
    {
     "name": "stdout",
     "output_type": "stream",
     "text": [
      "Matriz L:\n",
      "[[ 1.          0.          0.        ]\n",
      " [-0.68685567  1.          0.        ]\n",
      " [ 0.32603093 -0.21424728  1.        ]]\n",
      "Matriz U:\n",
      "[[ 3.104      -7.013       0.014     ]\n",
      " [ 0.         -0.72091881 -7.00338402]\n",
      " [ 0.          0.          1.59897957]]\n",
      "Matriz P (permuta):\n",
      "[[0. 0. 1.]\n",
      " [0. 1. 0.]\n",
      " [1. 0. 0.]]\n",
      "\n",
      "\n"
     ]
    }
   ],
   "source": [
    "A_c = np.array([\n",
    "    [2, 0, 0, 0],\n",
    "    [1, 1.5, 0, 0],\n",
    "    [0, -3, 0.5, 0],\n",
    "    [2, -2, 1, 1]\n",
    "])\n",
    "factorizar_lu(A)"
   ]
  },
  {
   "cell_type": "markdown",
   "id": "3884b46e",
   "metadata": {},
   "source": [
    "**6.d**\n",
    "$$\n",
    "\\begin{bmatrix}\n",
    "2.1756 & 4.0231 & -2.1732 & 5.1967 \\\\\n",
    "-4.0231 & 6.0000 & 0 & 1.1973 \\\\\n",
    "-1.0000 & -5.2107 & 1.1111 & 0 \\\\\n",
    "6.0235 & 7.0000 & 0 & -4.1561\n",
    "\\end{bmatrix}\n",
    "$$\n"
   ]
  },
  {
   "cell_type": "code",
   "execution_count": 29,
   "id": "bf4bad4d",
   "metadata": {},
   "outputs": [
    {
     "name": "stdout",
     "output_type": "stream",
     "text": [
      "Matriz L:\n",
      "[[ 1.          0.          0.          0.        ]\n",
      " [-0.66790072  1.          0.          0.        ]\n",
      " [ 0.36118536  0.14002434  1.          0.        ]\n",
      " [-0.16601644 -0.37924771 -0.5112737   1.        ]]\n",
      "Matriz U:\n",
      "[[ 6.0235      7.          0.         -4.1561    ]\n",
      " [ 0.         10.67530506  0.         -1.57856219]\n",
      " [ 0.          0.         -2.1732      6.91885959]\n",
      " [ 0.          0.          0.          2.24878393]]\n",
      "Matriz P (permuta):\n",
      "[[0. 0. 1. 0.]\n",
      " [0. 1. 0. 0.]\n",
      " [0. 0. 0. 1.]\n",
      " [1. 0. 0. 0.]]\n",
      "\n",
      "\n"
     ]
    }
   ],
   "source": [
    "A = np.array([\n",
    "    [2.1756, 4.0231, -2.1732, 5.1967],\n",
    "    [-4.0231, 6.0000, 0.0000, 1.1973],\n",
    "    [-1.0000, -5.2107, 1.1111, 0.0000],\n",
    "    [6.0235, 7.0000, 0.0000, -4.1561]\n",
    "])\n",
    "factorizar_lu(A)"
   ]
  },
  {
   "cell_type": "markdown",
   "id": "5763bd81",
   "metadata": {},
   "source": [
    "#### 7. Modifique el algoritmo de eliminación gaussiana de tal forma que se pueda utilizar para resolver un sistema lineal usando la descomposición LU y, a continuación, resuelva los siguientes sistemas lineales"
   ]
  },
  {
   "cell_type": "code",
   "execution_count": 31,
   "id": "61d0ff94",
   "metadata": {},
   "outputs": [],
   "source": [
    "from scipy.linalg import lu_factor, lu_solve\n",
    "\n",
    "def resolver_sistema_con_lu(A, b):\n",
    "    lu, piv = lu_factor(A)\n",
    "    x = lu_solve((lu, piv), b)\n",
    "    \n",
    "    print(\"Solución:\")\n",
    "    for i, val in enumerate(x):\n",
    "        print(f\"x{i+1} = {val:.4f}\")\n",
    "    print(\"\\n\")"
   ]
  },
  {
   "cell_type": "markdown",
   "id": "5d68fa44",
   "metadata": {},
   "source": [
    "**7.a**\n",
    "$$\n",
    "\\begin{cases}\n",
    "2x_1 - x_2 + x_3 = -1 \\\\\n",
    "3x_1 + 3x_2 + 9x_3 = 0 \\\\\n",
    "3x_1 + 3x_2 + 5x_3 = 4\n",
    "\\end{cases}\n",
    "$$\n"
   ]
  },
  {
   "cell_type": "code",
   "execution_count": 32,
   "id": "db91a21a",
   "metadata": {},
   "outputs": [
    {
     "name": "stdout",
     "output_type": "stream",
     "text": [
      "Solución:\n",
      "x1 = 1.0000\n",
      "x2 = 2.0000\n",
      "x3 = -1.0000\n",
      "\n",
      "\n"
     ]
    }
   ],
   "source": [
    "A = np.array([\n",
    "    [2, -1, 1],\n",
    "    [3,  3, 9],\n",
    "    [3,  3, 5]\n",
    "])\n",
    "b = np.array([-1, 0, 4])\n",
    "resolver_sistema_con_lu(A, b)"
   ]
  },
  {
   "cell_type": "markdown",
   "id": "c990adf4",
   "metadata": {},
   "source": [
    "**7.b**\n",
    "$$\n",
    "\\begin{cases}\n",
    "1.012x_1 - 2.132x_2 + 3.104x_3 = 1.984 \\\\\n",
    "-2.132x_1 + 4.096x_2 - 7.013x_3 = -5.049 \\\\\n",
    "3.104x_1 - 7.013x_2 + 0.014x_3 = -3.895\n",
    "\\end{cases}\n",
    "$$\n"
   ]
  },
  {
   "cell_type": "code",
   "execution_count": 33,
   "id": "25a7f6d9",
   "metadata": {},
   "outputs": [
    {
     "name": "stdout",
     "output_type": "stream",
     "text": [
      "Solución:\n",
      "x1 = 1.0000\n",
      "x2 = 1.0000\n",
      "x3 = 1.0000\n",
      "\n",
      "\n"
     ]
    }
   ],
   "source": [
    "\n",
    "A = np.array([\n",
    "    [1.012, -2.132, 3.104],\n",
    "    [-2.132, 4.096, -7.013],\n",
    "    [3.104, -7.013, 0.014]\n",
    "])\n",
    "b = np.array([1.984, -5.049, -3.895])\n",
    "resolver_sistema_con_lu(A, b)"
   ]
  },
  {
   "cell_type": "markdown",
   "id": "0d75a12f",
   "metadata": {},
   "source": [
    "**7.c**\n",
    "$$\n",
    "\\begin{cases}\n",
    "2x_1 = 3 \\\\\n",
    "x_1 + 1.5x_2 = 4.5 \\\\\n",
    "-3x_2 + 0.5x_3 = -6.6 \\\\\n",
    "2x_1 - 2x_2 + x_3 + x_4 = 0.8\n",
    "\\end{cases}\n",
    "$$\n"
   ]
  },
  {
   "cell_type": "code",
   "execution_count": 34,
   "id": "f92a3def",
   "metadata": {},
   "outputs": [
    {
     "name": "stdout",
     "output_type": "stream",
     "text": [
      "Solución:\n",
      "x1 = 1.5000\n",
      "x2 = 2.0000\n",
      "x3 = -1.2000\n",
      "x4 = 3.0000\n",
      "\n",
      "\n"
     ]
    }
   ],
   "source": [
    "\n",
    "A = np.array([\n",
    "    [2, 0, 0, 0],\n",
    "    [1, 1.5, 0, 0],\n",
    "    [0, -3, 0.5, 0],\n",
    "    [2, -2, 1, 1]\n",
    "])\n",
    "b = np.array([3, 4.5, -6.6, 0.8])\n",
    "resolver_sistema_con_lu(A, b)"
   ]
  },
  {
   "cell_type": "markdown",
   "id": "eec2fa7e",
   "metadata": {},
   "source": [
    "**7.d**\n",
    "$$\n",
    "\\begin{cases}\n",
    "2.1756x_1 + 4.0231x_2 - 2.1732x_3 + 5.1967x_4 = 17.102 \\\\\n",
    "-4.0231x_1 + 6.0000x_2 + 1.1973x_4 = -6.1593 \\\\\n",
    "-1.0000x_1 - 5.2107x_2 + 1.1111x_3 = 3.0004 \\\\\n",
    "6.0235x_1 + 7.0000x_2 - 4.1561x_4 = 0.0000\n",
    "\\end{cases}\n",
    "$$\n"
   ]
  },
  {
   "cell_type": "code",
   "execution_count": 35,
   "id": "8f785dc4",
   "metadata": {},
   "outputs": [
    {
     "name": "stdout",
     "output_type": "stream",
     "text": [
      "Solución:\n",
      "x1 = 2.9399\n",
      "x2 = 0.0707\n",
      "x3 = 5.6777\n",
      "x4 = 4.3798\n",
      "\n",
      "\n"
     ]
    }
   ],
   "source": [
    "\n",
    "A = np.array([\n",
    "    [2.1756, 4.0231, -2.1732, 5.1967],\n",
    "    [-4.0231, 6.0000, 0, 1.1973],\n",
    "    [-1.0000, -5.2107, 1.1111, 0],\n",
    "    [6.0235, 7.0000, 0, -4.1561]\n",
    "])\n",
    "b = np.array([17.102, -6.1593, 3.0004, 0.0000])\n",
    "resolver_sistema_con_lu(A, b)"
   ]
  }
 ],
 "metadata": {
  "kernelspec": {
   "display_name": "Python 3",
   "language": "python",
   "name": "python3"
  },
  "language_info": {
   "codemirror_mode": {
    "name": "ipython",
    "version": 3
   },
   "file_extension": ".py",
   "mimetype": "text/x-python",
   "name": "python",
   "nbconvert_exporter": "python",
   "pygments_lexer": "ipython3",
   "version": "3.11.9"
  }
 },
 "nbformat": 4,
 "nbformat_minor": 5
}
