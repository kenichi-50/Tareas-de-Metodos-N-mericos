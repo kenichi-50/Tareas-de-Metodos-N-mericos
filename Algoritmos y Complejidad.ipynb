{
 "cells": [
  {
   "cell_type": "markdown",
   "id": "135efadd",
   "metadata": {},
   "source": [
    "# TAREA N° 3\n",
    "**Nombre:**\n",
    "\n",
    "Joel Stalin Tinitana Carrion \n",
    "\n",
    "**Fecha:**\n",
    "\n",
    "05/05/2025\n",
    "\n",
    "**Tema:**\n",
    "\n",
    "Algoritmos y Complejidad"
   ]
  },
  {
   "cell_type": "markdown",
   "id": "93c62be8",
   "metadata": {},
   "source": []
  }
 ],
 "metadata": {
  "language_info": {
   "name": "python"
  }
 },
 "nbformat": 4,
 "nbformat_minor": 5
}
