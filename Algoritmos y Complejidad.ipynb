{
 "cells": [
  {
   "cell_type": "markdown",
   "id": "135efadd",
   "metadata": {},
   "source": [
    "# TAREA N° 3\n",
    "**Nombre:**\n",
    "\n",
    "Joel Stalin Tinitana Carrion \n",
    "\n",
    "**Fecha:**\n",
    "\n",
    "05/05/2025\n",
    "\n",
    "**Tema:**\n",
    "\n",
    "Algoritmos y Complejidad"
   ]
  },
  {
   "cell_type": "markdown",
   "id": "d5236cb2",
   "metadata": {},
   "source": [
    "## CONJUNTO DE EJERCICIOS 1.3\n",
    "\n",
    "**1.** Utilice aritmética de corte de tres dígitos para calcular las siguientes sumas.  \n",
    "Para cada parte, ¿qué método es más preciso y por qué?\n",
    "\n",
    "**a.**  \n",
    "$$\n",
    "\\sum_{i=1}^{10} \\left( \\frac{1}{i^2} \\right)\n",
    "$$\n",
    "\n",
    "Primero por:\n",
    "$$\n",
    "\\frac{1}{1} + \\frac{1}{4} + \\cdots + \\frac{1}{100}\n",
    "$$\n",
    "\n",
    "y luego por:\n",
    "$$\n",
    "\\frac{1}{100} + \\frac{1}{81} + \\cdots + \\frac{1}{1}\n",
    "$$\n",
    "\n",
    "**b.**  \n",
    "$$\n",
    "\\sum_{i=1}^{10} \\left( \\frac{1}{i^3} \\right)\n",
    "$$\n",
    "\n",
    "Primero por:\n",
    "$$\n",
    "\\frac{1}{1} + \\frac{1}{8} + \\frac{1}{27} + \\cdots + \\frac{1}{1000}\n",
    "$$\n",
    "y luego por:\n",
    "$$\n",
    "\\frac{1}{1000} + \\frac{1}{729} + \\cdots + \\frac{1}{1}\n",
    "$$\n",
    "\n"
   ]
  },
  {
   "cell_type": "markdown",
   "id": "16323c05",
   "metadata": {},
   "source": [
    "# Sumas con Aritmética de Corte de Tres Dígitos\n",
    "\n",
    "El cálculo de dos sumatorias utilizando aritmética de corte a tres cifras significativas.\n",
    "\n",
    "Se comparan los resultados obtenidos al realizar la suma de forma:\n",
    "- Directa: desde \\( i = 1 \\) hasta \\( i = 10 \\)\n",
    "- Inversa: desde \\( i = 10 \\) hasta \\( i = 1 \\)\n",
    "\n",
    "Las sumas a evaluar son:\n",
    "- $$ \\sum_{i=1}^{10} \\frac{1}{i^2} \\$$ \n",
    "- $$ \\sum_{i=1}^{10} \\frac{1}{i^3} \\$$\n"
   ]
  },
  {
   "cell_type": "markdown",
   "id": "ea3bf498",
   "metadata": {},
   "source": [
    "## Método: Aritmética de Corte de Tres Dígitos\n",
    "\n",
    "El método consiste en cortar (no redondear) todos los valores intermedios y resultados a **tres cifras significativas**.\n",
    "\n",
    "Ejemplo:\n",
    "$$\\\n",
    "\\frac{1}{3^2} = \\frac{1}{9} = 0.1111\\ldots \\Rightarrow \\text{corte a 3 cifras} = 0.111++\n",
    "\\ $$\n",
    "\n",
    "El procedimiento se implementa con funciones que realizan esta operación en cada paso.\n"
   ]
  },
  {
   "cell_type": "markdown",
   "id": "696f75de",
   "metadata": {},
   "source": [
    "###  Pseudocódigo: Aritmética de Corte de Tres Dígitos\n",
    "\n",
    "```pseudo\n",
    "Definir función corte_3_digitos(x)\n",
    "    Si x == 0, retornar 0\n",
    "    Calcular orden de magnitud: n = floor(log10(abs(x)))\n",
    "    Factor = 10^(n - 2)\n",
    "    Retornar trunc(x / Factor) * Factor\n",
    "\n",
    "Definir función suma_directa(n, exponente)\n",
    "    Inicializar suma = 0\n",
    "    Para i desde 1 hasta n\n",
    "        término = corte_3_digitos(1 / i^exponente)\n",
    "        suma = corte_3_digitos(suma + término)\n",
    "    Retornar suma\n",
    "\n",
    "Definir función suma_inversa(n, exponente)\n",
    "    Inicializar suma = 0\n",
    "    Para i desde n hasta 1 (en reversa)\n",
    "        término = corte_3_digitos(1 / i^exponente)\n",
    "        suma = corte_3_digitos(suma + término)\n",
    "    Retornar suma\n"
   ]
  },
  {
   "cell_type": "markdown",
   "id": "77460b8d",
   "metadata": {},
   "source": [
    "## Código"
   ]
  },
  {
   "cell_type": "code",
   "execution_count": 44,
   "id": "72dede17",
   "metadata": {},
   "outputs": [],
   "source": [
    "import math\n",
    "\n",
    "# Función que corta a tres cifras significativas\n",
    "def corte_3_digitos(x):\n",
    "    if x == 0:\n",
    "        return 0.0\n",
    "    n = math.floor(math.log10(abs(x)))\n",
    "    factor = 10 ** (n - 2)\n",
    "    return math.trunc(x / factor) * factor\n",
    "\n",
    "# Suma directa: i = 1 hasta n\n",
    "def suma_directa(n, exponente):\n",
    "    suma = 0.0\n",
    "    for i in range(1, n + 1):\n",
    "        termino = corte_3_digitos(1 / (i ** exponente))\n",
    "        suma = corte_3_digitos(suma + termino)\n",
    "    return suma\n",
    "\n",
    "# Suma inversa: i = n hasta 1\n",
    "def suma_inversa(n, exponente):\n",
    "    suma = 0.0\n",
    "    for i in range(n, 0, -1):\n",
    "        termino = corte_3_digitos(1 / (i ** exponente))\n",
    "        suma = corte_3_digitos(suma + termino)\n",
    "    return suma\n"
   ]
  },
  {
   "cell_type": "code",
   "execution_count": 45,
   "id": "790e0776",
   "metadata": {},
   "outputs": [
    {
     "name": "stdout",
     "output_type": "stream",
     "text": [
      "Parte a: Suma de 1 / i^2\n",
      "Suma directa (i = 1 a 10): 1.53\n",
      "Suma inversa (i = 10 a 1): 1.54\n"
     ]
    }
   ],
   "source": [
    "print(\"Parte a: Suma de 1 / i^2\")\n",
    "n = 10\n",
    "print(\"Suma directa (i = 1 a 10):\", suma_directa(n, 2))\n",
    "print(\"Suma inversa (i = 10 a 1):\", suma_inversa(n, 2))\n"
   ]
  },
  {
   "cell_type": "code",
   "execution_count": 46,
   "id": "f6927ba1",
   "metadata": {},
   "outputs": [
    {
     "name": "stdout",
     "output_type": "stream",
     "text": [
      "\n",
      "Parte b: Suma de 1 / i^3\n",
      "Suma directa (i = 1 a 10): 1.16\n",
      "Suma inversa (i = 10 a 1): 1.19\n"
     ]
    }
   ],
   "source": [
    "print(\"\\nParte b: Suma de 1 / i^3\")\n",
    "n = 10\n",
    "print(\"Suma directa (i = 1 a 10):\", suma_directa(n, 3))\n",
    "print(\"Suma inversa (i = 10 a 1):\", suma_inversa(n, 3))\n"
   ]
  },
  {
   "cell_type": "markdown",
   "id": "b863ad6b",
   "metadata": {},
   "source": [
    "## Conclusión\n",
    "\n",
    "Al comparar las sumas directas e inversas bajo aritmética de corte a tres cifras significativas, se observa que:\n",
    "\n",
    "- **La suma inversa** (desde los términos más pequeños a los más grandes) es más precisa, porque se minimiza el error de cancelación.\n",
    "- **La suma directa** tiende a perder precisión ya que los términos pequeños aportan menos cuando se suman a un número ya grande.\n",
    "\n",
    "Este fenómeno se debe a cómo funciona la representación limitada de los números decimales en una máquina.\n"
   ]
  },
  {
   "cell_type": "markdown",
   "id": "b19655de",
   "metadata": {},
   "source": [
    "## Ejercicio 2: Aproximación de π usando la serie de Maclaurin\n",
    "\n",
    "La serie de Maclaurin para la función arcotangente converge para \\( -1 < x \\leq 1 \\) y está dada por:\n",
    "\n",
    "$$\n",
    "\\arctan(x) = \\sum_{i=1}^{\\infty} \\frac{(-1)^{i+1} x^{2i - 1}}{2i - 1}\n",
    "$$\n",
    "\n",
    "Sabemos que:\n",
    "\n",
    "$$\n",
    "\\arctan(1) = \\frac{\\pi}{4}\n",
    "\\Rightarrow\n",
    "\\pi \\approx 4 \\cdot \\sum_{i=1}^{n} \\frac{(-1)^{i+1}}{2i - 1}\n",
    "$$\n",
    "\n",
    "### a)\n",
    "Utilice el hecho de que \\( \\tan\\left(\\frac{\\pi}{4}\\right) = 1 \\) para determinar el número \\( n \\) de términos de la serie que se necesita sumar para garantizar que:\n",
    "\n",
    "$$\n",
    "\\left| 4 \\cdot P_n(1) - \\pi \\right| < 10^{-3}\n",
    "$$\n",
    "\n",
    "### b)\n",
    "El lenguaje de programación C++ requiere que el valor de π se encuentre dentro de \\( 10^{-10} \\).  \n",
    "¿Cuántos términos de la serie se necesitan sumar para obtener este grado de precisión?\n",
    "\n"
   ]
  },
  {
   "cell_type": "markdown",
   "id": "d7c423aa",
   "metadata": {},
   "source": [
    "### Pseudocódigo para aproximar π usando la serie de arctan(1)\n",
    "\n",
    "Definir función aproximar_pi_tolerancia(tolerancia, max_iter)\n",
    "\n",
    "    Inicializar suma = 0\n",
    "    Inicializar i = 1\n",
    "    Mientras |4 * suma - π| >= tolerancia y i ≤ max_iter:\n",
    "        término = (-1)^(i+1) / (2i - 1)\n",
    "        suma = suma + término\n",
    "        i = i + 1\n",
    "    Si i > max_iter:\n",
    "        Retornar -1, None\n",
    "    Si no:\n",
    "        Retornar i - 1, 4 * suma\n",
    "\n"
   ]
  },
  {
   "cell_type": "markdown",
   "id": "74af0423",
   "metadata": {},
   "source": [
    "## Código"
   ]
  },
  {
   "cell_type": "code",
   "execution_count": 47,
   "id": "ba9c3e23",
   "metadata": {},
   "outputs": [
    {
     "name": "stdout",
     "output_type": "stream",
     "text": [
      "Parte a: Se requieren 1000 términos para obtener |4Pn(1) - π| < 10⁻³\n",
      "Aproximación de π: 3.140592653839794\n",
      "\n",
      "Parte b: No se alcanzó la tolerancia de 10⁻¹⁰ con el número máximo de iteraciones.\n"
     ]
    }
   ],
   "source": [
    "import math\n",
    "\n",
    "def aproximar_pi_tolerancia(tolerancia, max_iter=10**7):\n",
    "    suma = 0.0\n",
    "    i = 1\n",
    "    while abs(4 * suma - math.pi) >= tolerancia and i <= max_iter:\n",
    "        termino = ((-1) ** (i + 1)) / (2 * i - 1)\n",
    "        suma += termino\n",
    "        i += 1\n",
    "    if i > max_iter:\n",
    "        return -1, None  # Se excedió el límite\n",
    "    return i - 1, 4 * suma\n",
    "\n",
    "# Parte a: Error menor a 10^{-3}\n",
    "n1, pi_aprox1 = aproximar_pi_tolerancia(1e-3)\n",
    "if n1 == -1:\n",
    "    print(\"Parte a: No se alcanzó la tolerancia de 10⁻³ con el número máximo de iteraciones.\")\n",
    "else:\n",
    "    print(f\"Parte a: Se requieren {n1} términos para obtener |4Pn(1) - π| < 10⁻³\")\n",
    "    print(f\"Aproximación de π: {pi_aprox1:.15f}\")\n",
    "\n",
    "# Parte b: Error menor a 10^{-10}\n",
    "n2, pi_aprox2 = aproximar_pi_tolerancia(1e-10)\n",
    "if n2 == -1:\n",
    "    print(\"\\nParte b: No se alcanzó la tolerancia de 10⁻¹⁰ con el número máximo de iteraciones.\")\n",
    "else:\n",
    "    print(f\"\\nParte b: Se requieren {n2} términos para obtener |4Pn(1) - π| < 10⁻¹⁰\")\n",
    "    print(f\"Aproximación de π: {pi_aprox2:.15f}\")\n"
   ]
  },
  {
   "cell_type": "markdown",
   "id": "3ce8c45a",
   "metadata": {},
   "source": [
    "## Ejercicio 3\n",
    "\n",
    "Otra fórmula para calcular \\( \\pi \\) se puede deducir a partir de la identidad:\n",
    "\n",
    "$$\n",
    "\\frac{\\pi}{4} = 4 \\cdot \\arctan\\left(\\frac{1}{5}\\right) - \\arctan\\left(\\frac{1}{239}\\right)\n",
    "$$\n",
    "\n",
    "Determine el número de términos que se deben sumar para garantizar una aproximación de \\( \\pi \\) dentro de \\( 10^{-3} \\).\n"
   ]
  },
  {
   "cell_type": "markdown",
   "id": "edc6acbd",
   "metadata": {},
   "source": [
    "## Pseudocódigo \n",
    "Definir función machin_arctan(x, n)\n",
    "\n",
    "    Inicializar suma = 0\n",
    "    Para i desde 1 hasta n:\n",
    "        término = (-1)^{i+1} * x^{2i - 1} / (2i - 1)\n",
    "        suma = suma + término\n",
    "    Retornar suma\n",
    "\n",
    "Definir función aproximar_pi_machin(tolerancia)\n",
    "\n",
    "    Inicializar n = 1\n",
    "    Mientras error >= tolerancia:\n",
    "        pi_aprox = 4 * (4 * machin_arctan(1/5, n) - machin_arctan(1/239, n))\n",
    "        error = |pi_aprox - π|\n",
    "        n = n + 1\n",
    "    Retornar n - 1, pi_aprox\n"
   ]
  },
  {
   "cell_type": "markdown",
   "id": "f4e686cd",
   "metadata": {},
   "source": [
    "## Código"
   ]
  },
  {
   "cell_type": "code",
   "execution_count": 48,
   "id": "ffcc33f9",
   "metadata": {},
   "outputs": [],
   "source": [
    "import math\n",
    "\n",
    "def machin_arctan(x, n):\n",
    "    suma = 0.0\n",
    "    for i in range(1, n + 1):\n",
    "        termino = ((-1) ** (i + 1)) * (x ** (2 * i - 1)) / (2 * i - 1)\n",
    "        suma += termino\n",
    "    return suma\n",
    "\n",
    "def aproximar_pi_machin(tolerancia):\n",
    "    n = 1\n",
    "    while True:\n",
    "        term1 = machin_arctan(1/5, n)\n",
    "        term2 = machin_arctan(1/239, n)\n",
    "        pi_aprox = 4 * (4 * term1 - term2)\n",
    "        error = abs(pi_aprox - math.pi)\n",
    "        if error < tolerance:\n",
    "            return n, pi_aprox\n",
    "        n += 1\n"
   ]
  },
  {
   "cell_type": "markdown",
   "id": "bd6ed750",
   "metadata": {},
   "source": [
    "## Ejercicio 4: Comparación de algoritmos para producto\n",
    "\n",
    "Compare los siguientes tres algoritmos. ¿Cuándo es correcto el algoritmo de la parte **1a**?\n",
    "\n",
    "---\n",
    "\n",
    "**a.**\n",
    "\n",
    "ENTRADA: \\( n, x_1, x_2, \\ldots, x_n \\)  \n",
    "SALIDA: PRODUCT\n",
    "\n",
    "- Paso 1: Determine PRODUCT = 0  \n",
    "- Paso 2: Para \\( i = 1, 2, \\ldots, n \\) haga  \n",
    "    Determine PRODUCT = PRODUCT * \\( x_i \\)  \n",
    "- Paso 3: SALIDA PRODUCT;  \n",
    "      PARE\n",
    "\n",
    "---\n",
    "\n",
    "**b.**\n",
    "\n",
    "ENTRADA: \\( n, x_1, x_2, \\ldots, x_n \\)  \n",
    "SALIDA: PRODUCT\n",
    "\n",
    "- Paso 1: Determine PRODUCT = 1  \n",
    "- Paso 2: Para \\( i = 1, 2, \\ldots, n \\) haga  \n",
    "    Set PRODUCT = PRODUCT * \\( x_i \\)  \n",
    "- Paso 3: SALIDA PRODUCT;  \n",
    "      PARE\n",
    "\n",
    "---\n",
    "\n",
    "**c.**\n",
    "\n",
    "ENTRADA: \\( n, x_1, x_2, \\ldots, x_n \\)  \n",
    "SALIDA: PRODUCT\n",
    "\n",
    "- Paso 1: Determine PRODUCT = 1  \n",
    "- Paso 2: Para \\( i = 1, 2, \\ldots, n \\) haga  \n",
    "    Si \\( x_i = 0 \\) entonces determine PRODUCT = 0;  \n",
    "      SALIDA PRODUCT;  \n",
    "      PARE  \n",
    "    Sino: Determine PRODUCT = PRODUCT * \\( x_i \\)  \n",
    "- Paso 3: SALIDA PRODUCT;  \n",
    "      PARE\n"
   ]
  },
  {
   "cell_type": "markdown",
   "id": "8754f5cb",
   "metadata": {},
   "source": [
    "**a**"
   ]
  },
  {
   "cell_type": "code",
   "execution_count": 49,
   "id": "5ec7bdf1",
   "metadata": {},
   "outputs": [],
   "source": [
    "def algoritmo_a(valores):\n",
    "    print(\"Algoritmo A:\")\n",
    "    product = 0\n",
    "    print(f\"Paso 1 → PRODUCT = {product}\")\n",
    "    \n",
    "    for i, x in enumerate(valores, start=1):\n",
    "        product *= x\n",
    "        print(f\"Paso 2 (i={i}) → PRODUCT = PRODUCT * {x} = {product}\")\n",
    "        \n",
    "    print(f\"Paso 3 → SALIDA PRODUCT = {product}\")\n",
    "    return product\n"
   ]
  },
  {
   "cell_type": "markdown",
   "id": "85c043bf",
   "metadata": {},
   "source": [
    "**b**"
   ]
  },
  {
   "cell_type": "code",
   "execution_count": 50,
   "id": "48557a43",
   "metadata": {},
   "outputs": [],
   "source": [
    "def algoritmo_b(valores):\n",
    "    print(\"Algoritmo B:\")\n",
    "    product = 1\n",
    "    print(f\"Paso 1 → PRODUCT = {product}\")\n",
    "    \n",
    "    for i, x in enumerate(valores, start=1):\n",
    "        product *= x\n",
    "        print(f\"Paso 2 (i={i}) → PRODUCT = PRODUCT * {x} = {product}\")\n",
    "        \n",
    "    print(f\"Paso 3 → SALIDA PRODUCT = {product}\")\n",
    "    return product\n"
   ]
  },
  {
   "cell_type": "markdown",
   "id": "32e2e76e",
   "metadata": {},
   "source": [
    "**c**"
   ]
  },
  {
   "cell_type": "code",
   "execution_count": 51,
   "id": "cfafa078",
   "metadata": {},
   "outputs": [],
   "source": [
    "def algoritmo_c(valores):\n",
    "    print(\"Algoritmo C:\")\n",
    "    product = 1\n",
    "    print(f\"Paso 1 → PRODUCT = {product}\")\n",
    "    \n",
    "    for i, x in enumerate(valores, start=1):\n",
    "        if x == 0:\n",
    "            product = 0\n",
    "            print(f\"Paso 2 (i={i}) → x = 0 ⇒ PRODUCT = 0 → SALIDA ANTICIPADA\")\n",
    "            return product\n",
    "        else:\n",
    "            product *= x\n",
    "            print(f\"Paso 2 (i={i}) → PRODUCT = PRODUCT * {x} = {product}\")\n",
    "    \n",
    "    print(f\"Paso 3 → SALIDA PRODUCT = {product}\")\n",
    "    return product\n"
   ]
  },
  {
   "cell_type": "markdown",
   "id": "c681ecfb",
   "metadata": {},
   "source": [
    "## Código de prubas"
   ]
  },
  {
   "cell_type": "code",
   "execution_count": 52,
   "id": "ae8ddd6f",
   "metadata": {},
   "outputs": [
    {
     "name": "stdout",
     "output_type": "stream",
     "text": [
      "\n",
      "====== Ejemplo: SIN CEROS → [2, 3, 4] ======\n",
      "\n",
      "--- Algoritmo A ---\n",
      "Algoritmo A:\n",
      "Paso 1 → PRODUCT = 0\n",
      "Paso 2 (i=1) → PRODUCT = PRODUCT * 2 = 0\n",
      "Paso 2 (i=2) → PRODUCT = PRODUCT * 3 = 0\n",
      "Paso 2 (i=3) → PRODUCT = PRODUCT * 4 = 0\n",
      "Paso 3 → SALIDA PRODUCT = 0\n",
      "\n",
      "--- Algoritmo B ---\n",
      "Algoritmo B:\n",
      "Paso 1 → PRODUCT = 1\n",
      "Paso 2 (i=1) → PRODUCT = PRODUCT * 2 = 2\n",
      "Paso 2 (i=2) → PRODUCT = PRODUCT * 3 = 6\n",
      "Paso 2 (i=3) → PRODUCT = PRODUCT * 4 = 24\n",
      "Paso 3 → SALIDA PRODUCT = 24\n",
      "\n",
      "--- Algoritmo C ---\n",
      "Algoritmo C:\n",
      "Paso 1 → PRODUCT = 1\n",
      "Paso 2 (i=1) → PRODUCT = PRODUCT * 2 = 2\n",
      "Paso 2 (i=2) → PRODUCT = PRODUCT * 3 = 6\n",
      "Paso 2 (i=3) → PRODUCT = PRODUCT * 4 = 24\n",
      "Paso 3 → SALIDA PRODUCT = 24\n",
      "\n",
      "====== Ejemplo: CON UN CERO → [2, 0, 4] ======\n",
      "\n",
      "--- Algoritmo A ---\n",
      "Algoritmo A:\n",
      "Paso 1 → PRODUCT = 0\n",
      "Paso 2 (i=1) → PRODUCT = PRODUCT * 2 = 0\n",
      "Paso 2 (i=2) → PRODUCT = PRODUCT * 0 = 0\n",
      "Paso 2 (i=3) → PRODUCT = PRODUCT * 4 = 0\n",
      "Paso 3 → SALIDA PRODUCT = 0\n",
      "\n",
      "--- Algoritmo B ---\n",
      "Algoritmo B:\n",
      "Paso 1 → PRODUCT = 1\n",
      "Paso 2 (i=1) → PRODUCT = PRODUCT * 2 = 2\n",
      "Paso 2 (i=2) → PRODUCT = PRODUCT * 0 = 0\n",
      "Paso 2 (i=3) → PRODUCT = PRODUCT * 4 = 0\n",
      "Paso 3 → SALIDA PRODUCT = 0\n",
      "\n",
      "--- Algoritmo C ---\n",
      "Algoritmo C:\n",
      "Paso 1 → PRODUCT = 1\n",
      "Paso 2 (i=1) → PRODUCT = PRODUCT * 2 = 2\n",
      "Paso 2 (i=2) → x = 0 ⇒ PRODUCT = 0 → SALIDA ANTICIPADA\n",
      "\n",
      "====== Ejemplo: TODOS CEROS → [0, 0, 0] ======\n",
      "\n",
      "--- Algoritmo A ---\n",
      "Algoritmo A:\n",
      "Paso 1 → PRODUCT = 0\n",
      "Paso 2 (i=1) → PRODUCT = PRODUCT * 0 = 0\n",
      "Paso 2 (i=2) → PRODUCT = PRODUCT * 0 = 0\n",
      "Paso 2 (i=3) → PRODUCT = PRODUCT * 0 = 0\n",
      "Paso 3 → SALIDA PRODUCT = 0\n",
      "\n",
      "--- Algoritmo B ---\n",
      "Algoritmo B:\n",
      "Paso 1 → PRODUCT = 1\n",
      "Paso 2 (i=1) → PRODUCT = PRODUCT * 0 = 0\n",
      "Paso 2 (i=2) → PRODUCT = PRODUCT * 0 = 0\n",
      "Paso 2 (i=3) → PRODUCT = PRODUCT * 0 = 0\n",
      "Paso 3 → SALIDA PRODUCT = 0\n",
      "\n",
      "--- Algoritmo C ---\n",
      "Algoritmo C:\n",
      "Paso 1 → PRODUCT = 1\n",
      "Paso 2 (i=1) → x = 0 ⇒ PRODUCT = 0 → SALIDA ANTICIPADA\n",
      "\n",
      "====== Ejemplo: UNO SOLO → [5] ======\n",
      "\n",
      "--- Algoritmo A ---\n",
      "Algoritmo A:\n",
      "Paso 1 → PRODUCT = 0\n",
      "Paso 2 (i=1) → PRODUCT = PRODUCT * 5 = 0\n",
      "Paso 3 → SALIDA PRODUCT = 0\n",
      "\n",
      "--- Algoritmo B ---\n",
      "Algoritmo B:\n",
      "Paso 1 → PRODUCT = 1\n",
      "Paso 2 (i=1) → PRODUCT = PRODUCT * 5 = 5\n",
      "Paso 3 → SALIDA PRODUCT = 5\n",
      "\n",
      "--- Algoritmo C ---\n",
      "Algoritmo C:\n",
      "Paso 1 → PRODUCT = 1\n",
      "Paso 2 (i=1) → PRODUCT = PRODUCT * 5 = 5\n",
      "Paso 3 → SALIDA PRODUCT = 5\n"
     ]
    }
   ],
   "source": [
    "# Lista de pruebas\n",
    "pruebas = {\n",
    "    \"sin ceros\": [2, 3, 4],\n",
    "    \"con un cero\": [2, 0, 4],\n",
    "    \"todos ceros\": [0, 0, 0],\n",
    "    \"uno solo\": [5],\n",
    "}\n",
    "\n",
    "# Ejecutar para cada ejemplo\n",
    "for nombre, lista in pruebas.items():\n",
    "    print(f\"\\n====== Ejemplo: {nombre.upper()} → {lista} ======\")\n",
    "    print(\"\\n--- Algoritmo A ---\")\n",
    "    algoritmo_a(lista)\n",
    "    print(\"\\n--- Algoritmo B ---\")\n",
    "    algoritmo_b(lista)\n",
    "    print(\"\\n--- Algoritmo C ---\")\n",
    "    algoritmo_c(lista)\n"
   ]
  },
  {
   "cell_type": "markdown",
   "id": "3c6c7367",
   "metadata": {},
   "source": [
    "### Conclusión\n",
    "\n",
    "- **Algoritmo a** es incorrecto en general. Inicia con `PRODUCT = 0`, por lo que siempre produce 0 sin importar los valores.  \n",
    "  Solo es correcto si algún \\( x_i = 0 \\), ya que el producto real también sería 0.\n",
    "\n",
    "- **Algoritmo b** es correcto en todos los casos. Inicia con `PRODUCT = 1` y recorre todos los elementos multiplicando.  \n",
    "  Sin embargo, no es eficiente cuando hay un 0, porque sigue multiplicando innecesariamente.\n",
    "\n",
    "- **Algoritmo c** es el más eficiente y correcto. También comienza con `PRODUCT = 1`, pero termina anticipadamente si detecta un 0.  \n",
    " Ahorra tiempo y operaciones.\n",
    "\n",
    "Por lo tanto:\n",
    "- El algoritmo de la parte **1a solo es correcto cuando existe un \\( x_i = 0 \\)**.  \n",
    "- Para una solución general, se deberia usar el algoritmo **b o c**, siendo **c el más óptimo**.\n"
   ]
  },
  {
   "cell_type": "markdown",
   "id": "57c98269",
   "metadata": {},
   "source": [
    "## Ejercicio 5\n",
    "\n",
    "**a.** ¿Cuántas multiplicaciones y sumas se requieren para determinar una suma de la forma:\n",
    "\n",
    "$$\n",
    "\\sum_{i=1}^{n} \\sum_{j=1}^{i} a_i b_j \\ ?\n",
    "$$\n",
    "\n",
    "**b.** Modifique la suma en la parte **a)** a un formato equivalente que **reduzca el número de cálculos**.\n"
   ]
  },
  {
   "cell_type": "markdown",
   "id": "3c1ac724",
   "metadata": {},
   "source": [
    "### Resolución:\n",
    "\n",
    "#### a) ¿Cuántas operaciones?\n",
    "\n",
    "La expresión:\n",
    "\n",
    "$$\n",
    "\\sum_{i=1}^{n} \\sum_{j=1}^{i} a_i b_j\n",
    "$$\n",
    "\n",
    "requiere:\n",
    "\n",
    "- $$ \\frac{n(n+1)}{2}\n",
    "$$ multiplicaciones  \n",
    "- $$ \\frac{n(n+1)}{2} - 1\n",
    "$$ sumas\n",
    "\n",
    "#### b) Reescritura equivalente y más eficiente:\n",
    "\n",
    "Usando la propiedad de conmutatividad de la suma:\n",
    "\n",
    "$$\n",
    "\\sum_{i=1}^{n} \\sum_{j=1}^{i} a_i b_j = \\sum_{j=1}^{n} b_j \\sum_{i=j}^{n} a_i\n",
    "$$\n",
    "\n",
    "Esta forma reduce el número de cálculos porque:\n",
    "\n",
    "- Se puede calcular previamente los valores $$ \\sum_{i=j}^{n} a_i $$ de forma acumulativa hacia atrás.\n",
    "- Disminuye la cantidad de multiplicaciones requeridas, haciendo el cálculo más eficiente.\n",
    "\n"
   ]
  },
  {
   "cell_type": "markdown",
   "id": "8fce6bb1",
   "metadata": {},
   "source": [
    "## Pseudocódigo\n",
    "- **a) Pseudocódigo forma original:**"
   ]
  },
  {
   "cell_type": "markdown",
   "id": "59df4dd8",
   "metadata": {},
   "source": [
    "Entradas: vectores a[1..n], b[1..n]\n",
    "\n",
    "Inicializar SUMA = 0\n",
    "\n",
    "Para i desde 1 hasta n hacer:\n",
    "\n",
    "    Para j desde 1 hasta i hacer:\n",
    "        SUMA = SUMA + a[i] * b[j]\n",
    "\n",
    "Retornar SUMA\n"
   ]
  },
  {
   "cell_type": "markdown",
   "id": "6c23c564",
   "metadata": {},
   "source": [
    "- **b) Pseudocódigo forma optimizada:**\n"
   ]
  },
  {
   "cell_type": "markdown",
   "id": "1b2208c2",
   "metadata": {},
   "source": [
    "Entradas: vectores a[1..n], b[1..n]\n",
    "Inicializar suma_acumulada[n+1] = 0\n",
    "\n",
    "Para i desde n hasta 1 hacer:\n",
    "    suma_acumulada[i] = suma_acumulada[i+1] + a[i]\n",
    "\n",
    "Inicializar SUMA = 0\n",
    "\n",
    "Para j desde 1 hasta n hacer:\n",
    "    SUMA = SUMA + b[j] * suma_acumulada[j]\n",
    "\n",
    "Retornar SUMA\n"
   ]
  },
  {
   "cell_type": "markdown",
   "id": "4fedccc9",
   "metadata": {},
   "source": [
    "## Código Python"
   ]
  },
  {
   "cell_type": "code",
   "execution_count": 53,
   "id": "f9e5be94",
   "metadata": {},
   "outputs": [],
   "source": [
    "def forma_original(a, b):\n",
    "    n = len(a)\n",
    "    suma = 0\n",
    "    for i in range(n):\n",
    "        for j in range(i + 1):\n",
    "            suma += a[i] * b[j]\n",
    "    return suma\n",
    "\n",
    "def forma_optimizada(a, b):\n",
    "    n = len(a)\n",
    "    suma_acumulada = [0] * (n + 1)\n",
    "    \n",
    "    for i in range(n - 1, -1, -1):\n",
    "        suma_acumulada[i] = suma_acumulada[i + 1] + a[i]\n",
    "    \n",
    "    suma = 0\n",
    "    for j in range(n):\n",
    "        suma += b[j] * suma_acumulada[j]\n",
    "    return suma"
   ]
  },
  {
   "cell_type": "code",
   "execution_count": 54,
   "id": "30f00d41",
   "metadata": {},
   "outputs": [
    {
     "name": "stdout",
     "output_type": "stream",
     "text": [
      "Resultado (forma original): 185\n",
      "Resultado (forma optimizada): 185\n"
     ]
    }
   ],
   "source": [
    "# Prueba con vectores pequeños\n",
    "a = [1, 2, 3, 4]\n",
    "b = [5, 6, 7, 8]\n",
    "\n",
    "res1 = forma_original(a, b)\n",
    "res2 = forma_optimizada(a, b)\n",
    "\n",
    "print(\"Resultado (forma original):\", res1)\n",
    "print(\"Resultado (forma optimizada):\", res2)\n"
   ]
  },
  {
   "cell_type": "markdown",
   "id": "471c2f5a",
   "metadata": {},
   "source": [
    "### Conclusión\n",
    "\n",
    "- La forma original requiere:\n",
    "\n",
    "$$\n",
    "\\frac{n(n+1)}{2}\n",
    "$$\n",
    "\n",
    "multiplicaciones y sumas, lo que implica un crecimiento cuadrático.\n",
    "\n",
    "- La versión optimizada reorganiza la suma, permitiendo acumular primero las sumas parciales de:\n",
    "\n",
    "$$\n",
    "a_i\n",
    "$$\n",
    "\n",
    "y luego multiplicar por cada:\n",
    "\n",
    "$$\n",
    "b_j\n",
    "$$\n",
    "\n",
    "- Esto **reduce el número de multiplicaciones y mejora el rendimiento computacional**, especialmente cuando \\( n \\) es grande.\n",
    "\n"
   ]
  },
  {
   "cell_type": "markdown",
   "id": "20184e7d",
   "metadata": {},
   "source": [
    "# DISCUSIONES\n",
    "\n",
    "## Ejercicio 1\n",
    "\n",
    "Escriba un algoritmo para sumar la serie finita:\n",
    "\n",
    "$$\n",
    "\\sum_{i=1}^{n} x_i\n",
    "$$\n",
    "\n",
    "en orden inverso.\n",
    "\n"
   ]
  },
  {
   "cell_type": "markdown",
   "id": "8885b2dd",
   "metadata": {},
   "source": [
    "## Pseudocódigo"
   ]
  },
  {
   "cell_type": "markdown",
   "id": "3763979b",
   "metadata": {},
   "source": [
    "ENTRADA: vector x[1..n]\n",
    "\n",
    "SALIDA: suma\n",
    "\n",
    "Inicializar suma = 0\n",
    "\n",
    "Para i desde n hasta 1 hacer:\n",
    "\n",
    "    suma = suma + x[i]\n",
    "\n",
    "Retornar suma\n"
   ]
  },
  {
   "cell_type": "markdown",
   "id": "c0a1f3ee",
   "metadata": {},
   "source": [
    "## Código"
   ]
  },
  {
   "cell_type": "code",
   "execution_count": 55,
   "id": "67ba2ad3",
   "metadata": {},
   "outputs": [
    {
     "name": "stdout",
     "output_type": "stream",
     "text": [
      "Suma en orden inverso: 15\n"
     ]
    }
   ],
   "source": [
    "def suma_inversa(x):\n",
    "    suma = 0\n",
    "    for i in reversed(range(len(x))):\n",
    "        suma += x[i]\n",
    "    return suma\n",
    "    \n",
    "# Ejemplo de uso\n",
    "x = [1, 2, 3, 4, 5]\n",
    "print(\"Suma en orden inverso:\", suma_inversa(x)) "
   ]
  },
  {
   "cell_type": "markdown",
   "id": "e5fafe59",
   "metadata": {},
   "source": [
    "## Ejercicio 2\n",
    "Las ecuaciones (1.2) y (1.3) proporcionan formas alternativas para calcular las raíces \\( x_1 \\) y \\( x_2 \\) de:\n",
    "\n",
    "$$\n",
    "ax^2 + bx + c = 0\n",
    "$$\n",
    "\n",
    "Construya un algoritmo con entrada \\( a, b, c \\) y salida \\( x_1, x_2 \\) que seleccione automáticamente la fórmula más precisa para cada raíz.\n",
    "\n",
    "\n"
   ]
  },
  {
   "cell_type": "markdown",
   "id": "ee2ab156",
   "metadata": {},
   "source": [
    "## Pseudocódigo"
   ]
  },
  {
   "cell_type": "markdown",
   "id": "20984c59",
   "metadata": {},
   "source": [
    "ENTRADA: a, b, c\n",
    "\n",
    "SALIDA: x1, x2\n",
    "\n",
    "Calcular discriminante: d = b^2 - 4ac\n",
    "\n",
    "Si d < 0:\n",
    "\n",
    "    Usar fórmula para raíces complejas\n",
    "\n",
    "Sino:\n",
    "\n",
    "    Si b ≥ 0:\n",
    "        x1 = (-b - sqrt(d)) / (2a)\n",
    "    Sino:\n",
    "        x1 = (-b + sqrt(d)) / (2a)\n",
    "\n",
    "    x2 = c / (a * x1)  # para evitar cancelación\n",
    "\n",
    "Retornar x1, x2\n"
   ]
  },
  {
   "cell_type": "markdown",
   "id": "c413486d",
   "metadata": {},
   "source": [
    "## Código"
   ]
  },
  {
   "cell_type": "code",
   "execution_count": 56,
   "id": "fd170917",
   "metadata": {},
   "outputs": [
    {
     "name": "stdout",
     "output_type": "stream",
     "text": [
      "Raíces estables: 100000000.0 1e-08\n"
     ]
    }
   ],
   "source": [
    "import math\n",
    "import cmath\n",
    "\n",
    "def raices_estables(a, b, c):\n",
    "    d = b**2 - 4*a*c\n",
    "    if d < 0:\n",
    "        x1 = (-b + cmath.sqrt(d)) / (2*a)\n",
    "        x2 = (-b - cmath.sqrt(d)) / (2*a)\n",
    "    else:\n",
    "        if b >= 0:\n",
    "            x1 = (-b - math.sqrt(d)) / (2*a)\n",
    "        else:\n",
    "            x1 = (-b + math.sqrt(d)) / (2*a)\n",
    "        x2 = c / (a * x1)\n",
    "    return x1, x2\n",
    "\n",
    "# Ejemplo:\n",
    "a, b, c = 1, -1e8, 1\n",
    "x1, x2 = raices_estables(a, b, c)\n",
    "print(\"Raíces estables:\", x1, x2)\n"
   ]
  },
  {
   "cell_type": "markdown",
   "id": "524fb4b8",
   "metadata": {},
   "source": [
    "## Ejercicio 3\n",
    "\n",
    "Suponga que:\n",
    "\n",
    "$$\n",
    "\\frac{1 - 2x}{1 - x + x^2} + \\frac{2x - 4x^3}{1 - x^2 + x^4} + \\frac{4x^3 - 8x^7}{1 - x^4 + x^8} + \\cdots = \\frac{1 + 2x}{1 + x + x^2}\n",
    "$$\n",
    "\n",
    "para \\( x < 1 \\) y \\( x = 0.25 \\).\n",
    "\n",
    "Escriba y ejecute un algoritmo que determine el número de términos necesarios en el lado izquierdo de la ecuación para que **la diferencia absoluta con el lado derecho sea menor que \\( 10^{-6} \\)**."
   ]
  },
  {
   "cell_type": "markdown",
   "id": "04420042",
   "metadata": {},
   "source": [
    "## Pseudocódigo"
   ]
  },
  {
   "cell_type": "markdown",
   "id": "e47df647",
   "metadata": {},
   "source": [
    "ENTRADA: x = 0.25\n",
    "\n",
    "SALIDA: n, suma, error\n",
    "\n",
    "Inicializar suma = 0, n = 0\n",
    "\n",
    "Calcular lado_derecho = (1 + 2x) / (1 + x + x^2)\n",
    "\n",
    "Mientras |suma - lado_derecho| ≥ 10^{-6}:\n",
    "\n",
    "    num = 2^n * x^{2^n - 1}\n",
    "    den = 1 - x^{2^n} + x^{2^{n+1}}\n",
    "    suma += num / den\n",
    "    n += 1\n",
    "\n",
    "Retornar n, suma\n"
   ]
  },
  {
   "cell_type": "markdown",
   "id": "5dbf7fdb",
   "metadata": {},
   "source": [
    "## Código"
   ]
  },
  {
   "cell_type": "code",
   "execution_count": 57,
   "id": "6d7edd33",
   "metadata": {},
   "outputs": [
    {
     "name": "stdout",
     "output_type": "stream",
     "text": [
      " Límite máximo de iteraciones alcanzado.\n",
      "Términos requeridos: 1000\n",
      "Suma aproximada: 1.825122003206338\n",
      "Error absoluto: 0.6822648603491952\n"
     ]
    }
   ],
   "source": [
    "from decimal import Decimal, getcontext\n",
    "\n",
    "def serie_aproximada(x=0.25, tolerancia=1e-6, max_iter=1000):\n",
    "    # Establecer precisión decimal\n",
    "    getcontext().prec = 50\n",
    "\n",
    "    x = Decimal(x)\n",
    "    tolerancia = Decimal(tolerancia)\n",
    "    uno = Decimal(1)\n",
    "    dos = Decimal(2)\n",
    "\n",
    "    lado_derecho = (uno + dos * x) / (uno + x + x**2)\n",
    "    suma = Decimal(0)\n",
    "    n = 0\n",
    "\n",
    "    while abs(suma - lado_derecho) >= tolerancia:\n",
    "        if n >= max_iter:\n",
    "            print(\" Límite máximo de iteraciones alcanzado.\")\n",
    "            break\n",
    "\n",
    "        exp1 = 2**n - 1\n",
    "        exp2 = 2**n\n",
    "        exp3 = 2**(n + 1)\n",
    "\n",
    "        numerador = Decimal(2**n) * (x**exp1)\n",
    "        denominador = uno - (x**exp2) + (x**exp3)\n",
    "\n",
    "        suma += numerador / denominador\n",
    "        n += 1\n",
    "\n",
    "    return n, float(suma), float(abs(suma - lado_derecho))\n",
    "\n",
    "# Ejemplo:\n",
    "n_ter, suma_aprox, error = serie_aproximada(x=0.25, tolerancia=1e-6)\n",
    "print(f\"Términos requeridos: {n_ter}\")\n",
    "print(f\"Suma aproximada: {suma_aprox}\")\n",
    "print(f\"Error absoluto: {error}\")\n"
   ]
  }
 ],
 "metadata": {
  "kernelspec": {
   "display_name": "Python 3",
   "language": "python",
   "name": "python3"
  },
  "language_info": {
   "codemirror_mode": {
    "name": "ipython",
    "version": 3
   },
   "file_extension": ".py",
   "mimetype": "text/x-python",
   "name": "python",
   "nbconvert_exporter": "python",
   "pygments_lexer": "ipython3",
   "version": "3.11.9"
  }
 },
 "nbformat": 4,
 "nbformat_minor": 5
}
