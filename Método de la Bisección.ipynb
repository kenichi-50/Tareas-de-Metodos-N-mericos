{
 "cells": [
  {
   "cell_type": "markdown",
   "metadata": {},
   "source": [
    "<center>\n",
    "\n",
    "**Tarea N° 4**\n",
    "\n",
    "</center>\n",
    "\n",
    "**Nombre:**\n",
    "\n",
    "Joel Stalin Tinitana Carrion \n",
    "\n",
    "**Fecha:**\n",
    "\n",
    "05/05/2025\n",
    "\n",
    "**Tema:**\n",
    "\n",
    "Métodos de la Bisección"
   ]
  },
  {
   "cell_type": "markdown",
   "id": "e2e228ea",
   "metadata": {},
   "source": [
    "### ¿Qué es el método de bisección?\n",
    "\n",
    "El método de bisección es una técnica numérica para encontrar raíces de una función continua. Se basa en el **Teorema del Valor Intermedio**, que garantiza que si una función cambia de signo en un intervalo \\([a, b]\\), entonces existe al menos una raíz en ese intervalo.\n",
    "\n",
    "El algoritmo divide el intervalo por la mitad repetidamente hasta que la raíz se aproxima con la tolerancia deseada. Es un método **convergente, robusto y sencillo**, pero puede ser más lento que otros métodos más sofisticados.\n"
   ]
  },
  {
   "cell_type": "markdown",
   "id": "2bd4a4d7",
   "metadata": {},
   "source": [
    "### Ejercicio 1\n",
    "\n",
    "Use el método de bisección para encontrar soluciones precisas dentro de \\(10^{-2}\\) para \\(x^3 - 7x^2 + 14x - 6 = 0\\) en cada intervalo:\n",
    "\n",
    "- a. [0, 1]\n",
    "- b. [1, 3.2]\n",
    "- c. [3.2, 4]\n"
   ]
  },
  {
   "cell_type": "markdown",
   "id": "0ca13d0d",
   "metadata": {},
   "source": [
    "## Pseudocódigo del método de bisección"
   ]
  },
  {
   "cell_type": "markdown",
   "id": "a889999f",
   "metadata": {},
   "source": [
    "Entradas:\n",
    "\n",
    "    f(x): función\n",
    "    a, b: intervalo inicial\n",
    "    tol: tolerancia (10^{-2})\n",
    "\n",
    "Si f(a) * f(b) ≥ 0:\n",
    "\n",
    "    Mostrar \"No hay cambio de signo\"\n",
    "\n",
    "Repetir mientras (b - a)/2 ≥ tol:\n",
    "\n",
    "    c ← (a + b)/2\n",
    "    Si f(c) == 0:\n",
    "        Retornar c\n",
    "    Si f(a) * f(c) < 0:\n",
    "        b ← c\n",
    "    Sino:\n",
    "        a ← c\n",
    "\n",
    "Retornar c como la raíz aproximada\n"
   ]
  },
  {
   "cell_type": "markdown",
   "id": "aa8dd6a1",
   "metadata": {},
   "source": [
    "## Código"
   ]
  },
  {
   "cell_type": "code",
   "execution_count": 1,
   "id": "75ee3285",
   "metadata": {},
   "outputs": [
    {
     "name": "stdout",
     "output_type": "stream",
     "text": [
      "Raíz en el intervalo [0, 1] ≈ 0.5859\n",
      "Raíz en el intervalo [1, 3.2] ≈ 3.0023\n",
      "Raíz en el intervalo [3.2, 4] ≈ 3.4188\n"
     ]
    }
   ],
   "source": [
    "def f(x):\n",
    "    return x**3 - 7*x**2 + 14*x - 6\n",
    "\n",
    "def biseccion(f, a, b, tol=1e-2):\n",
    "    if f(a) * f(b) >= 0:\n",
    "        print(\"No hay cambio de signo en el intervalo.\")\n",
    "        return None\n",
    "\n",
    "    while (b - a) / 2 > tol:\n",
    "        c = (a + b) / 2\n",
    "        if f(c) == 0:\n",
    "            return c\n",
    "        elif f(a) * f(c) < 0:\n",
    "            b = c\n",
    "        else:\n",
    "            a = c\n",
    "    return (a + b) / 2\n",
    "\n",
    "# Pruebas de los intervalos\n",
    "intervalos = [(0, 1), (1, 3.2), (3.2, 4)]\n",
    "for a, b in intervalos:\n",
    "    raiz = biseccion(f, a, b)\n",
    "    print(f\"Raíz en el intervalo [{a}, {b}] ≈ {raiz:.4f}\")\n"
   ]
  },
  {
   "cell_type": "markdown",
   "id": "c74cdcd9",
   "metadata": {},
   "source": [
    "### Ejercicio 2\n",
    "\n",
    "**a)** Dibuje las gráficas para  y = x  y  y = sin(x).\n",
    "\n",
    "**b)** Use el método de bisección para encontrar soluciones precisas dentro de 10^{-5} para el primer valor positivo de x con x = 2 sin (x).\n"
   ]
  },
  {
   "cell_type": "markdown",
   "id": "093d8646",
   "metadata": {},
   "source": [
    "## Pseudocódigo para 𝑥 = 2 sin (𝑥)\n"
   ]
  },
  {
   "cell_type": "markdown",
   "id": "9e6bc9ce",
   "metadata": {},
   "source": [
    "Definir función f(x) = 2 * sin(x) - x\n",
    "\n",
    "Entradas:\n",
    "\n",
    "    a, b: intervalo inicial\n",
    "    tol: tolerancia (10^{-5})\n",
    "\n",
    "Si f(a) * f(b) ≥ 0:\n",
    "\n",
    "    Mostrar error y detener\n",
    "\n",
    "Mientras (b - a)/2 ≥ tol:\n",
    "\n",
    "    c ← (a + b)/2\n",
    "    Si f(c) == 0, retornar c\n",
    "    Si f(a) * f(c) < 0, entonces b ← c\n",
    "    Sino, a ← c\n",
    "\n",
    "Retornar c como la raíz aproximada\n",
    "\n"
   ]
  },
  {
   "cell_type": "markdown",
   "id": "f7ff90c3",
   "metadata": {},
   "source": [
    "## Código"
   ]
  },
  {
   "cell_type": "code",
   "execution_count": 14,
   "id": "6c05d7e9",
   "metadata": {},
   "outputs": [
    {
     "name": "stdout",
     "output_type": "stream",
     "text": [
      " Advertencia: f(a) * f(b) ≥ 0. Puede que no se garantice una raíz, pero se intentará igualmente.\n",
      " Raíz aproximada de x = 2sin(x): x ≈ 1.8954926\n",
      " Comprobación: f(x) = 2.806498e-06\n"
     ]
    }
   ],
   "source": [
    "import math\n",
    "\n",
    "def f(x):\n",
    "    return 2 * math.sin(x) - x\n",
    "\n",
    "def biseccion(f, a, b, tol=1e-5):\n",
    "    try:\n",
    "        if f(a) * f(b) >= 0:\n",
    "            print(\" Advertencia: f(a) * f(b) ≥ 0. Puede que no se garantice una raíz, pero se intentará igualmente.\")\n",
    "\n",
    "        while (b - a) / 2 > tol:\n",
    "            c = (a + b) / 2\n",
    "            if abs(f(c)) < tol:  # Criterio de convergencia por función\n",
    "                return c\n",
    "            elif f(a) * f(c) < 0:\n",
    "                b = c\n",
    "            else:\n",
    "                a = c\n",
    "        return (a + b) / 2\n",
    "    except Exception as e:\n",
    "        print(f\"Error durante la evaluación: {e}\")\n",
    "        return None\n",
    "\n",
    "# Intervalo donde hay raíz (gráficamente entre 0 y 2)\n",
    "raiz = biseccion(f, 0, 2)\n",
    "\n",
    "if raiz is not None:\n",
    "    print(f\" Raíz aproximada de x = 2sin(x): x ≈ {raiz:.7f}\")\n",
    "    print(f\" Comprobación: f(x) = {f(raiz):.6e}\")\n",
    "else:\n",
    "    print(\" No se encontró una raíz en el intervalo dado.\")\n",
    "\n"
   ]
  },
  {
   "cell_type": "markdown",
   "id": "f24a2518",
   "metadata": {},
   "source": [
    "## Gráfica de intersección"
   ]
  },
  {
   "cell_type": "code",
   "execution_count": 9,
   "id": "1a1339e4",
   "metadata": {},
   "outputs": [
    {
     "data": {
      "image/png": "[encoded data removed]",
      "text/plain": [
       "<Figure size 640x480 with 1 Axes>"
      ]
     },
     "metadata": {},
     "output_type": "display_data"
    }
   ],
   "source": [
    "import numpy as np\n",
    "import matplotlib.pyplot as plt\n",
    "\n",
    "x = np.linspace(0, 3, 200)\n",
    "plt.plot(x, x, label=\"y = x\")\n",
    "plt.plot(x, 2*np.sin(x), label=\"y = 2sin(x)\")\n",
    "plt.axhline(0, color='black', linestyle='--')\n",
    "plt.legend()\n",
    "plt.grid(True)\n",
    "plt.title(\"Intersección entre y = x y y = 2sin(x)\")\n",
    "plt.show()\n"
   ]
  },
  {
   "cell_type": "markdown",
   "id": "ed19ebe9",
   "metadata": {},
   "source": [
    "### Ejercicio 3\n",
    "\n",
    "**a.** Dibuje las gráficas para y = x y y = tan(x).\n",
    "\n",
    "**b.** Use el método de bisección para encontrar una aproximación dentro de 10⁻⁵ para el primer valor positivo de x con x = tan(x)."
   ]
  },
  {
   "cell_type": "markdown",
   "id": "bde89488",
   "metadata": {},
   "source": [
    "## Pseudocódigo para tan(x)=1−x\n"
   ]
  },
  {
   "cell_type": "markdown",
   "id": "c6f21c0d",
   "metadata": {},
   "source": [
    "Definir f(x) = tan(x) - (1 - x)\n",
    "\n",
    "Entradas:\n",
    "\n",
    "    a, b: intervalo inicial\n",
    "    tol: tolerancia (10^{-4})\n",
    "\n",
    "Si f(a) * f(b) ≥ 0:\n",
    "\n",
    "    Mostrar error y detener\n",
    "\n",
    "Mientras (b - a)/2 ≥ tol:\n",
    "\n",
    "    c ← (a + b)/2\n",
    "    Si f(c) == 0, retornar c\n",
    "    Si f(a) * f(c) < 0, entonces b ← c\n",
    "    Sino, a ← c\n",
    "\n",
    "Retornar c como la raíz aproximada\n"
   ]
  },
  {
   "cell_type": "markdown",
   "id": "6092509e",
   "metadata": {},
   "source": [
    "## Código"
   ]
  },
  {
   "cell_type": "code",
   "execution_count": 13,
   "id": "a705bd7c",
   "metadata": {},
   "outputs": [
    {
     "name": "stdout",
     "output_type": "stream",
     "text": [
      " Advertencia: f(a) * f(b) ≥ 0, puede que no haya una raíz garantizada.\n",
      " Raíz aproximada de tan(x) = 1 - x: x ≈ 0.999902\n",
      " Comprobación: f(x) = 1.556976e+00\n"
     ]
    }
   ],
   "source": [
    "import math\n",
    "\n",
    "def f(x):\n",
    "    return math.tan(x) - (1 - x)\n",
    "\n",
    "def biseccion(f, a, b, tol=1e-4):\n",
    "    try:\n",
    "        if f(a) * f(b) >= 0:\n",
    "            print(\" Advertencia: f(a) * f(b) ≥ 0, puede que no haya una raíz garantizada.\")\n",
    "            # Pero seguimos intentando igualmente...\n",
    "\n",
    "        while (b - a) / 2 > tol:\n",
    "            c = (a + b) / 2\n",
    "            if abs(f(c)) < tol:  # Para evitar errores por decimales\n",
    "                return c\n",
    "            elif f(a) * f(c) < 0:\n",
    "                b = c\n",
    "            else:\n",
    "                a = c\n",
    "        return (a + b) / 2\n",
    "    except Exception as e:\n",
    "        print(f\"Error durante la evaluación: {e}\")\n",
    "        return None\n",
    "\n",
    "# Usar un intervalo donde sepamos que hay raíz\n",
    "raiz = biseccion(f, 0.6, 1.0)\n",
    "\n",
    "if raiz is not None:\n",
    "    print(f\" Raíz aproximada de tan(x) = 1 - x: x ≈ {raiz:.6f}\")\n",
    "    print(f\" Comprobación: f(x) = {f(raiz):.6e}\")\n",
    "else:\n",
    "    print(\" No se encontró una raíz en el intervalo dado.\")\n",
    "\n"
   ]
  },
  {
   "cell_type": "markdown",
   "id": "3e22c772",
   "metadata": {},
   "source": [
    "## Gráfica de intersección"
   ]
  },
  {
   "cell_type": "code",
   "execution_count": 12,
   "id": "bbe22339",
   "metadata": {},
   "outputs": [
    {
     "data": {
      "image/png": "[encoded data removed]",
      "text/plain": [
       "<Figure size 640x480 with 1 Axes>"
      ]
     },
     "metadata": {},
     "output_type": "display_data"
    }
   ],
   "source": [
    "import numpy as np\n",
    "import matplotlib.pyplot as plt\n",
    "\n",
    "x = np.linspace(0.01, 1.5, 300)  # Evitar tan(x) en x = 0\n",
    "plt.plot(x, np.tan(x), label=\"y = tan(x)\")\n",
    "plt.plot(x, 1 - x, label=\"y = 1 - x\")\n",
    "plt.axhline(0, color='black', linestyle='--')\n",
    "plt.ylim(-5, 5)\n",
    "plt.legend()\n",
    "plt.title(\"Intersección entre y = tan(x) y y = 1 - x\")\n",
    "plt.grid(True)\n",
    "plt.show()\n"
   ]
  },
  {
   "cell_type": "markdown",
   "id": "e2cc9b05",
   "metadata": {},
   "source": [
    "### Ejercicio  4\n",
    "\n",
    "**a)** Dibuje las gráficas para \\( y = x^2 - 1 \\) y \\( y = e^{1 - x^2} \\).  \n",
    "\n",
    "\n",
    "**b)** Use el método de bisección para encontrar una aproximación dentro de \\( 10^{-3} \\) para un valor de \\( x \\) en el intervalo \\([-2, 0]\\), tal que:\n",
    "\n",
    "\\[\n",
    "x^2 - 1 = e^{1 - x^2}\n",
    "\\]\n"
   ]
  },
  {
   "cell_type": "markdown",
   "id": "6974a869",
   "metadata": {},
   "source": [
    "## Pseudocódigo \n"
   ]
  },
  {
   "cell_type": "markdown",
   "id": "1cbee3e8",
   "metadata": {},
   "source": [
    "Definir función f(x) = x^2 - 1 - e^(1 - x^2)\n",
    "\n",
    "Entrada:\n",
    "\n",
    "    a, b: extremos del intervalo [-2, 0]\n",
    "    tol: tolerancia = 10^-3\n",
    "\n",
    "Si f(a) * f(b) ≥ 0:\n",
    "\n",
    "    Mostrar advertencia\n",
    "\n",
    "Mientras (b - a)/2 ≥ tol:\n",
    "\n",
    "    c ← (a + b)/2\n",
    "    Si |f(c)| < tol:\n",
    "        Retornar c\n",
    "    Si f(a) * f(c) < 0:\n",
    "        b ← c\n",
    "    Sino:\n",
    "        a ← c\n",
    "\n",
    "Retornar c como la raíz aproximada\n"
   ]
  },
  {
   "cell_type": "markdown",
   "id": "81e66d1c",
   "metadata": {},
   "source": [
    "## Código"
   ]
  },
  {
   "cell_type": "code",
   "execution_count": 15,
   "id": "edb70e63",
   "metadata": {},
   "outputs": [
    {
     "name": "stdout",
     "output_type": "stream",
     "text": [
      "Valor con ruido aleatorio: x = 0.3437249010115957\n",
      " Raíz aproximada de x^2 - 1 = e^(1 - x^2): x ≈ -1.25195\n",
      " f(x) ≈ 3.81e-04\n"
     ]
    }
   ],
   "source": [
    "import math\n",
    "import random\n",
    "\n",
    "# Parte a: funciones y valor aleatorio\n",
    "def g1(x):\n",
    "    return x**2 - 1\n",
    "\n",
    "def g2(x):\n",
    "    return math.exp(1 - x**2)\n",
    "\n",
    "# Valor con aleatorio añadido\n",
    "x_base = 0.0001234\n",
    "x_random = x_base + random.uniform(0, 1)\n",
    "print(f\"Valor con ruido aleatorio: x = {x_random}\")\n",
    "\n",
    "# Parte b: función para la bisección\n",
    "def f(x):\n",
    "    return x**2 - 1 - math.exp(1 - x**2)\n",
    "\n",
    "def biseccion(f, a, b, tol=1e-3):\n",
    "    if f(a) * f(b) >= 0:\n",
    "        print(\"⚠️ Advertencia: f(a) * f(b) ≥ 0, puede que no haya una raíz garantizada.\")\n",
    "    \n",
    "    while (b - a) / 2 > tol:\n",
    "        c = (a + b) / 2\n",
    "        if abs(f(c)) < tol:\n",
    "            return c\n",
    "        elif f(a) * f(c) < 0:\n",
    "            b = c\n",
    "        else:\n",
    "            a = c\n",
    "    return (a + b) / 2\n",
    "\n",
    "# Aplicar bisección al intervalo [-2, 0]\n",
    "raiz = biseccion(f, -2, 0)\n",
    "\n",
    "if raiz is not None:\n",
    "    print(f\" Raíz aproximada de x^2 - 1 = e^(1 - x^2): x ≈ {raiz:.5f}\")\n",
    "    print(f\" f(x) ≈ {f(raiz):.2e}\")\n",
    "else:\n",
    "    print(\" No se encontró una raíz en el intervalo dado.\")\n"
   ]
  },
  {
   "cell_type": "markdown",
   "id": "bbb51894",
   "metadata": {},
   "source": [
    "## Gráfica de intersección"
   ]
  },
  {
   "cell_type": "code",
   "execution_count": 16,
   "id": "e90918ea",
   "metadata": {},
   "outputs": [
    {
     "data": {
      "image/png": "[encoded data removed]",
      "text/plain": [
       "<Figure size 640x480 with 1 Axes>"
      ]
     },
     "metadata": {},
     "output_type": "display_data"
    }
   ],
   "source": [
    "import numpy as np\n",
    "import matplotlib.pyplot as plt\n",
    "\n",
    "x_vals = np.linspace(-2.5, 2.5, 400)\n",
    "y1 = x_vals**2 - 1\n",
    "y2 = np.exp(1 - x_vals**2)\n",
    "\n",
    "plt.plot(x_vals, y1, label=\"y = x² - 1\")\n",
    "plt.plot(x_vals, y2, label=\"y = e^(1 - x²)\")\n",
    "plt.axhline(0, color=\"black\", linestyle=\"--\")\n",
    "plt.grid(True)\n",
    "plt.legend()\n",
    "plt.title(\"Intersección entre x² - 1 y e^(1 - x²)\")\n",
    "plt.show()\n"
   ]
  },
  {
   "cell_type": "markdown",
   "id": "cf0d64cd",
   "metadata": {},
   "source": [
    "### Ejercicio 5\n",
    "\n",
    "Sea \\( f(x) = (x + 3)(x + 1)^2(x - 1)^3(x - 3) \\).  \n",
    "¿En qué cero de \\( f \\) converge el método de bisección cuando se aplica en los siguientes intervalos?\n",
    "\n",
    "- a. [−1.5, 2.5]\n",
    "- b. [−0.5, 2.4]\n",
    "- c. [−0.5, 3]\n",
    "- d. [−3, −0.5]\n"
   ]
  },
  {
   "cell_type": "markdown",
   "id": "56b18c54",
   "metadata": {},
   "source": [
    "## Pseudocódigo \n"
   ]
  },
  {
   "cell_type": "markdown",
   "id": "63b1d9c7",
   "metadata": {},
   "source": [
    "Definir f(x)\n",
    "\n",
    "Para cada intervalo [a, b]:\n",
    "\n",
    "    Si f(a) * f(b) < 0:\n",
    "        Aplicar bisección\n",
    "        Retornar raíz aproximada\n",
    "        \n",
    "    Sino:\n",
    "        No hay cambio de signo ⇒ no converge\n"
   ]
  },
  {
   "cell_type": "markdown",
   "id": "b1d37778",
   "metadata": {},
   "source": [
    "## Código"
   ]
  },
  {
   "cell_type": "code",
   "execution_count": 17,
   "id": "7f693bdb",
   "metadata": {},
   "outputs": [
    {
     "name": "stdout",
     "output_type": "stream",
     "text": [
      " En el intervalo a = [-1.5, 2.5], raíz encontrada: x ≈ 1.00000\n",
      " En el intervalo b = [-0.5, 2.4], raíz encontrada: x ≈ 0.99531\n",
      " Intervalo [-0.5, 3] no cumple el criterio de cambio de signo.\n",
      " En el intervalo c = [-0.5, 3], no se pudo aplicar el método.\n",
      " Intervalo [-3, -0.5] no cumple el criterio de cambio de signo.\n",
      " En el intervalo d = [-3, -0.5], no se pudo aplicar el método.\n"
     ]
    }
   ],
   "source": [
    "def f(x):\n",
    "    return (x + 3) * (x + 1)**2 * (x - 1)**3 * (x - 3)\n",
    "\n",
    "def biseccion(f, a, b, tol=1e-4):\n",
    "    if f(a) * f(b) >= 0:\n",
    "        print(f\" Intervalo [{a}, {b}] no cumple el criterio de cambio de signo.\")\n",
    "        return None\n",
    "    \n",
    "    while (b - a) / 2 > tol:\n",
    "        c = (a + b) / 2\n",
    "        if abs(f(c)) < tol:\n",
    "            return c\n",
    "        elif f(a) * f(c) < 0:\n",
    "            b = c\n",
    "        else:\n",
    "            a = c\n",
    "    return (a + b) / 2\n",
    "\n",
    "# Lista de intervalos a analizar\n",
    "intervalos = [\n",
    "    (\"a\", -1.5, 2.5),\n",
    "    (\"b\", -0.5, 2.4),\n",
    "    (\"c\", -0.5, 3),\n",
    "    (\"d\", -3, -0.5),\n",
    "]\n",
    "\n",
    "for etiqueta, a, b in intervalos:\n",
    "    raiz = biseccion(f, a, b)\n",
    "    if raiz is not None:\n",
    "        print(f\" En el intervalo {etiqueta} = [{a}, {b}], raíz encontrada: x ≈ {raiz:.5f}\")\n",
    "    else:\n",
    "        print(f\" En el intervalo {etiqueta} = [{a}, {b}], no se pudo aplicar el método.\")\n"
   ]
  },
  {
   "cell_type": "markdown",
   "id": "02d59775",
   "metadata": {},
   "source": [
    "## Gráfica de intersección"
   ]
  },
  {
   "cell_type": "code",
   "execution_count": 18,
   "id": "29ec0505",
   "metadata": {},
   "outputs": [
    {
     "data": {
      "image/png": "[encoded data removed]",
      "text/plain": [
       "<Figure size 1000x600 with 1 Axes>"
      ]
     },
     "metadata": {},
     "output_type": "display_data"
    }
   ],
   "source": [
    "import numpy as np\n",
    "import matplotlib.pyplot as plt\n",
    "\n",
    "# Definir la función\n",
    "def f(x):\n",
    "    return (x + 3) * (x + 1)**2 * (x - 1)**3 * (x - 3)\n",
    "\n",
    "# Crear valores de x en un rango que incluya todos los intervalos del ejercicio\n",
    "x_vals = np.linspace(-4, 4, 1000)\n",
    "y_vals = f(x_vals)\n",
    "\n",
    "# Crear la gráfica\n",
    "plt.figure(figsize=(10, 6))\n",
    "plt.plot(x_vals, y_vals, label=r\"$f(x) = (x+3)(x+1)^2(x-1)^3(x-3)$\", color=\"blue\")\n",
    "plt.axhline(0, color=\"black\", linestyle=\"--\")\n",
    "plt.axvline(-3, color=\"red\", linestyle=\":\", label=\"Raíz en x = -3\")\n",
    "plt.axvline(-1, color=\"orange\", linestyle=\":\", label=\"Raíz en x = -1 (multiplicidad 2)\")\n",
    "plt.axvline(1, color=\"green\", linestyle=\":\", label=\"Raíz en x = 1 (multiplicidad 3)\")\n",
    "plt.axvline(3, color=\"purple\", linestyle=\":\", label=\"Raíz en x = 3\")\n",
    "plt.title(\"Gráfica de f(x) con sus raíces\")\n",
    "plt.xlabel(\"x\")\n",
    "plt.ylabel(\"f(x)\")\n",
    "plt.grid(True)\n",
    "plt.legend()\n",
    "plt.show()\n"
   ]
  },
  {
   "cell_type": "markdown",
   "id": "36bde7c8",
   "metadata": {},
   "source": [
    "## Ejercicio Aplicado\n",
    "### Ejercicio 1\n",
    "\n",
    "Un abrevadero de longitud \\( L \\) tiene una sección transversal en forma de semicírculo con radio \\( r \\).  \n",
    "Cuando se llena con agua hasta una distancia \\( h \\) desde la parte superior, el volumen de agua es:\n",
    "\n",
    "\\[\n",
    "V = L \\left( 0.5 \\pi r^2 - r^2 \\arcsin\\left( \\frac{h}{r} \\right) - h \\sqrt{r^2 - h^2} \\right)\n",
    "\\]\n",
    "\n",
    "\n",
    "\n",
    "Suponga que:  \n",
    "- \\( L = 10 \\) cm  \n",
    "- \\( r = 1 \\) cm  \n",
    "- \\( V = 12.4 \\) cm³\n",
    "\n",
    "Encuentre la profundidad del agua \\( h \\) dentro del abrevadero con una precisión de ±0.01 cm.\n"
   ]
  },
  {
   "cell_type": "markdown",
   "id": "bc85cb62",
   "metadata": {},
   "source": [
    "## Pseudocódigo "
   ]
  },
  {
   "cell_type": "markdown",
   "id": "3c6c1dbe",
   "metadata": {},
   "source": [
    "1. Definir función volumen(h):\n",
    "\n",
    "   Usar la fórmula del volumen V en función de h.\n",
    "\n",
    "2. Definir función f(h) = volumen(h) - V_dado\n",
    "\n",
    "3. Aplicar método de bisección sobre f(h) en el intervalo [0, r] con tolerancia de 0.01 cm.\n",
    "\n",
    "4. Retornar el valor de h que hace f(h) ≈ 0\n"
   ]
  },
  {
   "cell_type": "markdown",
   "id": "de4b50b1",
   "metadata": {},
   "source": [
    "## Código"
   ]
  },
  {
   "cell_type": "code",
   "execution_count": 20,
   "id": "0d4ac3d3",
   "metadata": {},
   "outputs": [
    {
     "name": "stdout",
     "output_type": "stream",
     "text": [
      " La profundidad aproximada del agua es h ≈ 0.164 cm\n",
      " Comprobación del volumen: V(h) ≈ 12.441 cm³\n"
     ]
    }
   ],
   "source": [
    "import math\n",
    "\n",
    "# Parámetros dados\n",
    "L = 10      # cm\n",
    "r = 1       # cm\n",
    "V_obj = 12.4  # cm³\n",
    "\n",
    "def volumen(h):\n",
    "    # Fórmula del volumen del abrevadero\n",
    "    return L * (0.5 * math.pi * r**2 - r**2 * math.asin(h / r) - h * math.sqrt(r**2 - h**2))\n",
    "\n",
    "def f(h):\n",
    "    return volumen(h) - V_obj\n",
    "\n",
    "def biseccion(f, a, b, tol=0.01):\n",
    "    if f(a) * f(b) >= 0:\n",
    "        print(\"No hay cambio de signo.\")\n",
    "        return None\n",
    "    \n",
    "    while (b - a)/2 > tol:\n",
    "        c = (a + b)/2\n",
    "        if abs(f(c)) < tol:\n",
    "            return c\n",
    "        elif f(a)*f(c) < 0:\n",
    "            b = c\n",
    "        else:\n",
    "            a = c\n",
    "    return (a + b)/2\n",
    "\n",
    "# Buscar h en [0, r]\n",
    "h_aprox = biseccion(f, 0, r)\n",
    "\n",
    "if h_aprox:\n",
    "    print(f\" La profundidad aproximada del agua es h ≈ {h_aprox:.3f} cm\")\n",
    "    print(f\" Comprobación del volumen: V(h) ≈ {volumen(h_aprox):.3f} cm³\")\n"
   ]
  },
  {
   "cell_type": "markdown",
   "id": "b965fcdd",
   "metadata": {},
   "source": [
    "### Ejercicio 2: Caída con resistencia del aire\n",
    "\n",
    "Un objeto que cae verticalmente a través del aire está sujeto a una resistencia viscosa, así como a la fuerza de gravedad.  \n",
    "Suponga que un objeto con masa \\( m \\) cae desde una altura \\( s_0 \\) y que la altura del objeto después de \\( t \\) segundos es:\n",
    "\n",
    "\\[\n",
    "s(t) = s_0 - \\frac{mg}{k} t + \\frac{m^2 g}{k^2} \\left(1 - e^{-kt/m} \\right)\n",
    "\\]\n",
    "\n",
    "donde:\n",
    "- \\( g = 9.81 \\, m/s^2 \\) representa la gravedad  \n",
    "- \\( k \\) es el coeficiente de resistencia del aire en \\( Ns/m \\)  \n",
    "\n",
    "Suponga que:\n",
    "- \\( s_0 = 300 \\, m \\)  \n",
    "- \\( m = 0.25 \\, kg \\)  \n",
    "- \\( k = 0.1 \\, Ns/m \\)\n",
    "\n",
    "**Encuentre, dentro de \\( \\pm 0.01 \\) segundos, el tiempo que tarda el objeto en golpear el piso** (es decir, cuando \\( s(t) = 0 \\)).\n"
   ]
  },
  {
   "cell_type": "markdown",
   "id": "cfc3a2cd",
   "metadata": {},
   "source": [
    "## Pseudocódigo "
   ]
  },
  {
   "cell_type": "markdown",
   "id": "31bbe515",
   "metadata": {},
   "source": [
    "Entradas: s0 = 300, m = 0.25, k = 0.1, g = 9.81, tolerancia = 0.01\n",
    "\n",
    "Función s(t): \n",
    "\n",
    "    s(t) = s0 - (m * g / k) * t + (m^2 * g / k^2) * (1 - exp(-k * t / m))\n",
    "\n",
    "Función bisección(f, a, b, tol):\n",
    "\n",
    "    Si f(a) * f(b) ≥ 0 → retornar error\n",
    "    Mientras (b - a)/2 > tol:\n",
    "        c = (a + b)/2\n",
    "        Si f(c) == 0 → retornar c\n",
    "        Si f(a)*f(c) < 0 → b = c\n",
    "        Si f(b)*f(c) < 0 → a = c\n",
    "    retornar (a + b)/2\n",
    "\n",
    "\n",
    "Objetivo: Encontrar t tal que s(t) = 0\n",
    "\n",
    "Llamar bisección con f(t) = s(t), intervalo [0, 20], tolerancia = 0.01\n",
    "\n",
    "Imprimir t encontrado\n"
   ]
  },
  {
   "cell_type": "markdown",
   "id": "d6aadb77",
   "metadata": {},
   "source": [
    "## Código"
   ]
  },
  {
   "cell_type": "code",
   "execution_count": null,
   "id": "a57b8855",
   "metadata": {},
   "outputs": [],
   "source": [
    "import math\n",
    "\n",
    "# Datos dados\n",
    "s0 = 300\n",
    "m = 0.25\n",
    "k = 0.1\n",
    "g = 9.81\n",
    "\n",
    "# Función de altura s(t)\n",
    "def s(t):\n",
    "    term1 = s0\n",
    "    term2 = -(m * g / k) * t\n",
    "    term3 = (m**2 * g / k**2) * (1 - math.exp(-k * t / m))\n",
    "    return term1 + term2 + term3\n",
    "\n",
    "# Método de bisección\n",
    "def biseccion(f, a, b, tol=0.01):\n",
    "    if f(a) * f(b) >= 0:\n",
    "        print(\"No hay cambio de signo en el intervalo.\")\n",
    "        return None\n",
    "\n",
    "    while (b - a) / 2 > tol:\n",
    "        c = (a + b) / 2\n",
    "        if f(c) == 0:\n",
    "            return c\n",
    "        elif f(a) * f(c) < 0:\n",
    "            b = c\n",
    "        else:\n",
    "            a = c\n",
    "    return (a + b) / 2\n",
    "\n",
    "# Buscar el tiempo cuando el objeto llega al suelo (s(t) = 0)\n",
    "tiempo = biseccion(s, 0, 20, tol=0.01)\n",
    "print(f\"El objeto toca el suelo aproximadamente en t = {tiempo:.2f} segundos\")\n"
   ]
  },
  {
   "cell_type": "markdown",
   "id": "a8e9b97e",
   "metadata": {},
   "source": [
    "## EJERCICIOS TEÓRICOS"
   ]
  },
  {
   "cell_type": "markdown",
   "id": "aa10c844",
   "metadata": {},
   "source": [
    "## Ejercicio 1\n",
    "1. Use el teorema 2.1 para encontrar una cota para el número de iteraciones necesarias para lograr una aproximación con precisión de \\(10^{-4}\\) para la solución de:\n",
    "\n",
    "\\[\n",
    "x^3 - x - 1 = 0\n",
    "\\]\n",
    "\n",
    "que se encuentra dentro del intervalo \\([1, 2]\\). Encuentre una aproximación para la raíz con este grado de precisión.\n"
   ]
  },
  {
   "cell_type": "markdown",
   "id": "ad628e84",
   "metadata": {},
   "source": [
    "## Pseudocódigo "
   ]
  },
  {
   "cell_type": "markdown",
   "id": "d527caaa",
   "metadata": {},
   "source": [
    "Entradas:\n",
    "\n",
    "    a, b: extremos del intervalo [a, b]\n",
    "\n",
    "    tol: tolerancia (por ejemplo, 10^{-4})\n",
    "\n",
    "1. Calcular número de iteraciones necesarias N:\n",
    "\n",
    "       N >= log2((b - a) / tol)\n",
    "\n",
    "2. Para i desde 1 hasta N hacer:\n",
    "\n",
    "       c = (a + b) / 2\n",
    "       Si f(a) * f(c) < 0 entonces:\n",
    "           b = c\n",
    "       Sino:\n",
    "           a = c\n",
    "\n",
    "3. Retornar c como la raíz aproximada\n"
   ]
  },
  {
   "cell_type": "markdown",
   "id": "b5807b67",
   "metadata": {},
   "source": [
    "## Código"
   ]
  },
  {
   "cell_type": "code",
   "execution_count": 21,
   "id": "268ea21d",
   "metadata": {},
   "outputs": [
    {
     "name": "stdout",
     "output_type": "stream",
     "text": [
      "Número mínimo de iteraciones necesarias: 14\n",
      "Iteración 1: c = 1.5, f(c) = 0.875\n",
      "Iteración 2: c = 1.25, f(c) = -0.296875\n",
      "Iteración 3: c = 1.375, f(c) = 0.224609375\n",
      "Iteración 4: c = 1.3125, f(c) = -0.051513671875\n",
      "Iteración 5: c = 1.34375, f(c) = 0.082611083984375\n",
      "Iteración 6: c = 1.328125, f(c) = 0.014575958251953125\n",
      "Iteración 7: c = 1.3203125, f(c) = -0.018710613250732422\n",
      "Iteración 8: c = 1.32421875, f(c) = -0.0021279454231262207\n",
      "Iteración 9: c = 1.326171875, f(c) = 0.006208829581737518\n",
      "Iteración 10: c = 1.3251953125, f(c) = 0.002036650665104389\n",
      "Iteración 11: c = 1.32470703125, f(c) = -4.659488331526518e-05\n",
      "Iteración 12: c = 1.324951171875, f(c) = 0.000994790971162729\n",
      "Iteración 13: c = 1.3248291015625, f(c) = 0.00047403881944774184\n",
      "Iteración 14: c = 1.32476806640625, f(c) = 0.00021370716262936185\n",
      "Aproximación de la raíz con tolerancia 0.0001: 1.32476806640625\n"
     ]
    }
   ],
   "source": [
    "import math\n",
    "\n",
    "# Función objetivo\n",
    "def f(x):\n",
    "    return x**3 - x - 1\n",
    "\n",
    "# Parámetros del intervalo y tolerancia\n",
    "a = 1\n",
    "b = 2\n",
    "tol = 1e-4\n",
    "\n",
    "# Cálculo del número de iteraciones usando el Teorema 2.1\n",
    "N = math.ceil(math.log2((b - a) / tol))\n",
    "print(f\"Número mínimo de iteraciones necesarias: {N}\")\n",
    "\n",
    "# Método de bisección\n",
    "for i in range(N):\n",
    "    c = (a + b) / 2\n",
    "    if f(a) * f(c) < 0:\n",
    "        b = c\n",
    "    else:\n",
    "        a = c\n",
    "    print(f\"Iteración {i+1}: c = {c}, f(c) = {f(c)}\")\n",
    "\n",
    "# Resultado final\n",
    "print(f\"Aproximación de la raíz con tolerancia {tol}: {c}\")\n"
   ]
  },
  {
   "cell_type": "markdown",
   "id": "9a29f4b8",
   "metadata": {},
   "source": [
    "## Ejercicio 2\n",
    "2. La función definida por \n",
    "\n",
    "$$\n",
    "f(x) = \\sin(\\pi x)\n",
    "$$\n",
    "\n",
    "\n",
    "tiene ceros en cada entero. Muestre que cuando \\( -1 < a < 0 \\) y \\( 2 < b < 3 \\), el método de bisección converge a:\n",
    "\n",
    "- a. \\( 0 \\), si \\( a + b < 2 \\)  \n",
    "- b. \\( 2 \\), si \\( a + b > 2 \\)  \n",
    "- c. \\( 1 \\), si \\( a + b = 2 \\)"
   ]
  },
  {
   "cell_type": "markdown",
   "id": "92c76b5f",
   "metadata": {},
   "source": [
    "## Pseudocódigo "
   ]
  },
  {
   "cell_type": "markdown",
   "id": "aecef7b8",
   "metadata": {},
   "source": [
    "Entradas:\n",
    "\n",
    "    a, b: extremos del intervalo (deben cumplir -1 < a < 0 y 2 < b < 3)\n",
    "    tol: tolerancia deseada\n",
    "    max_iter: número máximo de iteraciones\n",
    "\n",
    "1. Definir f(x) = sin(pi * x)\n",
    "\n",
    "2. Para i desde 1 hasta max_iter hacer:\n",
    "\n",
    "       c = (a + b) / 2\n",
    "       Si |f(c)| < tol entonces:\n",
    "           retornar c\n",
    "       Si f(a) * f(c) < 0:\n",
    "           b = c\n",
    "       Sino:\n",
    "           a = c\n",
    "\n",
    "3. Retornar c como la raíz aproximada\n"
   ]
  },
  {
   "cell_type": "markdown",
   "id": "e23828b1",
   "metadata": {},
   "source": [
    "## Código"
   ]
  },
  {
   "cell_type": "code",
   "execution_count": 22,
   "id": "af893f75",
   "metadata": {},
   "outputs": [
    {
     "name": "stdout",
     "output_type": "stream",
     "text": [
      "El método de bisección converge a 0 (porque a + b < 2)\n",
      "Iteración 1: c = 0.95, f(c) = 0.15643446504023098\n",
      "Iteración 2: c = 0.22499999999999998, f(c) = 0.6494480483301835\n",
      "Iteración 3: c = -0.1375, f(c) = -0.41865973753742813\n",
      "Iteración 4: c = 0.04374999999999998, f(c) = 0.13701234168196796\n",
      "Iteración 5: c = -0.046875000000000014, f(c) = -0.1467304744553618\n",
      "Iteración 6: c = -0.0015625000000000153, f(c) = -0.004908718807998038\n",
      "Iteración 7: c = 0.021093749999999984, f(c) = 0.06621947867363029\n",
      "Iteración 8: c = 0.009765624999999984, f(c) = 0.030674803176636577\n",
      "Iteración 9: c = 0.0041015624999999846, f(c) = 0.012885082049912148\n",
      "Iteración 10: c = 0.0012695312499999846, f(c) = 0.0039883394747727945\n",
      "Iteración 11: c = -0.0001464843750000153, f(c) = -0.00046019422012251503\n",
      "Iteración 12: c = 0.0005615234374999847, f(c) = 0.0017640769911087422\n",
      "Iteración 13: c = 0.00020751953124998468, f(c) = 0.0006519417886690777\n",
      "Iteración 14: c = 3.0517578124984686e-05, f(c) = 9.587379909592923e-05\n",
      "Iteración 15: c = -5.798339843751531e-05, f(c) = -0.0001821602175540508\n",
      "Iteración 16: c = -1.3732910156265313e-05, f(c) = -4.3143209645947754e-05\n",
      "Iteración 17: c = 8.392333984359686e-06, f(c) = 2.6365294788681803e-05\n",
      "Iteración 18: c = -2.6702880859528133e-06, f(c) = -8.388957433699313e-06\n",
      "Iteración 19: c = 2.8610229492034365e-06, f(c) = 8.9881686788483e-06\n",
      "Aproximación de la raíz: 9.536743162531158e-08\n"
     ]
    }
   ],
   "source": [
    "import math\n",
    "\n",
    "# Definir la función\n",
    "def f(x):\n",
    "    return math.sin(math.pi * x)\n",
    "\n",
    "# Parámetros del intervalo según condiciones dadas\n",
    "a = -0.5\n",
    "b = 2.4\n",
    "tol = 1e-6\n",
    "max_iter = 50\n",
    "\n",
    "# Evaluación de la condición de convergencia\n",
    "suma = a + b\n",
    "if suma < 2:\n",
    "    print(\"El método de bisección converge a 0 (porque a + b < 2)\")\n",
    "elif suma > 2:\n",
    "    print(\"El método de bisección converge a 2 (porque a + b > 2)\")\n",
    "else:\n",
    "    print(\"El método de bisección converge a 1 (porque a + b = 2)\")\n",
    "\n",
    "# Aplicar bisección para encontrar la raíz\n",
    "for i in range(max_iter):\n",
    "    c = (a + b) / 2\n",
    "    if abs(f(c)) < tol:\n",
    "        break\n",
    "    if f(a) * f(c) < 0:\n",
    "        b = c\n",
    "    else:\n",
    "        a = c\n",
    "    print(f\"Iteración {i+1}: c = {c}, f(c) = {f(c)}\")\n",
    "\n",
    "print(f\"Aproximación de la raíz: {c}\")\n"
   ]
  }
 ],
 "metadata": {
  "kernelspec": {
   "display_name": "Python 3",
   "language": "python",
   "name": "python3"
  },
  "language_info": {
   "codemirror_mode": {
    "name": "ipython",
    "version": 3
   },
   "file_extension": ".py",
   "mimetype": "text/x-python",
   "name": "python",
   "nbconvert_exporter": "python",
   "pygments_lexer": "ipython3",
   "version": "3.11.9"
  }
 },
 "nbformat": 4,
 "nbformat_minor": 5
}
